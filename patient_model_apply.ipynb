{
 "cells": [
  {
   "cell_type": "code",
   "execution_count": 1,
   "metadata": {},
   "outputs": [
    {
     "name": "stderr",
     "output_type": "stream",
     "text": [
      "/usr/local/pyenv/versions/3.6.5/lib/python3.6/site-packages/sklearn/ensemble/weight_boosting.py:29: DeprecationWarning: numpy.core.umath_tests is an internal NumPy module and should not be imported. It will be removed in a future NumPy release.\n",
      "  from numpy.core.umath_tests import inner1d\n"
     ]
    }
   ],
   "source": [
    "import matplotlib.pyplot as plt\n",
    "import matplotlib.cm as cm\n",
    "import time\n",
    "import pandas as pd\n",
    "import h5py\n",
    "import os\n",
    "from sklearn.preprocessing import LabelEncoder\n",
    "import numpy as np\n",
    "from sklearn.linear_model import LogisticRegression\n",
    "from sklearn.model_selection import train_test_split\n",
    "from sklearn import metrics\n",
    "\n",
    "from sklearn.svm import LinearSVC\n",
    "\n",
    "from sklearn.svm import SVC\n",
    "\n",
    "from sklearn.tree import DecisionTreeClassifier\n",
    "from sklearn.tree import export_graphviz\n",
    "from IPython.display import Image, display_png\n",
    "import csv\n",
    "#import pydotplus as pdp\n",
    "\n",
    "from sklearn.ensemble import RandomForestClassifier\n",
    "\n",
    "import seaborn as sns"
   ]
  },
  {
   "cell_type": "code",
   "execution_count": 6,
   "metadata": {},
   "outputs": [],
   "source": [
    "dic_type={}\n",
    "dic_type[1]=\"str\"\n",
    "dic_type[2]=\"str\"\n",
    "for i in range(3,11691):\n",
    "    dic_type[2]=\"float64\""
   ]
  },
  {
   "cell_type": "code",
   "execution_count": 3,
   "metadata": {
    "scrolled": true
   },
   "outputs": [],
   "source": [
    "ft2=pd.read_table(\"GTEx_Analysis_2016-01-15_v7_RNASeQCv1.1.8_gene_tpm.gct/GTEx_Analysis_2016-01-15_v7_RNASeQCv1.1.8_gene_tpm.gct\", sep=\"\\t\", header=2,dtype=dic_type)"
   ]
  },
  {
   "cell_type": "code",
   "execution_count": 17,
   "metadata": {},
   "outputs": [
    {
     "name": "stdout",
     "output_type": "stream",
     "text": [
      "[[0.9523401088197916 0.0 1.7339167843419694 ... 0.0 0.0 0.0]\n",
      " [0.0 0.0 0.7452293606682078 ... 0.0 0.0 0.0]\n",
      " [0.0 0.0 2.9162661613050176 ... 0.0 0.0 0.0]\n",
      " ...\n",
      " [0.0 0.0 28.43705157723342 ... 0.0 0.0 0.0]\n",
      " [0.0 0.0 0.9253910505345556 ... 0.0 0.0 0.0]\n",
      " [0.8666048035450141 0.0 1.5797158401172011 ... 0.0 0.0 0.0]]\n"
     ]
    }
   ],
   "source": [
    "print(merged_tsv3.iloc[1:80,:].values)"
   ]
  },
  {
   "cell_type": "code",
   "execution_count": 18,
   "metadata": {
    "scrolled": true
   },
   "outputs": [],
   "source": [
    "#分割して保存\n",
    "np.save(\"TCGA-ACC.htseq_fpkm.npy\",merged_tsv3.iloc[1:80,:].values)"
   ]
  },
  {
   "cell_type": "code",
   "execution_count": 19,
   "metadata": {},
   "outputs": [
    {
     "data": {
      "text/plain": [
       "(79, 56202)"
      ]
     },
     "execution_count": 19,
     "metadata": {},
     "output_type": "execute_result"
    }
   ],
   "source": [
    "merged_tsv3.iloc[1:80,:].shape\n",
    "#np.save(\"train.npy\",ft4)\n",
    "#np.save(\"test.npy\",df4)"
   ]
  },
  {
   "cell_type": "code",
   "execution_count": 2,
   "metadata": {},
   "outputs": [],
   "source": [
    "ft4=np.load(\"train.npy\")\n",
    "df4=np.load(\"test.npy\")"
   ]
  },
  {
   "cell_type": "code",
   "execution_count": 3,
   "metadata": {},
   "outputs": [],
   "source": [
    "X_train, X_test, y_train, y_test =train_test_split(ft4,df4)\n",
    "#print(ft3.shape,X_train.shape,y_train.shape)\n",
    "#print(ft3.shape,X_train.shape,y_train.shape)"
   ]
  },
  {
   "cell_type": "code",
   "execution_count": 4,
   "metadata": {},
   "outputs": [
    {
     "name": "stderr",
     "output_type": "stream",
     "text": [
      "Using TensorFlow backend.\n",
      "/usr/local/pyenv/versions/3.6.5/lib/python3.6/importlib/_bootstrap.py:219: RuntimeWarning: compiletime version 3.5 of module 'tensorflow.python.framework.fast_tensor_util' does not match runtime version 3.6\n",
      "  return f(*args, **kwds)\n"
     ]
    },
    {
     "name": "stdout",
     "output_type": "stream",
     "text": [
      "Train on 6000 samples, validate on 2766 samples\n",
      "Epoch 1/150\n",
      " - 6s - loss: 13.0482 - acc: 0.0732 - val_loss: 12.4376 - val_acc: 0.1396\n",
      "Epoch 2/150\n",
      " - 3s - loss: 10.3610 - acc: 0.1795 - val_loss: 8.1041 - val_acc: 0.2343\n",
      "Epoch 3/150\n",
      " - 3s - loss: 7.0852 - acc: 0.2760 - val_loss: 4.4038 - val_acc: 0.4469\n",
      "Epoch 4/150\n",
      " - 3s - loss: 4.0726 - acc: 0.4298 - val_loss: 4.8190 - val_acc: 0.3012\n",
      "Epoch 5/150\n",
      " - 3s - loss: 3.1555 - acc: 0.4857 - val_loss: 1.4671 - val_acc: 0.7043\n",
      "Epoch 6/150\n",
      " - 3s - loss: 1.5520 - acc: 0.7067 - val_loss: 1.0856 - val_acc: 0.7979\n",
      "Epoch 7/150\n",
      " - 3s - loss: 1.2712 - acc: 0.7567 - val_loss: 0.9098 - val_acc: 0.8351\n",
      "Epoch 8/150\n",
      " - 3s - loss: 1.2328 - acc: 0.7573 - val_loss: 0.8223 - val_acc: 0.8478\n",
      "Epoch 9/150\n",
      " - 3s - loss: 1.0656 - acc: 0.7917 - val_loss: 0.8001 - val_acc: 0.8435\n",
      "Epoch 10/150\n",
      " - 3s - loss: 0.9703 - acc: 0.8013 - val_loss: 0.9123 - val_acc: 0.8207\n",
      "Epoch 11/150\n",
      " - 3s - loss: 0.8182 - acc: 0.8172 - val_loss: 0.6160 - val_acc: 0.8492\n",
      "Epoch 12/150\n",
      " - 3s - loss: 0.7211 - acc: 0.8250 - val_loss: 0.5431 - val_acc: 0.8764\n",
      "Epoch 13/150\n",
      " - 3s - loss: 0.6306 - acc: 0.8432 - val_loss: 0.4698 - val_acc: 0.8973\n",
      "Epoch 14/150\n",
      " - 3s - loss: 0.5532 - acc: 0.8598 - val_loss: 0.4505 - val_acc: 0.8926\n",
      "Epoch 15/150\n",
      " - 3s - loss: 0.5059 - acc: 0.8720 - val_loss: 0.5059 - val_acc: 0.8727\n",
      "Epoch 16/150\n",
      " - 3s - loss: 0.4999 - acc: 0.8693 - val_loss: 0.4329 - val_acc: 0.8999\n",
      "Epoch 17/150\n",
      " - 3s - loss: 0.4751 - acc: 0.8783 - val_loss: 0.4379 - val_acc: 0.8962\n",
      "Epoch 18/150\n",
      " - 3s - loss: 0.4775 - acc: 0.8775 - val_loss: 0.3826 - val_acc: 0.9129\n",
      "Epoch 19/150\n",
      " - 3s - loss: 0.4136 - acc: 0.8925 - val_loss: 0.3971 - val_acc: 0.9132\n",
      "Epoch 20/150\n",
      " - 3s - loss: 0.4268 - acc: 0.8878 - val_loss: 0.3796 - val_acc: 0.9103\n",
      "Epoch 21/150\n",
      " - 3s - loss: 0.3866 - acc: 0.8992 - val_loss: 0.3796 - val_acc: 0.9140\n",
      "Epoch 22/150\n",
      " - 3s - loss: 0.3840 - acc: 0.9032 - val_loss: 0.3626 - val_acc: 0.9125\n",
      "Epoch 23/150\n",
      " - 3s - loss: 0.3844 - acc: 0.9010 - val_loss: 0.3446 - val_acc: 0.9190\n",
      "Epoch 24/150\n",
      " - 3s - loss: 0.3827 - acc: 0.8972 - val_loss: 0.4550 - val_acc: 0.8991\n",
      "Epoch 25/150\n",
      " - 3s - loss: 0.3916 - acc: 0.8940 - val_loss: 0.4023 - val_acc: 0.9056\n",
      "Epoch 26/150\n",
      " - 3s - loss: 0.3692 - acc: 0.9020 - val_loss: 0.3592 - val_acc: 0.9107\n",
      "Epoch 27/150\n",
      " - 3s - loss: 0.3980 - acc: 0.8945 - val_loss: 0.3026 - val_acc: 0.9353\n",
      "Epoch 28/150\n",
      " - 3s - loss: 0.3522 - acc: 0.9063 - val_loss: 0.3094 - val_acc: 0.9306\n",
      "Epoch 29/150\n",
      " - 3s - loss: 0.3311 - acc: 0.9135 - val_loss: 0.2954 - val_acc: 0.9324\n",
      "Epoch 30/150\n",
      " - 3s - loss: 0.3284 - acc: 0.9148 - val_loss: 0.2932 - val_acc: 0.9320\n",
      "Epoch 31/150\n",
      " - 3s - loss: 0.2951 - acc: 0.9202 - val_loss: 0.2879 - val_acc: 0.9353\n",
      "Epoch 32/150\n",
      " - 3s - loss: 0.3214 - acc: 0.9143 - val_loss: 0.2787 - val_acc: 0.9324\n",
      "Epoch 33/150\n",
      " - 3s - loss: 0.2911 - acc: 0.9225 - val_loss: 0.2900 - val_acc: 0.9313\n",
      "Epoch 34/150\n",
      " - 3s - loss: 0.2982 - acc: 0.9173 - val_loss: 0.2897 - val_acc: 0.9299\n",
      "Epoch 35/150\n",
      " - 3s - loss: 0.3039 - acc: 0.9200 - val_loss: 0.3016 - val_acc: 0.9291\n",
      "Epoch 36/150\n",
      " - 3s - loss: 0.3139 - acc: 0.9095 - val_loss: 0.2845 - val_acc: 0.9342\n",
      "Epoch 37/150\n",
      " - 3s - loss: 0.3160 - acc: 0.9170 - val_loss: 0.4089 - val_acc: 0.9042\n",
      "Epoch 38/150\n",
      " - 3s - loss: 0.2969 - acc: 0.9198 - val_loss: 0.2449 - val_acc: 0.9450\n",
      "Epoch 39/150\n",
      " - 3s - loss: 0.2799 - acc: 0.9245 - val_loss: 0.2557 - val_acc: 0.9425\n",
      "Epoch 40/150\n",
      " - 3s - loss: 0.2530 - acc: 0.9332 - val_loss: 0.2446 - val_acc: 0.9443\n",
      "Epoch 41/150\n",
      " - 3s - loss: 0.2475 - acc: 0.9352 - val_loss: 0.2483 - val_acc: 0.9411\n",
      "Epoch 42/150\n",
      " - 3s - loss: 0.2633 - acc: 0.9257 - val_loss: 0.3151 - val_acc: 0.9302\n",
      "Epoch 43/150\n",
      " - 3s - loss: 0.2618 - acc: 0.9277 - val_loss: 0.2476 - val_acc: 0.9432\n",
      "Epoch 44/150\n",
      " - 3s - loss: 0.2400 - acc: 0.9358 - val_loss: 0.2464 - val_acc: 0.9447\n",
      "Epoch 45/150\n",
      " - 3s - loss: 0.2412 - acc: 0.9367 - val_loss: 0.2698 - val_acc: 0.9328\n",
      "Epoch 46/150\n",
      " - 3s - loss: 0.2650 - acc: 0.9278 - val_loss: 0.2462 - val_acc: 0.9432\n",
      "Epoch 47/150\n",
      " - 3s - loss: 0.2284 - acc: 0.9378 - val_loss: 0.3562 - val_acc: 0.9140\n",
      "Epoch 48/150\n",
      " - 3s - loss: 0.2254 - acc: 0.9393 - val_loss: 0.2390 - val_acc: 0.9364\n",
      "Epoch 49/150\n",
      " - 3s - loss: 0.2452 - acc: 0.9320 - val_loss: 0.2644 - val_acc: 0.9385\n",
      "Epoch 50/150\n",
      " - 3s - loss: 0.2403 - acc: 0.9368 - val_loss: 0.2397 - val_acc: 0.9469\n",
      "Epoch 51/150\n",
      " - 3s - loss: 0.2139 - acc: 0.9443 - val_loss: 0.2219 - val_acc: 0.9469\n",
      "Epoch 52/150\n",
      " - 3s - loss: 0.2246 - acc: 0.9365 - val_loss: 0.2459 - val_acc: 0.9443\n",
      "Epoch 53/150\n",
      " - 3s - loss: 0.2192 - acc: 0.9370 - val_loss: 0.2782 - val_acc: 0.9393\n",
      "Epoch 54/150\n",
      " - 3s - loss: 0.2240 - acc: 0.9405 - val_loss: 0.2429 - val_acc: 0.9425\n",
      "Epoch 55/150\n",
      " - 3s - loss: 0.2216 - acc: 0.9420 - val_loss: 0.2264 - val_acc: 0.9472\n",
      "Epoch 56/150\n",
      " - 3s - loss: 0.2252 - acc: 0.9373 - val_loss: 0.2211 - val_acc: 0.9472\n",
      "Epoch 57/150\n",
      " - 3s - loss: 0.2174 - acc: 0.9405 - val_loss: 0.2180 - val_acc: 0.9479\n",
      "Epoch 58/150\n",
      " - 3s - loss: 0.1865 - acc: 0.9517 - val_loss: 0.2153 - val_acc: 0.9479\n",
      "Epoch 59/150\n",
      " - 3s - loss: 0.2131 - acc: 0.9407 - val_loss: 0.2237 - val_acc: 0.9501\n",
      "Epoch 60/150\n",
      " - 3s - loss: 0.1939 - acc: 0.9498 - val_loss: 0.2066 - val_acc: 0.9541\n",
      "Epoch 61/150\n",
      " - 3s - loss: 0.1922 - acc: 0.9488 - val_loss: 0.2139 - val_acc: 0.9516\n",
      "Epoch 62/150\n",
      " - 3s - loss: 0.1921 - acc: 0.9485 - val_loss: 0.2107 - val_acc: 0.9523\n",
      "Epoch 63/150\n",
      " - 3s - loss: 0.1937 - acc: 0.9472 - val_loss: 0.2071 - val_acc: 0.9508\n",
      "Epoch 64/150\n",
      " - 3s - loss: 0.2384 - acc: 0.9337 - val_loss: 0.4824 - val_acc: 0.8876\n",
      "Epoch 65/150\n",
      " - 3s - loss: 1.9030 - acc: 0.7097 - val_loss: 2.0392 - val_acc: 0.7090\n",
      "Epoch 66/150\n",
      " - 3s - loss: 1.0113 - acc: 0.8045 - val_loss: 0.3422 - val_acc: 0.9237\n",
      "Epoch 67/150\n",
      " - 3s - loss: 0.3380 - acc: 0.9148 - val_loss: 0.2575 - val_acc: 0.9450\n",
      "Epoch 68/150\n",
      " - 3s - loss: 0.2522 - acc: 0.9340 - val_loss: 0.2686 - val_acc: 0.9353\n",
      "Epoch 69/150\n",
      " - 3s - loss: 0.2199 - acc: 0.9413 - val_loss: 0.2265 - val_acc: 0.9508\n",
      "Epoch 70/150\n",
      " - 3s - loss: 0.2101 - acc: 0.9432 - val_loss: 0.2166 - val_acc: 0.9519\n",
      "Epoch 71/150\n",
      " - 3s - loss: 0.2010 - acc: 0.9473 - val_loss: 0.2203 - val_acc: 0.9512\n",
      "Epoch 72/150\n",
      " - 3s - loss: 0.1757 - acc: 0.9532 - val_loss: 0.2136 - val_acc: 0.9505\n",
      "Epoch 73/150\n",
      " - 3s - loss: 0.1740 - acc: 0.9523 - val_loss: 0.2045 - val_acc: 0.9588\n",
      "Epoch 74/150\n",
      " - 3s - loss: 0.1854 - acc: 0.9487 - val_loss: 0.2115 - val_acc: 0.9526\n",
      "Epoch 75/150\n",
      " - 3s - loss: 0.1889 - acc: 0.9470 - val_loss: 0.2161 - val_acc: 0.9537\n",
      "Epoch 76/150\n",
      " - 3s - loss: 0.1703 - acc: 0.9530 - val_loss: 0.2067 - val_acc: 0.9541\n",
      "Epoch 77/150\n",
      " - 3s - loss: 0.1835 - acc: 0.9473 - val_loss: 0.2106 - val_acc: 0.9519\n",
      "Epoch 78/150\n",
      " - 3s - loss: 0.1687 - acc: 0.9565 - val_loss: 0.2119 - val_acc: 0.9508\n",
      "Epoch 79/150\n",
      " - 3s - loss: 0.1582 - acc: 0.9582 - val_loss: 0.2220 - val_acc: 0.9476\n",
      "Epoch 80/150\n",
      " - 3s - loss: 0.1733 - acc: 0.9528 - val_loss: 0.2145 - val_acc: 0.9541\n",
      "Epoch 81/150\n",
      " - 3s - loss: 0.1671 - acc: 0.9538 - val_loss: 0.2056 - val_acc: 0.9508\n",
      "Epoch 82/150\n",
      " - 3s - loss: 0.1745 - acc: 0.9553 - val_loss: 0.2086 - val_acc: 0.9516\n",
      "Epoch 83/150\n",
      " - 3s - loss: 0.1866 - acc: 0.9503 - val_loss: 0.2015 - val_acc: 0.9544\n",
      "Epoch 84/150\n",
      " - 3s - loss: 0.1582 - acc: 0.9547 - val_loss: 0.2038 - val_acc: 0.9505\n",
      "Epoch 85/150\n",
      " - 3s - loss: 0.1608 - acc: 0.9550 - val_loss: 0.1897 - val_acc: 0.9563\n",
      "Epoch 86/150\n",
      " - 3s - loss: 0.1554 - acc: 0.9635 - val_loss: 0.2112 - val_acc: 0.9530\n",
      "Epoch 87/150\n",
      " - 3s - loss: 0.1598 - acc: 0.9570 - val_loss: 0.1963 - val_acc: 0.9552\n",
      "Epoch 88/150\n",
      " - 3s - loss: 0.1681 - acc: 0.9525 - val_loss: 0.1994 - val_acc: 0.9544\n",
      "Epoch 89/150\n",
      " - 3s - loss: 0.1361 - acc: 0.9652 - val_loss: 0.1975 - val_acc: 0.9537\n",
      "Epoch 90/150\n",
      " - 3s - loss: 0.1433 - acc: 0.9643 - val_loss: 0.2021 - val_acc: 0.9541\n",
      "Epoch 91/150\n",
      " - 3s - loss: 0.1825 - acc: 0.9472 - val_loss: 0.1850 - val_acc: 0.9570\n",
      "Epoch 92/150\n",
      " - 3s - loss: 0.1454 - acc: 0.9640 - val_loss: 0.2205 - val_acc: 0.9472\n",
      "Epoch 93/150\n",
      " - 3s - loss: 0.1552 - acc: 0.9555 - val_loss: 0.1895 - val_acc: 0.9555\n",
      "Epoch 94/150\n",
      " - 3s - loss: 0.1364 - acc: 0.9623 - val_loss: 0.1871 - val_acc: 0.9555\n",
      "Epoch 95/150\n",
      " - 3s - loss: 0.1383 - acc: 0.9642 - val_loss: 0.1982 - val_acc: 0.9548\n",
      "Epoch 96/150\n",
      " - 3s - loss: 0.1426 - acc: 0.9605 - val_loss: 0.1854 - val_acc: 0.9602\n"
     ]
    },
    {
     "name": "stdout",
     "output_type": "stream",
     "text": [
      "Epoch 97/150\n",
      " - 3s - loss: 0.1430 - acc: 0.9593 - val_loss: 0.1888 - val_acc: 0.9552\n",
      "Epoch 98/150\n",
      " - 3s - loss: 0.1470 - acc: 0.9590 - val_loss: 0.1885 - val_acc: 0.9588\n",
      "Epoch 99/150\n",
      " - 3s - loss: 0.1424 - acc: 0.9575 - val_loss: 0.2067 - val_acc: 0.9476\n",
      "Epoch 100/150\n",
      " - 3s - loss: 0.1274 - acc: 0.9662 - val_loss: 0.1978 - val_acc: 0.9552\n",
      "Epoch 101/150\n",
      " - 3s - loss: 0.1498 - acc: 0.9605 - val_loss: 0.1971 - val_acc: 0.9541\n",
      "Epoch 102/150\n",
      " - 3s - loss: 0.1363 - acc: 0.9618 - val_loss: 0.1956 - val_acc: 0.9530\n",
      "Epoch 103/150\n",
      " - 3s - loss: 0.1275 - acc: 0.9647 - val_loss: 0.2046 - val_acc: 0.9516\n",
      "Epoch 104/150\n",
      " - 3s - loss: 0.1555 - acc: 0.9548 - val_loss: 0.2584 - val_acc: 0.9364\n",
      "Epoch 105/150\n",
      " - 3s - loss: 0.1681 - acc: 0.9482 - val_loss: 0.2098 - val_acc: 0.9508\n",
      "Epoch 106/150\n",
      " - 3s - loss: 0.1398 - acc: 0.9575 - val_loss: 0.1939 - val_acc: 0.9497\n",
      "Epoch 107/150\n",
      " - 3s - loss: 0.1327 - acc: 0.9630 - val_loss: 0.1820 - val_acc: 0.9599\n",
      "Epoch 108/150\n",
      " - 3s - loss: 0.1270 - acc: 0.9638 - val_loss: 0.2085 - val_acc: 0.9436\n",
      "Epoch 109/150\n",
      " - 3s - loss: 0.1314 - acc: 0.9650 - val_loss: 0.1867 - val_acc: 0.9519\n",
      "Epoch 110/150\n",
      " - 3s - loss: 0.1231 - acc: 0.9683 - val_loss: 0.1896 - val_acc: 0.9584\n",
      "Epoch 111/150\n",
      " - 3s - loss: 0.1200 - acc: 0.9685 - val_loss: 0.1846 - val_acc: 0.9606\n",
      "Epoch 112/150\n",
      " - 3s - loss: 0.1252 - acc: 0.9673 - val_loss: 0.1782 - val_acc: 0.9588\n",
      "Epoch 113/150\n",
      " - 3s - loss: 0.1210 - acc: 0.9637 - val_loss: 0.1976 - val_acc: 0.9497\n",
      "Epoch 114/150\n",
      " - 3s - loss: 0.1193 - acc: 0.9683 - val_loss: 0.1770 - val_acc: 0.9606\n",
      "Epoch 115/150\n",
      " - 3s - loss: 0.1319 - acc: 0.9632 - val_loss: 0.1841 - val_acc: 0.9559\n",
      "Epoch 116/150\n",
      " - 3s - loss: 0.1370 - acc: 0.9622 - val_loss: 0.1708 - val_acc: 0.9610\n",
      "Epoch 117/150\n",
      " - 3s - loss: 0.1082 - acc: 0.9702 - val_loss: 0.1663 - val_acc: 0.9642\n",
      "Epoch 118/150\n",
      " - 3s - loss: 0.1118 - acc: 0.9690 - val_loss: 0.1757 - val_acc: 0.9570\n",
      "Epoch 119/150\n",
      " - 3s - loss: 0.1084 - acc: 0.9742 - val_loss: 0.1717 - val_acc: 0.9595\n",
      "Epoch 120/150\n",
      " - 3s - loss: 0.1058 - acc: 0.9715 - val_loss: 0.1753 - val_acc: 0.9602\n",
      "Epoch 121/150\n",
      " - 3s - loss: 0.1119 - acc: 0.9695 - val_loss: 0.1693 - val_acc: 0.9631\n",
      "Epoch 122/150\n",
      " - 3s - loss: 0.1216 - acc: 0.9653 - val_loss: 0.2019 - val_acc: 0.9497\n",
      "Epoch 123/150\n",
      " - 3s - loss: 0.1130 - acc: 0.9683 - val_loss: 0.2017 - val_acc: 0.9461\n",
      "Epoch 124/150\n",
      " - 3s - loss: 0.1257 - acc: 0.9638 - val_loss: 0.1716 - val_acc: 0.9581\n",
      "Epoch 125/150\n",
      " - 3s - loss: 0.1091 - acc: 0.9700 - val_loss: 0.1685 - val_acc: 0.9620\n",
      "Epoch 126/150\n",
      " - 3s - loss: 0.1091 - acc: 0.9707 - val_loss: 0.1859 - val_acc: 0.9559\n",
      "Epoch 127/150\n",
      " - 3s - loss: 0.1106 - acc: 0.9687 - val_loss: 0.1811 - val_acc: 0.9563\n",
      "Epoch 128/150\n",
      " - 3s - loss: 0.1091 - acc: 0.9697 - val_loss: 0.1668 - val_acc: 0.9602\n",
      "Epoch 129/150\n",
      " - 3s - loss: 0.1099 - acc: 0.9700 - val_loss: 0.1786 - val_acc: 0.9588\n",
      "Epoch 130/150\n",
      " - 3s - loss: 0.1129 - acc: 0.9660 - val_loss: 0.2680 - val_acc: 0.9252\n",
      "Epoch 131/150\n",
      " - 3s - loss: 0.1383 - acc: 0.9573 - val_loss: 0.1929 - val_acc: 0.9497\n",
      "Epoch 132/150\n",
      " - 3s - loss: 0.1045 - acc: 0.9722 - val_loss: 0.2123 - val_acc: 0.9436\n",
      "Epoch 133/150\n",
      " - 3s - loss: 0.1436 - acc: 0.9582 - val_loss: 0.1692 - val_acc: 0.9667\n",
      "Epoch 134/150\n",
      " - 3s - loss: 0.1112 - acc: 0.9688 - val_loss: 0.1702 - val_acc: 0.9620\n",
      "Epoch 135/150\n",
      " - 3s - loss: 0.1098 - acc: 0.9677 - val_loss: 0.1901 - val_acc: 0.9559\n",
      "Epoch 136/150\n",
      " - 3s - loss: 0.1078 - acc: 0.9673 - val_loss: 0.1858 - val_acc: 0.9523\n",
      "Epoch 137/150\n",
      " - 3s - loss: 0.1136 - acc: 0.9692 - val_loss: 0.1732 - val_acc: 0.9599\n",
      "Epoch 138/150\n",
      " - 3s - loss: 0.1095 - acc: 0.9703 - val_loss: 0.1671 - val_acc: 0.9602\n",
      "Epoch 139/150\n",
      " - 3s - loss: 0.1093 - acc: 0.9688 - val_loss: 0.1874 - val_acc: 0.9519\n",
      "Epoch 140/150\n",
      " - 3s - loss: 0.0998 - acc: 0.9732 - val_loss: 0.1714 - val_acc: 0.9610\n",
      "Epoch 141/150\n",
      " - 3s - loss: 0.1031 - acc: 0.9702 - val_loss: 0.1862 - val_acc: 0.9526\n",
      "Epoch 142/150\n",
      " - 3s - loss: 0.1077 - acc: 0.9702 - val_loss: 0.1696 - val_acc: 0.9595\n",
      "Epoch 143/150\n",
      " - 3s - loss: 0.0934 - acc: 0.9750 - val_loss: 0.1647 - val_acc: 0.9631\n",
      "Epoch 144/150\n",
      " - 3s - loss: 0.1019 - acc: 0.9702 - val_loss: 0.3641 - val_acc: 0.9252\n",
      "Epoch 145/150\n",
      " - 3s - loss: 0.1260 - acc: 0.9645 - val_loss: 0.1843 - val_acc: 0.9570\n",
      "Epoch 146/150\n",
      " - 3s - loss: 0.0986 - acc: 0.9728 - val_loss: 0.1610 - val_acc: 0.9620\n",
      "Epoch 147/150\n",
      " - 3s - loss: 0.0971 - acc: 0.9740 - val_loss: 0.1636 - val_acc: 0.9649\n",
      "Epoch 148/150\n",
      " - 3s - loss: 0.0938 - acc: 0.9753 - val_loss: 0.1670 - val_acc: 0.9606\n",
      "Epoch 149/150\n",
      " - 3s - loss: 0.1051 - acc: 0.9715 - val_loss: 0.1592 - val_acc: 0.9642\n",
      "Epoch 150/150\n",
      " - 3s - loss: 0.0986 - acc: 0.9698 - val_loss: 0.1590 - val_acc: 0.9649\n",
      "2922/2922 [==============================] - 1s 270us/step\n"
     ]
    }
   ],
   "source": [
    "from keras.models import Sequential,optimizers\n",
    "from keras.layers import Dense,Activation,Dropout\n",
    "opt=optimizers.SGD(lr=0.0001)\n",
    "#opt=optimizers.rmsprop(lr=0.001)\n",
    "X_train,X_valid=np.split(X_train,[6000])\n",
    "y_train,y_valid=np.split(y_train,[6000])\n",
    "model1=Sequential()\n",
    "model1.add(Dropout(0.05,input_shape=(56202,)))\n",
    "model1.add(Dense(2048))\n",
    "model1.add(Dense(2048,activation='relu'))\n",
    "model1.add(Dense(2048,activation='relu'))\n",
    "model1.add(Dense(1024,activation='relu'))\n",
    "model1.add(Dense(1024,activation='relu'))\n",
    "model1.add(Dense(1024,activation='relu'))\n",
    "model1.add(Dense(1024,activation='relu'))\n",
    "model1.add(Dense(512,activation='relu'))\n",
    "model1.add(Dense(512,activation='relu'))\n",
    "model1.add(Dense(512,activation='relu'))\n",
    "#model1.add(Dense(256,activation='relu'))\n",
    "model1.add(Dense(256,activation='relu'))\n",
    "model1.add(Dense(256,activation='relu'))\n",
    "model1.add(Dense(128,activation='relu'))\n",
    "model1.add(Dense(30))\n",
    "model1.add(Activation(\"softmax\"))\n",
    "model1.compile(loss=\"categorical_crossentropy\",optimizer=opt,metrics=[\"accuracy\"])\n",
    "fit=model1.fit(X_train,y_train,epochs=150,batch_size=512,verbose=2,validation_data=(X_valid,y_valid),callbacks=[])\n",
    "score=model1.evaluate(X_test,y_test,batch_size=64)"
   ]
  },
  {
   "cell_type": "code",
   "execution_count": 7,
   "metadata": {},
   "outputs": [],
   "source": [
    "pred_y=model1.predict(X_test)"
   ]
  },
  {
   "cell_type": "code",
   "execution_count": 8,
   "metadata": {
    "scrolled": true
   },
   "outputs": [
    {
     "data": {
      "text/plain": [
       "0.9585900068446269"
      ]
     },
     "execution_count": 8,
     "metadata": {},
     "output_type": "execute_result"
    }
   ],
   "source": [
    "np.sum(np.argmax(pred_y,axis=1)==np.argmax(y_test,axis=1))/pred_y.shape[0]"
   ]
  },
  {
   "cell_type": "code",
   "execution_count": 9,
   "metadata": {},
   "outputs": [
    {
     "name": "stdout",
     "output_type": "stream",
     "text": [
      "(2922, 56202)\n"
     ]
    }
   ],
   "source": [
    "print(X_test.shape)"
   ]
  },
  {
   "cell_type": "code",
   "execution_count": 35,
   "metadata": {
    "scrolled": true
   },
   "outputs": [
    {
     "name": "stdout",
     "output_type": "stream",
     "text": [
      "(79, 56202)\n"
     ]
    }
   ],
   "source": [
    "print(merged_tsv3.iloc[1:80,:].shape)"
   ]
  },
  {
   "cell_type": "code",
   "execution_count": 26,
   "metadata": {
    "scrolled": true
   },
   "outputs": [
    {
     "data": {
      "text/plain": [
       "array([0., 0., 0., 0., 0., 0., 0., 0., 0., 0., 0., 0., 0., 0., 0., 0., 0.,\n",
       "       0., 0., 0., 0., 0., 0., 0., 0., 0., 1., 0., 0., 0.])"
      ]
     },
     "execution_count": 26,
     "metadata": {},
     "output_type": "execute_result"
    }
   ],
   "source": [
    "y_test[10]"
   ]
  },
  {
   "cell_type": "code",
   "execution_count": null,
   "metadata": {},
   "outputs": [],
   "source": [
    "del "
   ]
  },
  {
   "cell_type": "code",
   "execution_count": null,
   "metadata": {},
   "outputs": [],
   "source": [
    "df2=pd.read_csv(\"answer.csv\", delimiter=\"\\t\")\n",
    "c = collections.Counter(df2[\"SMT\"])"
   ]
  },
  {
   "cell_type": "code",
   "execution_count": 23,
   "metadata": {},
   "outputs": [
    {
     "name": "stdout",
     "output_type": "stream",
     "text": [
      "(56202, 11864)\n"
     ]
    }
   ],
   "source": [
    "import collections\n",
    "import matplotlib.pyplot as plt\n",
    "#test_pati=np.load(\"TCGA-ACC.htseq_fpkm.npy\")\n",
    "ft2=pd.read_table(\"GTEx_Analysis_2016-01-15_v7_RNASeQCv1.1.8_gene_tpm.gct/GTEx_Analysis_2016-01-15_v7_RNASeQCv1.1.8_gene_tpm.gct\", sep=\"\\t\", header=2,dtype=dic_type)\n",
    "tsv=pd.read_csv(\"patient_data/TCGA-ESCA.htseq_fpkm.tsv\", delimiter=\"\\t\")\n",
    "#change FPKM to TPM\n",
    "tsv.iloc[:,1:]=1000000*tsv.iloc[:,1:]/tsv.iloc[:,1:].sum()\n",
    "#print(tsv)\n",
    "merge_tsv=pd.merge(tsv, ft2, left_on='Ensembl_ID', right_on='Name', how='right')\n",
    "print(merge_tsv.shape)\n",
    "#欠損値補完\n",
    "merge_tsv2=merge_tsv.transpose()\n",
    "#del tsv\n",
    "del merge_tsv\n",
    "del ft2\n",
    "merged_tsv3=merge_tsv2.fillna(merge_tsv2.iloc[tsv.shape[1]+2:,:].mean())"
   ]
  },
  {
   "cell_type": "code",
   "execution_count": 15,
   "metadata": {
    "scrolled": true
   },
   "outputs": [
    {
     "name": "stdout",
     "output_type": "stream",
     "text": [
      "(79, 56202)\n"
     ]
    }
   ],
   "source": [
    "print(merged_tsv3.iloc[1:tsv.shape[1],:].shape)"
   ]
  },
  {
   "cell_type": "code",
   "execution_count": null,
   "metadata": {},
   "outputs": [],
   "source": [
    "print(predict_patient_class)"
   ]
  },
  {
   "cell_type": "code",
   "execution_count": 24,
   "metadata": {
    "scrolled": true
   },
   "outputs": [
    {
     "name": "stdout",
     "output_type": "stream",
     "text": [
      "[29 22 22 29 22 29 29 22 29 22 29 29 29 29 22 29 29 22  8 22 22 22 29 22\n",
      " 22 29 22 22 29 29 22 22 22 22 29 22 22 22 29 22 22 22 22 29 29 22 22 29\n",
      " 29 29 29  8 22 22 29 29 22  8 22 29 29 29 29 29 29 29 22 29 29 29 29 22\n",
      " 29 29 29 22 29 29 29 29 22 22 29 29 22 22 29 22 22 29 22 22 22 29  8 22\n",
      " 29 22 22 22 22 22  8 22 22 22 22 29 22 22 29 29 22 22 29 22 22 22 29 29\n",
      " 22 29 22 29 29 22 22 29 22 22 22 29 29 29 29 22 22 22 29  8 29 29 22 29\n",
      " 22 22 29 29 29 22 22 29 29 22 29 22 22 22 22 22 29 22 29 29 22 22 22 22\n",
      " 29 29 29 22 22]\n",
      "Counter({22: 88, 29: 79, 8: 6})\n"
     ]
    },
    {
     "data": {
      "image/png": "[encoded data removed]",
      "text/plain": [
       "<Figure size 640x480 with 1 Axes>"
      ]
     },
     "metadata": {},
     "output_type": "display_data"
    }
   ],
   "source": [
    "#predict\n",
    "#del merge_tsv2\n",
    "predict_patient_classes=model1.predict(merged_tsv3.iloc[1:tsv.shape[1],:].values)\n",
    "del merged_tsv3\n",
    "print(np.argmax(predict_patient_classes,axis=1))\n",
    "pre_data=np.argmax(predict_patient_classes,axis=1).astype(np.int32)\n",
    "np.savetxt(\"TCGA-ESCA.htseq_fpkm.csv\",pre_data,delimiter=',')\n",
    "c = collections.Counter(pre_data)\n",
    "print(c)\n",
    "\n",
    "import matplotlib.pyplot as plt\n",
    "import seaborn as sns\n",
    "import numpy as np\n",
    "\n",
    "plt.style.use('default')\n",
    "sns.set()\n",
    "sns.set_style('whitegrid')\n",
    "sns.set_palette('Set2')\n",
    "\n",
    "c_d=dict(c)\n",
    "fig = plt.figure()\n",
    "ax = fig.add_subplot(1, 1, 1)\n",
    "ax.pie(c_d.values(), labels=c_d.keys(), autopct=\"%1.1f%%\")\n",
    "\n",
    "plt.show()\n",
    "##モデルの形と違っているので起こられている\n",
    "#おそらくmergeのあとで変化、、ft2ではあってる）\n",
    "#mergeチェック、これもkillされているのでもういちっどモデルからやり直す"
   ]
  },
  {
   "cell_type": "code",
   "execution_count": 13,
   "metadata": {},
   "outputs": [
    {
     "name": "stdout",
     "output_type": "stream",
     "text": [
      "|            valuable name         |memory\n",
      "-------\n",
      "|                      df4         |2805232\n",
      "|  predict_patient_classes         |51712\n",
      "|                      tsv         |212548501\n"
     ]
    }
   ],
   "source": [
    "import sys\n",
    "print(\"{}{:>25}{:>10}{}\".format('|','valuable name','|','memory','|'))\n",
    "print(\"-------\")\n",
    "for var in dir():\n",
    "    if not var.startswith(\"_\") and sys.getsizeof(eval(var))>10000:\n",
    "        print(\"{}{:>25}{:>10}{}\".format('|',var,'|',sys.getsizeof(eval(var)),'|'))"
   ]
  },
  {
   "cell_type": "code",
   "execution_count": 12,
   "metadata": {},
   "outputs": [],
   "source": [
    "del merge_tsv2 "
   ]
  },
  {
   "cell_type": "code",
   "execution_count": 10,
   "metadata": {},
   "outputs": [],
   "source": [
    "del ft2"
   ]
  },
  {
   "cell_type": "code",
   "execution_count": 49,
   "metadata": {},
   "outputs": [],
   "source": [
    "del merge"
   ]
  },
  {
   "cell_type": "code",
   "execution_count": 1,
   "metadata": {},
   "outputs": [
    {
     "name": "stdout",
     "output_type": "stream",
     "text": [
      "\u001b[0m\u001b[01;34mGTEx_Analysis_2016-01-15_v7_RNASeQCv1.1.8_gene_tpm.gct\u001b[0m/\r\n",
      "GTEx_v7_Annotations_SampleAttributesDS.txt\r\n",
      "TCGA-ACC.htseq_fpkm.npy\r\n",
      "answer.csv\r\n",
      "chap04_homework.ipynb\r\n",
      "deeplearning.ipynb\r\n",
      "file.ipynb\r\n",
      "file_model.ipynb\r\n",
      "\u001b[01;34mpatient\u001b[0m/\r\n",
      "\u001b[01;34mpatient data\u001b[0m/\r\n",
      "patient_model.ipynb\r\n",
      "patient_model_apply.ipynb\r\n",
      "test.npy\r\n",
      "train.npy\r\n"
     ]
    }
   ],
   "source": [
    "ls"
   ]
  },
  {
   "cell_type": "code",
   "execution_count": null,
   "metadata": {},
   "outputs": [],
   "source": []
  }
 ],
 "metadata": {
  "kernelspec": {
   "display_name": "Python 3",
   "language": "python",
   "name": "python3"
  },
  "language_info": {
   "codemirror_mode": {
    "name": "ipython",
    "version": 3
   },
   "file_extension": ".py",
   "mimetype": "text/x-python",
   "name": "python",
   "nbconvert_exporter": "python",
   "pygments_lexer": "ipython3",
   "version": "3.6.5"
  }
 },
 "nbformat": 4,
 "nbformat_minor": 2
}
