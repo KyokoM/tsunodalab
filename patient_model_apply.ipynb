{
 "cells": [
  {
   "cell_type": "code",
   "execution_count": 1,
   "metadata": {},
   "outputs": [
    {
     "name": "stderr",
     "output_type": "stream",
     "text": [
      "/usr/local/pyenv/versions/3.6.5/lib/python3.6/site-packages/sklearn/ensemble/weight_boosting.py:29: DeprecationWarning: numpy.core.umath_tests is an internal NumPy module and should not be imported. It will be removed in a future NumPy release.\n",
      "  from numpy.core.umath_tests import inner1d\n"
     ]
    }
   ],
   "source": [
    "import matplotlib.pyplot as plt\n",
    "import matplotlib.cm as cm\n",
    "import time\n",
    "import pandas as pd\n",
    "import h5py\n",
    "import os\n",
    "from sklearn.preprocessing import LabelEncoder\n",
    "import numpy as np\n",
    "from sklearn.linear_model import LogisticRegression\n",
    "from sklearn.model_selection import train_test_split\n",
    "from sklearn import metrics\n",
    "\n",
    "from sklearn.svm import LinearSVC\n",
    "\n",
    "from sklearn.svm import SVC\n",
    "\n",
    "from sklearn.tree import DecisionTreeClassifier\n",
    "from sklearn.tree import export_graphviz\n",
    "from IPython.display import Image, display_png\n",
    "import csv\n",
    "#import pydotplus as pdp\n",
    "\n",
    "from sklearn.ensemble import RandomForestClassifier\n",
    "\n",
    "import seaborn as sns"
   ]
  },
  {
   "cell_type": "code",
   "execution_count": 2,
   "metadata": {},
   "outputs": [],
   "source": [
    "dic_type={}\n",
    "dic_type[1]=\"str\"\n",
    "dic_type[2]=\"str\"\n",
    "for i in range(3,11691):\n",
    "    dic_type[2]=\"float64\""
   ]
  },
  {
   "cell_type": "code",
   "execution_count": 3,
   "metadata": {
    "scrolled": true
   },
   "outputs": [],
   "source": [
    "ft2=pd.read_table(\"GTEx_Analysis_2016-01-15_v7_RNASeQCv1.1.8_gene_tpm.gct/GTEx_Analysis_2016-01-15_v7_RNASeQCv1.1.8_gene_tpm.gct\", sep=\"\\t\", header=2,dtype=dic_type)"
   ]
  },
  {
   "cell_type": "code",
   "execution_count": 17,
   "metadata": {
    "scrolled": true
   },
   "outputs": [
    {
     "name": "stdout",
     "output_type": "stream",
     "text": [
      "[[0.9523401088197916 0.0 1.7339167843419694 ... 0.0 0.0 0.0]\n",
      " [0.0 0.0 0.7452293606682078 ... 0.0 0.0 0.0]\n",
      " [0.0 0.0 2.9162661613050176 ... 0.0 0.0 0.0]\n",
      " ...\n",
      " [0.0 0.0 28.43705157723342 ... 0.0 0.0 0.0]\n",
      " [0.0 0.0 0.9253910505345556 ... 0.0 0.0 0.0]\n",
      " [0.8666048035450141 0.0 1.5797158401172011 ... 0.0 0.0 0.0]]\n"
     ]
    }
   ],
   "source": [
    "print(merged_tsv3.iloc[1:80,:].values)"
   ]
  },
  {
   "cell_type": "code",
   "execution_count": 18,
   "metadata": {
    "scrolled": true
   },
   "outputs": [],
   "source": [
    "#分割して保存\n",
    "np.save(\"TCGA-ACC.htseq_fpkm.npy\",merged_tsv3.iloc[1:80,:].values)"
   ]
  },
  {
   "cell_type": "code",
   "execution_count": 19,
   "metadata": {},
   "outputs": [
    {
     "data": {
      "text/plain": [
       "(79, 56202)"
      ]
     },
     "execution_count": 19,
     "metadata": {},
     "output_type": "execute_result"
    }
   ],
   "source": [
    "merged_tsv3.iloc[1:80,:].shape\n",
    "#np.save(\"train.npy\",ft4)\n",
    "#np.save(\"test.npy\",df4)"
   ]
  },
  {
   "cell_type": "code",
   "execution_count": 34,
   "metadata": {},
   "outputs": [],
   "source": [
    "ft4=np.load(\"train.npy\")\n",
    "df4=np.load(\"test.npy\")"
   ]
  },
  {
   "cell_type": "code",
   "execution_count": 7,
   "metadata": {},
   "outputs": [],
   "source": [
    "def zscore_wd(x, axis = None):\n",
    "    xmean = x.mean(axis=axis, keepdims=True)\n",
    "    xstd  = np.std(x, axis=axis, keepdims=True)\n",
    "    zscore = (x-xmean)/xstd\n",
    "    return zscore"
   ]
  },
  {
   "cell_type": "code",
   "execution_count": 6,
   "metadata": {},
   "outputs": [],
   "source": [
    "def zscore(x, axis = None):\n",
    "    xmean = x.mean(axis=axis)#, keepdims=True)\n",
    "    xstd  = np.std(x, axis=axis)#, keepdims=True)\n",
    "    zscore = (x-xmean)/xstd\n",
    "    return zscore"
   ]
  },
  {
   "cell_type": "code",
   "execution_count": 35,
   "metadata": {},
   "outputs": [],
   "source": [
    "ft4_1=zscore_wd(ft4,axis=1)"
   ]
  },
  {
   "cell_type": "code",
   "execution_count": 36,
   "metadata": {},
   "outputs": [],
   "source": [
    "del ft4"
   ]
  },
  {
   "cell_type": "code",
   "execution_count": 37,
   "metadata": {},
   "outputs": [],
   "source": [
    "X_train, X_test, y_train, y_test =train_test_split(ft4_1,df4)\n",
    "#print(ft3.shape,X_train.shape,y_train.shape)\n",
    "#print(ft3.shape,X_train.shape,y_train.shape)"
   ]
  },
  {
   "cell_type": "code",
   "execution_count": 10,
   "metadata": {},
   "outputs": [
    {
     "name": "stderr",
     "output_type": "stream",
     "text": [
      "Using TensorFlow backend.\n",
      "/usr/local/pyenv/versions/3.6.5/lib/python3.6/importlib/_bootstrap.py:219: RuntimeWarning: compiletime version 3.5 of module 'tensorflow.python.framework.fast_tensor_util' does not match runtime version 3.6\n",
      "  return f(*args, **kwds)\n"
     ]
    },
    {
     "name": "stdout",
     "output_type": "stream",
     "text": [
      "Train on 6000 samples, validate on 2766 samples\n",
      "Epoch 1/100\n",
      " - 6s - loss: 3.4573 - acc: 0.1733 - val_loss: 3.1367 - val_acc: 0.2046\n",
      "Epoch 2/100\n",
      " - 3s - loss: 2.7819 - acc: 0.2942 - val_loss: 2.8645 - val_acc: 0.2921\n",
      "Epoch 3/100\n",
      " - 3s - loss: 2.1958 - acc: 0.4220 - val_loss: 1.8069 - val_acc: 0.4584\n",
      "Epoch 4/100\n",
      " - 3s - loss: 1.7858 - acc: 0.5232 - val_loss: 1.3857 - val_acc: 0.5875\n",
      "Epoch 5/100\n",
      " - 3s - loss: 1.4282 - acc: 0.6192 - val_loss: 1.5916 - val_acc: 0.6197\n",
      "Epoch 6/100\n",
      " - 3s - loss: 1.2531 - acc: 0.6658 - val_loss: 1.0385 - val_acc: 0.7025\n",
      "Epoch 7/100\n",
      " - 3s - loss: 1.0234 - acc: 0.7172 - val_loss: 1.0697 - val_acc: 0.7242\n",
      "Epoch 8/100\n",
      " - 3s - loss: 0.9116 - acc: 0.7528 - val_loss: 0.8076 - val_acc: 0.7787\n",
      "Epoch 9/100\n",
      " - 2s - loss: 0.8966 - acc: 0.7502 - val_loss: 0.9418 - val_acc: 0.7480\n",
      "Epoch 10/100\n",
      " - 3s - loss: 0.8001 - acc: 0.7743 - val_loss: 0.8173 - val_acc: 0.7621\n",
      "Epoch 11/100\n",
      " - 3s - loss: 0.7231 - acc: 0.7972 - val_loss: 0.5363 - val_acc: 0.8445\n",
      "Epoch 12/100\n",
      " - 3s - loss: 0.6338 - acc: 0.8163 - val_loss: 0.5291 - val_acc: 0.8420\n",
      "Epoch 13/100\n",
      " - 3s - loss: 0.5480 - acc: 0.8400 - val_loss: 0.4393 - val_acc: 0.8756\n",
      "Epoch 14/100\n",
      " - 3s - loss: 0.6050 - acc: 0.8203 - val_loss: 0.4545 - val_acc: 0.8756\n",
      "Epoch 15/100\n",
      " - 3s - loss: 0.4708 - acc: 0.8625 - val_loss: 0.6340 - val_acc: 0.7733\n",
      "Epoch 16/100\n",
      " - 3s - loss: 0.7123 - acc: 0.8030 - val_loss: 0.4192 - val_acc: 0.8717\n",
      "Epoch 17/100\n",
      " - 3s - loss: 0.4511 - acc: 0.8690 - val_loss: 0.4155 - val_acc: 0.8691\n",
      "Epoch 18/100\n",
      " - 3s - loss: 0.4243 - acc: 0.8750 - val_loss: 0.3630 - val_acc: 0.8999\n",
      "Epoch 19/100\n",
      " - 2s - loss: 0.4041 - acc: 0.8902 - val_loss: 0.3139 - val_acc: 0.9027\n",
      "Epoch 20/100\n",
      " - 3s - loss: 0.3946 - acc: 0.8852 - val_loss: 0.3597 - val_acc: 0.8901\n",
      "Epoch 21/100\n",
      " - 3s - loss: 0.3611 - acc: 0.8952 - val_loss: 0.3482 - val_acc: 0.8800\n",
      "Epoch 22/100\n",
      " - 3s - loss: 0.3490 - acc: 0.8943 - val_loss: 0.2733 - val_acc: 0.9237\n",
      "Epoch 23/100\n",
      " - 3s - loss: 0.3440 - acc: 0.8962 - val_loss: 0.3030 - val_acc: 0.9136\n",
      "Epoch 24/100\n",
      " - 3s - loss: 0.3186 - acc: 0.9100 - val_loss: 0.3460 - val_acc: 0.8937\n",
      "Epoch 25/100\n",
      " - 3s - loss: 0.2979 - acc: 0.9128 - val_loss: 0.2918 - val_acc: 0.9172\n",
      "Epoch 26/100\n",
      " - 3s - loss: 0.3682 - acc: 0.8893 - val_loss: 0.2839 - val_acc: 0.9158\n",
      "Epoch 27/100\n",
      " - 3s - loss: 0.2777 - acc: 0.9173 - val_loss: 0.4456 - val_acc: 0.8677\n",
      "Epoch 28/100\n",
      " - 3s - loss: 0.3187 - acc: 0.9100 - val_loss: 0.2918 - val_acc: 0.9111\n",
      "Epoch 29/100\n",
      " - 3s - loss: 0.2838 - acc: 0.9162 - val_loss: 0.2453 - val_acc: 0.9313\n",
      "Epoch 30/100\n",
      " - 3s - loss: 0.2532 - acc: 0.9253 - val_loss: 0.3063 - val_acc: 0.9107\n",
      "Epoch 31/100\n",
      " - 3s - loss: 0.2714 - acc: 0.9142 - val_loss: 0.2790 - val_acc: 0.9114\n",
      "Epoch 32/100\n",
      " - 3s - loss: 0.2707 - acc: 0.9197 - val_loss: 0.2956 - val_acc: 0.9154\n",
      "Epoch 33/100\n",
      " - 3s - loss: 0.2666 - acc: 0.9167 - val_loss: 0.2215 - val_acc: 0.9335\n",
      "Epoch 34/100\n",
      " - 3s - loss: 0.2284 - acc: 0.9325 - val_loss: 0.2259 - val_acc: 0.9273\n",
      "Epoch 35/100\n",
      " - 3s - loss: 0.2266 - acc: 0.9332 - val_loss: 0.2431 - val_acc: 0.9183\n",
      "Epoch 36/100\n",
      " - 2s - loss: 0.2361 - acc: 0.9290 - val_loss: 0.2408 - val_acc: 0.9324\n",
      "Epoch 37/100\n",
      " - 3s - loss: 0.2429 - acc: 0.9273 - val_loss: 0.2347 - val_acc: 0.9143\n",
      "Epoch 38/100\n",
      " - 3s - loss: 0.2323 - acc: 0.9315 - val_loss: 0.2408 - val_acc: 0.9342\n",
      "Epoch 39/100\n",
      " - 3s - loss: 0.2207 - acc: 0.9347 - val_loss: 0.2090 - val_acc: 0.9407\n",
      "Epoch 40/100\n",
      " - 3s - loss: 0.2105 - acc: 0.9370 - val_loss: 0.2092 - val_acc: 0.9418\n",
      "Epoch 41/100\n",
      " - 3s - loss: 0.1973 - acc: 0.9408 - val_loss: 0.2303 - val_acc: 0.9302\n",
      "Epoch 42/100\n",
      " - 3s - loss: 0.2008 - acc: 0.9428 - val_loss: 0.2166 - val_acc: 0.9335\n",
      "Epoch 43/100\n",
      " - 3s - loss: 0.2134 - acc: 0.9347 - val_loss: 0.3780 - val_acc: 0.9053\n",
      "Epoch 44/100\n",
      " - 3s - loss: 0.2110 - acc: 0.9385 - val_loss: 0.2797 - val_acc: 0.8973\n",
      "Epoch 45/100\n",
      " - 3s - loss: 0.2157 - acc: 0.9312 - val_loss: 0.2203 - val_acc: 0.9389\n",
      "Epoch 46/100\n",
      " - 2s - loss: 0.2016 - acc: 0.9413 - val_loss: 0.2103 - val_acc: 0.9432\n",
      "Epoch 47/100\n",
      " - 3s - loss: 0.1820 - acc: 0.9468 - val_loss: 0.2054 - val_acc: 0.9429\n",
      "Epoch 48/100\n",
      " - 3s - loss: 0.1757 - acc: 0.9513 - val_loss: 0.2665 - val_acc: 0.9067\n",
      "Epoch 49/100\n",
      " - 3s - loss: 0.1935 - acc: 0.9382 - val_loss: 0.2457 - val_acc: 0.9266\n",
      "Epoch 50/100\n",
      " - 3s - loss: 0.2048 - acc: 0.9307 - val_loss: 0.3298 - val_acc: 0.9082\n",
      "Epoch 51/100\n",
      " - 3s - loss: 0.1835 - acc: 0.9460 - val_loss: 0.2377 - val_acc: 0.9335\n",
      "Epoch 52/100\n",
      " - 3s - loss: 0.1936 - acc: 0.9387 - val_loss: 0.2880 - val_acc: 0.9060\n",
      "Epoch 53/100\n",
      " - 3s - loss: 0.1860 - acc: 0.9415 - val_loss: 0.2279 - val_acc: 0.9230\n",
      "Epoch 54/100\n",
      " - 3s - loss: 0.1984 - acc: 0.9415 - val_loss: 0.2169 - val_acc: 0.9353\n",
      "Epoch 55/100\n",
      " - 3s - loss: 0.1674 - acc: 0.9535 - val_loss: 0.2043 - val_acc: 0.9277\n",
      "Epoch 56/100\n",
      " - 3s - loss: 0.1738 - acc: 0.9443 - val_loss: 0.2005 - val_acc: 0.9443\n",
      "Epoch 57/100\n",
      " - 3s - loss: 0.1758 - acc: 0.9447 - val_loss: 0.2319 - val_acc: 0.9291\n",
      "Epoch 58/100\n",
      " - 3s - loss: 0.1598 - acc: 0.9527 - val_loss: 0.2269 - val_acc: 0.9288\n",
      "Epoch 59/100\n",
      " - 3s - loss: 0.1743 - acc: 0.9452 - val_loss: 0.2615 - val_acc: 0.9074\n",
      "Epoch 60/100\n",
      " - 3s - loss: 0.2060 - acc: 0.9352 - val_loss: 0.2367 - val_acc: 0.9248\n",
      "Epoch 61/100\n",
      " - 3s - loss: 0.1576 - acc: 0.9537 - val_loss: 0.1968 - val_acc: 0.9356\n",
      "Epoch 62/100\n",
      " - 3s - loss: 0.1512 - acc: 0.9522 - val_loss: 0.2295 - val_acc: 0.9320\n",
      "Epoch 63/100\n",
      " - 3s - loss: 0.1716 - acc: 0.9468 - val_loss: 0.1865 - val_acc: 0.9418\n",
      "Epoch 64/100\n",
      " - 3s - loss: 0.1754 - acc: 0.9428 - val_loss: 0.2095 - val_acc: 0.9378\n",
      "Epoch 65/100\n",
      " - 3s - loss: 0.1533 - acc: 0.9540 - val_loss: 0.1767 - val_acc: 0.9512\n",
      "Epoch 66/100\n",
      " - 3s - loss: 0.1340 - acc: 0.9593 - val_loss: 0.2120 - val_acc: 0.9176\n",
      "Epoch 67/100\n",
      " - 3s - loss: 0.1905 - acc: 0.9390 - val_loss: 0.2322 - val_acc: 0.9103\n",
      "Epoch 68/100\n",
      " - 3s - loss: 0.1384 - acc: 0.9598 - val_loss: 0.1617 - val_acc: 0.9541\n",
      "Epoch 69/100\n",
      " - 3s - loss: 0.1467 - acc: 0.9557 - val_loss: 0.1713 - val_acc: 0.9501\n",
      "Epoch 70/100\n",
      " - 2s - loss: 0.1379 - acc: 0.9587 - val_loss: 0.1938 - val_acc: 0.9461\n",
      "Epoch 71/100\n",
      " - 3s - loss: 0.1595 - acc: 0.9487 - val_loss: 0.1659 - val_acc: 0.9534\n",
      "Epoch 72/100\n",
      " - 3s - loss: 0.1375 - acc: 0.9573 - val_loss: 0.1742 - val_acc: 0.9494\n",
      "Epoch 73/100\n",
      " - 3s - loss: 0.1345 - acc: 0.9597 - val_loss: 0.2572 - val_acc: 0.9187\n",
      "Epoch 74/100\n",
      " - 3s - loss: 1.6547 - acc: 0.6730 - val_loss: 0.5668 - val_acc: 0.8308\n",
      "Epoch 75/100\n",
      " - 3s - loss: 0.4280 - acc: 0.8783 - val_loss: 0.2265 - val_acc: 0.9342\n",
      "Epoch 76/100\n",
      " - 3s - loss: 0.2087 - acc: 0.9360 - val_loss: 0.3033 - val_acc: 0.9150\n",
      "Epoch 77/100\n",
      " - 3s - loss: 0.1960 - acc: 0.9393 - val_loss: 0.2195 - val_acc: 0.9317\n",
      "Epoch 78/100\n",
      " - 3s - loss: 0.1652 - acc: 0.9515 - val_loss: 0.1741 - val_acc: 0.9537\n",
      "Epoch 79/100\n",
      " - 3s - loss: 0.1636 - acc: 0.9495 - val_loss: 0.1793 - val_acc: 0.9526\n",
      "Epoch 80/100\n",
      " - 3s - loss: 0.1448 - acc: 0.9592 - val_loss: 0.2032 - val_acc: 0.9411\n",
      "Epoch 81/100\n",
      " - 2s - loss: 0.1670 - acc: 0.9485 - val_loss: 0.1767 - val_acc: 0.9461\n",
      "Epoch 82/100\n",
      " - 3s - loss: 0.1624 - acc: 0.9532 - val_loss: 0.2045 - val_acc: 0.9393\n",
      "Epoch 83/100\n",
      " - 3s - loss: 0.1465 - acc: 0.9542 - val_loss: 0.1687 - val_acc: 0.9559\n",
      "Epoch 84/100\n",
      " - 3s - loss: 0.1486 - acc: 0.9578 - val_loss: 0.1900 - val_acc: 0.9313\n",
      "Epoch 85/100\n",
      " - 3s - loss: 0.1431 - acc: 0.9543 - val_loss: 0.1530 - val_acc: 0.9581\n",
      "Epoch 86/100\n",
      " - 3s - loss: 0.1393 - acc: 0.9567 - val_loss: 0.1669 - val_acc: 0.9537\n",
      "Epoch 87/100\n",
      " - 3s - loss: 0.1769 - acc: 0.9452 - val_loss: 0.2459 - val_acc: 0.9205\n",
      "Epoch 88/100\n",
      " - 3s - loss: 0.1539 - acc: 0.9510 - val_loss: 0.1535 - val_acc: 0.9548\n",
      "Epoch 89/100\n",
      " - 3s - loss: 0.1203 - acc: 0.9653 - val_loss: 0.1547 - val_acc: 0.9563\n",
      "Epoch 90/100\n",
      " - 3s - loss: 0.1337 - acc: 0.9592 - val_loss: 0.2203 - val_acc: 0.9165\n",
      "Epoch 91/100\n",
      " - 3s - loss: 0.1409 - acc: 0.9538 - val_loss: 0.2203 - val_acc: 0.9295\n",
      "Epoch 92/100\n",
      " - 3s - loss: 0.1342 - acc: 0.9588 - val_loss: 0.1694 - val_acc: 0.9563\n",
      "Epoch 93/100\n",
      " - 3s - loss: 0.1530 - acc: 0.9477 - val_loss: 0.1587 - val_acc: 0.9530\n",
      "Epoch 94/100\n",
      " - 3s - loss: 0.1253 - acc: 0.9603 - val_loss: 0.1491 - val_acc: 0.9577\n",
      "Epoch 95/100\n",
      " - 3s - loss: 0.1229 - acc: 0.9627 - val_loss: 0.1561 - val_acc: 0.9508\n",
      "Epoch 96/100\n",
      " - 3s - loss: 0.1261 - acc: 0.9603 - val_loss: 0.1422 - val_acc: 0.9617\n"
     ]
    },
    {
     "name": "stdout",
     "output_type": "stream",
     "text": [
      "Epoch 97/100\n",
      " - 3s - loss: 0.1148 - acc: 0.9670 - val_loss: 0.1947 - val_acc: 0.9454\n",
      "Epoch 98/100\n",
      " - 3s - loss: 0.1337 - acc: 0.9565 - val_loss: 0.1586 - val_acc: 0.9508\n",
      "Epoch 99/100\n",
      " - 3s - loss: 0.1235 - acc: 0.9612 - val_loss: 0.1457 - val_acc: 0.9588\n",
      "Epoch 100/100\n",
      " - 3s - loss: 0.1333 - acc: 0.9555 - val_loss: 0.1569 - val_acc: 0.9530\n",
      "2922/2922 [==============================] - 1s 272us/step\n"
     ]
    }
   ],
   "source": [
    "from keras.models import Sequential,optimizers\n",
    "from keras.layers import Dense,Activation,Dropout\n",
    "opt=optimizers.SGD(lr=0.01)\n",
    "#opt=optimizers.rmsprop(lr=0.001)\n",
    "X_train,X_valid=np.split(X_train,[6000])\n",
    "y_train,y_valid=np.split(y_train,[6000])\n",
    "model1=Sequential()\n",
    "model1.add(Dropout(0.05,input_shape=(56202,)))\n",
    "model1.add(Dense(2048))\n",
    "#model1.add(Dense(2048,activation='relu'))\n",
    "#model1.add(Dense(2048,activation='relu'))\n",
    "#model1.add(Dense(1024,activation='relu'))\n",
    "#model1.add(Dense(1024,activation='relu'))\n",
    "model1.add(Dense(1024,activation='relu'))\n",
    "#model1.add(Dense(1024,activation='relu'))\n",
    "#model1.add(Dense(512,activation='relu'))\n",
    "#model1.add(Dense(512,activation='relu'))\n",
    "model1.add(Dense(512,activation='relu'))\n",
    "#model1.add(Dense(256,activation='relu'))\n",
    "#model1.add(Dense(256,activation='relu'))\n",
    "model1.add(Dense(256,activation='relu'))\n",
    "model1.add(Dense(128,activation='relu'))\n",
    "model1.add(Dense(30))\n",
    "model1.add(Activation(\"softmax\"))\n",
    "model1.compile(loss=\"categorical_crossentropy\",optimizer=opt,metrics=[\"accuracy\"])\n",
    "fit=model1.fit(X_train,y_train,epochs=100,batch_size=512,verbose=2,validation_data=(X_valid,y_valid),callbacks=[])\n",
    "score=model1.evaluate(X_test,y_test,batch_size=64)"
   ]
  },
  {
   "cell_type": "code",
   "execution_count": 38,
   "metadata": {},
   "outputs": [],
   "source": [
    "pred_y=model1.predict(X_test)"
   ]
  },
  {
   "cell_type": "code",
   "execution_count": 42,
   "metadata": {},
   "outputs": [
    {
     "data": {
      "text/plain": [
       "array([[7.8565849e-05, 5.2899081e-04, 5.9074114e-06, ..., 5.6164332e-05,\n",
       "        9.5769936e-10, 7.8548364e-06],\n",
       "       [4.6994395e-05, 3.0082577e-07, 9.9767658e-06, ..., 2.1815984e-05,\n",
       "        1.1969380e-03, 1.9048511e-04],\n",
       "       [9.0014539e-05, 6.2284977e-07, 1.0362165e-03, ..., 9.8021201e-07,\n",
       "        1.6960814e-05, 1.7668510e-05],\n",
       "       ...,\n",
       "       [9.2382598e-01, 3.1136055e-04, 1.3842146e-04, ..., 7.8635890e-04,\n",
       "        3.2411808e-07, 3.7034761e-04],\n",
       "       [2.0584758e-02, 1.8866463e-02, 4.2640488e-04, ..., 6.2244912e-03,\n",
       "        5.4697580e-07, 2.9535935e-04],\n",
       "       [1.5763009e-05, 6.7580413e-07, 6.2255145e-05, ..., 3.2493816e-07,\n",
       "        8.9332485e-07, 1.5647569e-06]], dtype=float32)"
      ]
     },
     "execution_count": 42,
     "metadata": {},
     "output_type": "execute_result"
    }
   ],
   "source": [
    "pred_y"
   ]
  },
  {
   "cell_type": "code",
   "execution_count": 40,
   "metadata": {
    "scrolled": true
   },
   "outputs": [
    {
     "data": {
      "text/plain": [
       "0.9637234770704997"
      ]
     },
     "execution_count": 40,
     "metadata": {},
     "output_type": "execute_result"
    }
   ],
   "source": [
    "np.sum(np.argmax(pred_y,axis=1)==np.argmax(y_test,axis=1))/pred_y.shape[0]"
   ]
  },
  {
   "cell_type": "code",
   "execution_count": 13,
   "metadata": {},
   "outputs": [
    {
     "name": "stdout",
     "output_type": "stream",
     "text": [
      "(2922, 56202)\n"
     ]
    }
   ],
   "source": [
    "print(X_test.shape)"
   ]
  },
  {
   "cell_type": "code",
   "execution_count": 35,
   "metadata": {
    "scrolled": true
   },
   "outputs": [
    {
     "name": "stdout",
     "output_type": "stream",
     "text": [
      "(79, 56202)\n"
     ]
    }
   ],
   "source": [
    "print(merged_tsv3.iloc[1:80,:].shape)"
   ]
  },
  {
   "cell_type": "code",
   "execution_count": 26,
   "metadata": {
    "scrolled": true
   },
   "outputs": [
    {
     "data": {
      "text/plain": [
       "array([0., 0., 0., 0., 0., 0., 0., 0., 0., 0., 0., 0., 0., 0., 0., 0., 0.,\n",
       "       0., 0., 0., 0., 0., 0., 0., 0., 0., 1., 0., 0., 0.])"
      ]
     },
     "execution_count": 26,
     "metadata": {},
     "output_type": "execute_result"
    }
   ],
   "source": [
    "y_test[10]"
   ]
  },
  {
   "cell_type": "code",
   "execution_count": 7,
   "metadata": {},
   "outputs": [],
   "source": [
    "del ft4"
   ]
  },
  {
   "cell_type": "code",
   "execution_count": 8,
   "metadata": {},
   "outputs": [],
   "source": [
    "del X_train"
   ]
  },
  {
   "cell_type": "code",
   "execution_count": null,
   "metadata": {},
   "outputs": [],
   "source": [
    "df2=pd.read_csv(\"answer.csv\", delimiter=\"\\t\")\n",
    "c = collections.Counter(df2[\"SMT\"])"
   ]
  },
  {
   "cell_type": "code",
   "execution_count": 17,
   "metadata": {},
   "outputs": [],
   "source": [
    "ft2=pd.read_table(\"GTEx_Analysis_2016-01-15_v7_RNASeQCv1.1.8_gene_tpm.gct/GTEx_Analysis_2016-01-15_v7_RNASeQCv1.1.8_gene_tpm.gct\", sep=\"\\t\", header=2,dtype=dic_type)"
   ]
  },
  {
   "cell_type": "code",
   "execution_count": 23,
   "metadata": {
    "scrolled": true
   },
   "outputs": [
    {
     "data": {
      "text/html": [
       "<div>\n",
       "<style scoped>\n",
       "    .dataframe tbody tr th:only-of-type {\n",
       "        vertical-align: middle;\n",
       "    }\n",
       "\n",
       "    .dataframe tbody tr th {\n",
       "        vertical-align: top;\n",
       "    }\n",
       "\n",
       "    .dataframe thead th {\n",
       "        text-align: right;\n",
       "    }\n",
       "</style>\n",
       "<table border=\"1\" class=\"dataframe\">\n",
       "  <thead>\n",
       "    <tr style=\"text-align: right;\">\n",
       "      <th></th>\n",
       "      <th>Name</th>\n",
       "      <th>Description</th>\n",
       "      <th>GTEX-1117F-0226-SM-5GZZ7</th>\n",
       "      <th>GTEX-111CU-1826-SM-5GZYN</th>\n",
       "      <th>GTEX-111FC-0226-SM-5N9B8</th>\n",
       "      <th>GTEX-111VG-2326-SM-5N9BK</th>\n",
       "      <th>GTEX-111YS-2426-SM-5GZZQ</th>\n",
       "      <th>GTEX-1122O-2026-SM-5NQ91</th>\n",
       "      <th>GTEX-1128S-2126-SM-5H12U</th>\n",
       "      <th>GTEX-113IC-0226-SM-5HL5C</th>\n",
       "      <th>...</th>\n",
       "      <th>GTEX-ZVE2-0006-SM-51MRW</th>\n",
       "      <th>GTEX-ZVP2-0005-SM-51MRK</th>\n",
       "      <th>GTEX-ZVT2-0005-SM-57WBW</th>\n",
       "      <th>GTEX-ZVT3-0006-SM-51MT9</th>\n",
       "      <th>GTEX-ZVT4-0006-SM-57WB8</th>\n",
       "      <th>GTEX-ZVTK-0006-SM-57WBK</th>\n",
       "      <th>GTEX-ZVZP-0006-SM-51MSW</th>\n",
       "      <th>GTEX-ZVZQ-0006-SM-51MR8</th>\n",
       "      <th>GTEX-ZXES-0005-SM-57WCB</th>\n",
       "      <th>GTEX-ZXG5-0005-SM-57WCN</th>\n",
       "    </tr>\n",
       "  </thead>\n",
       "  <tbody>\n",
       "    <tr>\n",
       "      <th>0</th>\n",
       "      <td>ENSG00000223972.4</td>\n",
       "      <td>DDX11L1</td>\n",
       "      <td>-0.082987</td>\n",
       "      <td>-0.058305</td>\n",
       "      <td>-0.051023</td>\n",
       "      <td>-0.050938</td>\n",
       "      <td>-0.031879</td>\n",
       "      <td>-0.036824</td>\n",
       "      <td>-0.046011</td>\n",
       "      <td>-0.064201</td>\n",
       "      <td>...</td>\n",
       "      <td>-0.007404</td>\n",
       "      <td>-0.023319</td>\n",
       "      <td>-0.012711</td>\n",
       "      <td>-0.010912</td>\n",
       "      <td>-0.019300</td>\n",
       "      <td>-0.013588</td>\n",
       "      <td>-0.032820</td>\n",
       "      <td>-0.012237</td>\n",
       "      <td>-0.016445</td>\n",
       "      <td>-0.026980</td>\n",
       "    </tr>\n",
       "    <tr>\n",
       "      <th>1</th>\n",
       "      <td>ENSG00000227232.4</td>\n",
       "      <td>WASH7P</td>\n",
       "      <td>0.016926</td>\n",
       "      <td>-0.022307</td>\n",
       "      <td>-0.002995</td>\n",
       "      <td>-0.027579</td>\n",
       "      <td>-0.018158</td>\n",
       "      <td>-0.017474</td>\n",
       "      <td>-0.019980</td>\n",
       "      <td>-0.015354</td>\n",
       "      <td>...</td>\n",
       "      <td>-0.005800</td>\n",
       "      <td>-0.006162</td>\n",
       "      <td>-0.008807</td>\n",
       "      <td>-0.007362</td>\n",
       "      <td>-0.010537</td>\n",
       "      <td>-0.007907</td>\n",
       "      <td>-0.010035</td>\n",
       "      <td>-0.003707</td>\n",
       "      <td>-0.009147</td>\n",
       "      <td>-0.007695</td>\n",
       "    </tr>\n",
       "    <tr>\n",
       "      <th>2</th>\n",
       "      <td>ENSG00000243485.2</td>\n",
       "      <td>MIR1302-11</td>\n",
       "      <td>-0.082743</td>\n",
       "      <td>-0.058475</td>\n",
       "      <td>-0.050949</td>\n",
       "      <td>-0.051004</td>\n",
       "      <td>-0.031774</td>\n",
       "      <td>-0.036920</td>\n",
       "      <td>-0.045736</td>\n",
       "      <td>-0.063786</td>\n",
       "      <td>...</td>\n",
       "      <td>-0.007408</td>\n",
       "      <td>-0.023464</td>\n",
       "      <td>-0.012786</td>\n",
       "      <td>-0.010847</td>\n",
       "      <td>-0.020043</td>\n",
       "      <td>-0.014089</td>\n",
       "      <td>-0.032945</td>\n",
       "      <td>-0.012531</td>\n",
       "      <td>-0.016621</td>\n",
       "      <td>-0.027120</td>\n",
       "    </tr>\n",
       "    <tr>\n",
       "      <th>3</th>\n",
       "      <td>ENSG00000237613.2</td>\n",
       "      <td>FAM138A</td>\n",
       "      <td>-0.083258</td>\n",
       "      <td>-0.058687</td>\n",
       "      <td>-0.050999</td>\n",
       "      <td>-0.050911</td>\n",
       "      <td>-0.031879</td>\n",
       "      <td>-0.036920</td>\n",
       "      <td>-0.045867</td>\n",
       "      <td>-0.064065</td>\n",
       "      <td>...</td>\n",
       "      <td>-0.007442</td>\n",
       "      <td>-0.023422</td>\n",
       "      <td>-0.012733</td>\n",
       "      <td>-0.010892</td>\n",
       "      <td>-0.020043</td>\n",
       "      <td>-0.014076</td>\n",
       "      <td>-0.033045</td>\n",
       "      <td>-0.012493</td>\n",
       "      <td>-0.016637</td>\n",
       "      <td>-0.027150</td>\n",
       "    </tr>\n",
       "    <tr>\n",
       "      <th>4</th>\n",
       "      <td>ENSG00000268020.2</td>\n",
       "      <td>OR4G4P</td>\n",
       "      <td>-0.083494</td>\n",
       "      <td>-0.058687</td>\n",
       "      <td>-0.051084</td>\n",
       "      <td>-0.051004</td>\n",
       "      <td>-0.031879</td>\n",
       "      <td>-0.036920</td>\n",
       "      <td>-0.045803</td>\n",
       "      <td>-0.064337</td>\n",
       "      <td>...</td>\n",
       "      <td>-0.007442</td>\n",
       "      <td>-0.023512</td>\n",
       "      <td>-0.012786</td>\n",
       "      <td>-0.010912</td>\n",
       "      <td>-0.020043</td>\n",
       "      <td>-0.014140</td>\n",
       "      <td>-0.032883</td>\n",
       "      <td>-0.012531</td>\n",
       "      <td>-0.016665</td>\n",
       "      <td>-0.027136</td>\n",
       "    </tr>\n",
       "  </tbody>\n",
       "</table>\n",
       "<p>5 rows × 11690 columns</p>\n",
       "</div>"
      ],
      "text/plain": [
       "                Name Description  GTEX-1117F-0226-SM-5GZZ7  \\\n",
       "0  ENSG00000223972.4     DDX11L1                 -0.082987   \n",
       "1  ENSG00000227232.4      WASH7P                  0.016926   \n",
       "2  ENSG00000243485.2  MIR1302-11                 -0.082743   \n",
       "3  ENSG00000237613.2     FAM138A                 -0.083258   \n",
       "4  ENSG00000268020.2      OR4G4P                 -0.083494   \n",
       "\n",
       "   GTEX-111CU-1826-SM-5GZYN  GTEX-111FC-0226-SM-5N9B8  \\\n",
       "0                 -0.058305                 -0.051023   \n",
       "1                 -0.022307                 -0.002995   \n",
       "2                 -0.058475                 -0.050949   \n",
       "3                 -0.058687                 -0.050999   \n",
       "4                 -0.058687                 -0.051084   \n",
       "\n",
       "   GTEX-111VG-2326-SM-5N9BK  GTEX-111YS-2426-SM-5GZZQ  \\\n",
       "0                 -0.050938                 -0.031879   \n",
       "1                 -0.027579                 -0.018158   \n",
       "2                 -0.051004                 -0.031774   \n",
       "3                 -0.050911                 -0.031879   \n",
       "4                 -0.051004                 -0.031879   \n",
       "\n",
       "   GTEX-1122O-2026-SM-5NQ91  GTEX-1128S-2126-SM-5H12U  \\\n",
       "0                 -0.036824                 -0.046011   \n",
       "1                 -0.017474                 -0.019980   \n",
       "2                 -0.036920                 -0.045736   \n",
       "3                 -0.036920                 -0.045867   \n",
       "4                 -0.036920                 -0.045803   \n",
       "\n",
       "   GTEX-113IC-0226-SM-5HL5C           ...             GTEX-ZVE2-0006-SM-51MRW  \\\n",
       "0                 -0.064201           ...                           -0.007404   \n",
       "1                 -0.015354           ...                           -0.005800   \n",
       "2                 -0.063786           ...                           -0.007408   \n",
       "3                 -0.064065           ...                           -0.007442   \n",
       "4                 -0.064337           ...                           -0.007442   \n",
       "\n",
       "   GTEX-ZVP2-0005-SM-51MRK  GTEX-ZVT2-0005-SM-57WBW  GTEX-ZVT3-0006-SM-51MT9  \\\n",
       "0                -0.023319                -0.012711                -0.010912   \n",
       "1                -0.006162                -0.008807                -0.007362   \n",
       "2                -0.023464                -0.012786                -0.010847   \n",
       "3                -0.023422                -0.012733                -0.010892   \n",
       "4                -0.023512                -0.012786                -0.010912   \n",
       "\n",
       "   GTEX-ZVT4-0006-SM-57WB8  GTEX-ZVTK-0006-SM-57WBK  GTEX-ZVZP-0006-SM-51MSW  \\\n",
       "0                -0.019300                -0.013588                -0.032820   \n",
       "1                -0.010537                -0.007907                -0.010035   \n",
       "2                -0.020043                -0.014089                -0.032945   \n",
       "3                -0.020043                -0.014076                -0.033045   \n",
       "4                -0.020043                -0.014140                -0.032883   \n",
       "\n",
       "   GTEX-ZVZQ-0006-SM-51MR8  GTEX-ZXES-0005-SM-57WCB  GTEX-ZXG5-0005-SM-57WCN  \n",
       "0                -0.012237                -0.016445                -0.026980  \n",
       "1                -0.003707                -0.009147                -0.007695  \n",
       "2                -0.012531                -0.016621                -0.027120  \n",
       "3                -0.012493                -0.016637                -0.027150  \n",
       "4                -0.012531                -0.016665                -0.027136  \n",
       "\n",
       "[5 rows x 11690 columns]"
      ]
     },
     "execution_count": 23,
     "metadata": {},
     "output_type": "execute_result"
    }
   ],
   "source": [
    "ft2.head()"
   ]
  },
  {
   "cell_type": "code",
   "execution_count": 18,
   "metadata": {},
   "outputs": [],
   "source": [
    "ft2.iloc[:,2:]=zscore(ft2.iloc[:,2:])"
   ]
  },
  {
   "cell_type": "code",
   "execution_count": 30,
   "metadata": {},
   "outputs": [
    {
     "name": "stdout",
     "output_type": "stream",
     "text": [
      "(56202, 12908)\n"
     ]
    }
   ],
   "source": [
    "import collections\n",
    "import matplotlib.pyplot as plt\n",
    "tsv=pd.read_csv(\"patient_data/TCGA-BRCA.htseq_fpkm.tsv\", delimiter=\"\\t\")\n",
    "#change FPKM to TPM\n",
    "tsv.iloc[:,1:]=1000000*tsv.iloc[:,1:]/tsv.iloc[:,1:].sum()\n",
    "tsv.iloc[:,1:]=zscore(tsv.iloc[:,1:])\n",
    "merge_tsv=pd.merge(tsv,ft2, left_on='Ensembl_ID', right_on='Name', how='right')\n",
    "print(merge_tsv.shape)\n",
    "#（先に正規化する）欠損値補完\n",
    "merge_tsv2=merge_tsv.transpose()\n",
    "del merge_tsv\n",
    "merged_tsv3=merge_tsv2.fillna(merge_tsv2.iloc[tsv.shape[1]+2:,:].mean())"
   ]
  },
  {
   "cell_type": "code",
   "execution_count": 45,
   "metadata": {},
   "outputs": [
    {
     "data": {
      "text/plain": [
       "443.3941976192535"
      ]
     },
     "execution_count": 45,
     "metadata": {},
     "output_type": "execute_result"
    }
   ],
   "source": [
    "tsv.iloc[:,1:].values.max()"
   ]
  },
  {
   "cell_type": "code",
   "execution_count": 50,
   "metadata": {},
   "outputs": [],
   "source": [
    "%matplotlib inline"
   ]
  },
  {
   "cell_type": "code",
   "execution_count": 52,
   "metadata": {},
   "outputs": [
    {
     "data": {
      "text/plain": [
       "(array([1.3228e+04, 1.2950e+03, 1.0170e+03, 8.0000e+02, 5.4700e+02,\n",
       "        2.1100e+02, 1.3300e+02, 5.4000e+01, 1.3000e+01, 2.0000e+00]),\n",
       " array([  0.        ,  22.7574954 ,  45.5149908 ,  68.27248621,\n",
       "         91.02998161, 113.78747701, 136.54497241, 159.30246782,\n",
       "        182.05996322, 204.81745862, 227.57495402]),\n",
       " <a list of 10 Patch objects>)"
      ]
     },
     "execution_count": 52,
     "metadata": {},
     "output_type": "execute_result"
    },
    {
     "data": {
      "image/png": "[encoded data removed]",
      "text/plain": [
       "<Figure size 432x288 with 1 Axes>"
      ]
     },
     "metadata": {
      "needs_background": "light"
     },
     "output_type": "display_data"
    }
   ],
   "source": [
    "plt.hist(np.ravel(tsv.iloc[:100,1:].values))"
   ]
  },
  {
   "cell_type": "code",
   "execution_count": 8,
   "metadata": {
    "scrolled": true
   },
   "outputs": [
    {
     "data": {
      "text/plain": [
       "(array([1.159424e+06, 5.700000e+03, 2.454000e+03, 9.140000e+02,\n",
       "        2.140000e+02, 6.800000e+01, 1.400000e+01, 8.000000e+00,\n",
       "        3.000000e+00, 1.000000e+00]),\n",
       " array([    0.,  2319.,  4638.,  6957.,  9276., 11595., 13914., 16233.,\n",
       "        18552., 20871., 23190.]),\n",
       " <a list of 10 Patch objects>)"
      ]
     },
     "execution_count": 8,
     "metadata": {},
     "output_type": "execute_result"
    },
    {
     "data": {
      "image/png": "[encoded data removed]",
      "text/plain": [
       "<Figure size 432x288 with 1 Axes>"
      ]
     },
     "metadata": {
      "needs_background": "light"
     },
     "output_type": "display_data"
    }
   ],
   "source": [
    "ft_2=ft2.iloc[:,2:].values\n",
    "plt.hist(np.ravel(ft_2[:100]))"
   ]
  },
  {
   "cell_type": "code",
   "execution_count": 12,
   "metadata": {},
   "outputs": [
    {
     "data": {
      "text/plain": [
       "(array([1.154786e+06, 2.215000e+03, 3.781000e+03, 6.114000e+03,\n",
       "        1.334000e+03, 2.590000e+02, 1.750000e+02, 1.000000e+02,\n",
       "        2.800000e+01, 8.000000e+00]),\n",
       " array([-0.14161018,  2.35838785,  4.85838588,  7.3583839 ,  9.85838193,\n",
       "        12.35837996, 14.85837798, 17.35837601, 19.85837404, 22.35837207,\n",
       "        24.85837009]),\n",
       " <a list of 10 Patch objects>)"
      ]
     },
     "execution_count": 12,
     "metadata": {},
     "output_type": "execute_result"
    },
    {
     "data": {
      "image/png": "[encoded data removed]",
      "text/plain": [
       "<Figure size 432x288 with 1 Axes>"
      ]
     },
     "metadata": {
      "needs_background": "light"
     },
     "output_type": "display_data"
    }
   ],
   "source": [
    "ft_2=ft2.iloc[:,2:].values\n",
    "plt.hist(np.ravel(ft_2[:100]))"
   ]
  },
  {
   "cell_type": "code",
   "execution_count": 20,
   "metadata": {
    "scrolled": true
   },
   "outputs": [
    {
     "name": "stderr",
     "output_type": "stream",
     "text": [
      "/usr/local/pyenv/versions/3.6.5/lib/python3.6/site-packages/pandas/core/generic.py:7460: RuntimeWarning: '<' not supported between instances of 'str' and 'int', sort order is undefined for incomparable objects\n",
      "  return_indexers=True)\n"
     ]
    }
   ],
   "source": [
    "#merged_tsv3.iloc[1:tsv.shape[1],:]=zscore(merged_tsv3.iloc[1:tsv.shape[1],:],axis=1)"
   ]
  },
  {
   "cell_type": "code",
   "execution_count": null,
   "metadata": {},
   "outputs": [],
   "source": [
    "print(predict_patient_class)"
   ]
  },
  {
   "cell_type": "code",
   "execution_count": 31,
   "metadata": {
    "scrolled": true
   },
   "outputs": [
    {
     "name": "stdout",
     "output_type": "stream",
     "text": [
      "[[0.03084153 0.05152826 0.03824987 0.01915345 0.02869049 0.03705398\n",
      "  0.03073423 0.04619122 0.06621089 0.02316705 0.03007476 0.03789276\n",
      "  0.03399127 0.01226228 0.02112894 0.02521734 0.0182472  0.02484677\n",
      "  0.05585054 0.05030451 0.03468984 0.04043013 0.04278166 0.04063409\n",
      "  0.01992454 0.03325509 0.02610402 0.03494615 0.02264925 0.02294794]\n",
      " [0.02984001 0.06633385 0.03166134 0.01591626 0.02713329 0.03128687\n",
      "  0.03001847 0.03283976 0.04437128 0.02257097 0.02465075 0.03358926\n",
      "  0.05473162 0.00908673 0.02143227 0.03581508 0.01988412 0.02453263\n",
      "  0.04678056 0.06492356 0.03169412 0.04593873 0.04976695 0.03164602\n",
      "  0.01736484 0.04155405 0.02941744 0.03513893 0.02685047 0.02322981]\n",
      " [0.03238828 0.06776663 0.04509059 0.02228184 0.02701108 0.03247658\n",
      "  0.03048033 0.04693434 0.04835776 0.023972   0.02022508 0.04249083\n",
      "  0.04295889 0.01389753 0.01979078 0.02833918 0.01890195 0.02223212\n",
      "  0.03996177 0.04940534 0.02857809 0.03659882 0.04771941 0.03460735\n",
      "  0.01854009 0.03912353 0.02962263 0.04151326 0.02576091 0.02297306]]\n",
      "[ 8  1  1 ...  1  1 19]\n",
      "Counter({1: 759, 19: 255, 8: 83, 7: 54, 18: 47, 11: 11, 5: 2, 2: 2, 23: 1, 12: 1, 22: 1, 20: 1})\n"
     ]
    },
    {
     "data": {
      "image/png": "[encoded data removed]",
      "text/plain": [
       "<Figure size 640x480 with 1 Axes>"
      ]
     },
     "metadata": {},
     "output_type": "display_data"
    }
   ],
   "source": [
    "#predict\n",
    "del merge_tsv2\n",
    "predict_patient_classes=model1.predict(merged_tsv3.iloc[1:tsv.shape[1],:].values)\n",
    "print(predict_patient_classes[:3])\n",
    "del merged_tsv3\n",
    "print(np.argmax(predict_patient_classes,axis=1))\n",
    "pre_data=np.argmax(predict_patient_classes,axis=1).astype(np.int32)\n",
    "del predict_patient_classes \n",
    "np.savetxt(\"TCGA-BRCA.htseq_fpkm.csv\",pre_data,delimiter=',')\n",
    "c = collections.Counter(pre_data)\n",
    "print(c)\n",
    "\n",
    "import matplotlib.pyplot as plt\n",
    "import seaborn as sns\n",
    "import numpy as np\n",
    "\n",
    "plt.style.use('default')\n",
    "sns.set()\n",
    "sns.set_style('whitegrid')\n",
    "sns.set_palette('Set2')\n",
    "\n",
    "c_d=dict(c)\n",
    "fig = plt.figure()\n",
    "ax = fig.add_subplot(1, 1, 1)\n",
    "ax.pie(c_d.values(), labels=c_d.keys(), autopct=\"%1.1f%%\")\n",
    "\n",
    "plt.show()\n",
    "##モデルの形と違っているのでおこられている\n",
    "#おそらくmergeのあとで変化、、ft2ではあってる）\n",
    "#mergeチェック、これもkillされているのでもういちっどモデルからやり直す"
   ]
  },
  {
   "cell_type": "code",
   "execution_count": null,
   "metadata": {},
   "outputs": [],
   "source": [
    "print()"
   ]
  },
  {
   "cell_type": "code",
   "execution_count": 33,
   "metadata": {},
   "outputs": [
    {
     "name": "stdout",
     "output_type": "stream",
     "text": [
      "|            valuable name         |memory\n",
      "-------\n",
      "|                      df4         |2805232\n",
      "|                      ft2         |5262955875\n",
      "|                   pred_y         |350752\n",
      "|                      tsv         |593349469\n",
      "|                   y_test         |701392\n"
     ]
    }
   ],
   "source": [
    "import sys\n",
    "print(\"{}{:>25}{:>10}{}\".format('|','valuable name','|','memory','|'))\n",
    "print(\"-------\")\n",
    "for var in dir():\n",
    "    if not var.startswith(\"_\") and sys.getsizeof(eval(var))>10000:\n",
    "        print(\"{}{:>25}{:>10}{}\".format('|',var,'|',sys.getsizeof(eval(var)),'|'))"
   ]
  },
  {
   "cell_type": "code",
   "execution_count": 15,
   "metadata": {},
   "outputs": [],
   "source": [
    "del ft4_1"
   ]
  },
  {
   "cell_type": "code",
   "execution_count": 16,
   "metadata": {},
   "outputs": [],
   "source": [
    "del X_test"
   ]
  },
  {
   "cell_type": "code",
   "execution_count": 26,
   "metadata": {},
   "outputs": [
    {
     "data": {
      "text/plain": [
       "array([[1., 0., 0., ..., 0., 0., 0.],\n",
       "       [0., 0., 0., ..., 0., 0., 0.],\n",
       "       [0., 0., 0., ..., 0., 0., 0.],\n",
       "       ...,\n",
       "       [0., 0., 0., ..., 0., 0., 0.],\n",
       "       [0., 0., 0., ..., 0., 0., 0.],\n",
       "       [1., 0., 0., ..., 0., 0., 0.]])"
      ]
     },
     "execution_count": 26,
     "metadata": {},
     "output_type": "execute_result"
    }
   ],
   "source": [
    "df4"
   ]
  },
  {
   "cell_type": "code",
   "execution_count": 1,
   "metadata": {},
   "outputs": [
    {
     "name": "stdout",
     "output_type": "stream",
     "text": [
      "\u001b[0m\u001b[01;34mGTEx_Analysis_2016-01-15_v7_RNASeQCv1.1.8_gene_tpm.gct\u001b[0m/\r\n",
      "GTEx_v7_Annotations_SampleAttributesDS.txt\r\n",
      "TCGA-ACC.htseq_fpkm.npy\r\n",
      "answer.csv\r\n",
      "chap04_homework.ipynb\r\n",
      "deeplearning.ipynb\r\n",
      "file.ipynb\r\n",
      "file_model.ipynb\r\n",
      "\u001b[01;34mpatient\u001b[0m/\r\n",
      "\u001b[01;34mpatient data\u001b[0m/\r\n",
      "patient_model.ipynb\r\n",
      "patient_model_apply.ipynb\r\n",
      "test.npy\r\n",
      "train.npy\r\n"
     ]
    }
   ],
   "source": [
    "ls"
   ]
  },
  {
   "cell_type": "code",
   "execution_count": null,
   "metadata": {},
   "outputs": [],
   "source": []
  }
 ],
 "metadata": {
  "kernelspec": {
   "display_name": "Python 3",
   "language": "python",
   "name": "python3"
  },
  "language_info": {
   "codemirror_mode": {
    "name": "ipython",
    "version": 3
   },
   "file_extension": ".py",
   "mimetype": "text/x-python",
   "name": "python",
   "nbconvert_exporter": "python",
   "pygments_lexer": "ipython3",
   "version": "3.6.5"
  }
 },
 "nbformat": 4,
 "nbformat_minor": 2
}
