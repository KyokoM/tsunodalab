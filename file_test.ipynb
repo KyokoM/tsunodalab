{
 "cells": [
  {
   "cell_type": "code",
   "execution_count": 1,
   "metadata": {},
   "outputs": [],
   "source": [
    "import matplotlib.pyplot as plt\n",
    "import matplotlib.cm as cm\n",
    "import time\n",
    "import pandas as pd\n",
    "import h5py\n",
    "import os\n",
    "from sklearn.preprocessing import LabelEncoder\n",
    "import numpy as np\n",
    "from sklearn.linear_model import LogisticRegression\n",
    "from sklearn.model_selection import train_test_split\n",
    "from sklearn import metrics\n",
    "\n",
    "from sklearn.svm import LinearSVC\n",
    "\n",
    "from sklearn.svm import SVC\n",
    "\n",
    "from sklearn.tree import DecisionTreeClassifier\n",
    "from sklearn.tree import export_graphviz\n",
    "from IPython.display import Image, display_png\n",
    "#import pydotplus as pdp\n",
    "\n",
    "from sklearn.ensemble import RandomForestClassifier\n",
    "\n",
    "import seaborn as sns"
   ]
  },
  {
   "cell_type": "code",
   "execution_count": null,
   "metadata": {},
   "outputs": [],
   "source": []
  },
  {
   "cell_type": "code",
   "execution_count": 2,
   "metadata": {},
   "outputs": [],
   "source": [
    "dic_type={}\n",
    "dic_type[1]=\"str\"\n",
    "dic_type[2]=\"str\"\n",
    "for i in range(3,11):\n",
    "    dic_type[2]=\"float64\""
   ]
  },
  {
   "cell_type": "code",
   "execution_count": 3,
   "metadata": {},
   "outputs": [
    {
     "name": "stderr",
     "output_type": "stream",
     "text": [
      "/Users/tsunodaut03/anaconda3/lib/python3.7/site-packages/ipykernel_launcher.py:1: FutureWarning: read_table is deprecated, use read_csv instead.\n",
      "  \"\"\"Entry point for launching an IPython kernel.\n"
     ]
    }
   ],
   "source": [
    "ft2=pd.read_table(\"/Users/tsunodaut03/Downloads/10_genes.gct\", sep=\"\\t\", header=2,dtype=dic_type)"
   ]
  },
  {
   "cell_type": "code",
   "execution_count": 4,
   "metadata": {
    "scrolled": false
   },
   "outputs": [
    {
     "data": {
      "text/html": [
       "<div>\n",
       "<style scoped>\n",
       "    .dataframe tbody tr th:only-of-type {\n",
       "        vertical-align: middle;\n",
       "    }\n",
       "\n",
       "    .dataframe tbody tr th {\n",
       "        vertical-align: top;\n",
       "    }\n",
       "\n",
       "    .dataframe thead th {\n",
       "        text-align: right;\n",
       "    }\n",
       "</style>\n",
       "<table border=\"1\" class=\"dataframe\">\n",
       "  <thead>\n",
       "    <tr style=\"text-align: right;\">\n",
       "      <th></th>\n",
       "      <th>Name</th>\n",
       "      <th>Description</th>\n",
       "      <th>GTEX-1117F-0226-SM-5GZZ7</th>\n",
       "      <th>GTEX-111CU-1826-SM-5GZYN</th>\n",
       "      <th>GTEX-111FC-0226-SM-5N9B8</th>\n",
       "      <th>GTEX-111VG-2326-SM-5N9BK</th>\n",
       "      <th>GTEX-111YS-2426-SM-5GZZQ</th>\n",
       "      <th>GTEX-1122O-2026-SM-5NQ91</th>\n",
       "      <th>GTEX-1128S-2126-SM-5H12U</th>\n",
       "      <th>GTEX-113IC-0226-SM-5HL5C</th>\n",
       "      <th>...</th>\n",
       "      <th>GTEX-ZVE2-0006-SM-51MRW</th>\n",
       "      <th>GTEX-ZVP2-0005-SM-51MRK</th>\n",
       "      <th>GTEX-ZVT2-0005-SM-57WBW</th>\n",
       "      <th>GTEX-ZVT3-0006-SM-51MT9</th>\n",
       "      <th>GTEX-ZVT4-0006-SM-57WB8</th>\n",
       "      <th>GTEX-ZVTK-0006-SM-57WBK</th>\n",
       "      <th>GTEX-ZVZP-0006-SM-51MSW</th>\n",
       "      <th>GTEX-ZVZQ-0006-SM-51MR8</th>\n",
       "      <th>GTEX-ZXES-0005-SM-57WCB</th>\n",
       "      <th>GTEX-ZXG5-0005-SM-57WCN</th>\n",
       "    </tr>\n",
       "  </thead>\n",
       "  <tbody>\n",
       "    <tr>\n",
       "      <th>0</th>\n",
       "      <td>ENSG00000223972.4</td>\n",
       "      <td>DDX11L1</td>\n",
       "      <td>0.10820</td>\n",
       "      <td>0.11580</td>\n",
       "      <td>0.02104</td>\n",
       "      <td>0.02329</td>\n",
       "      <td>0.00000</td>\n",
       "      <td>0.04641</td>\n",
       "      <td>0.03076</td>\n",
       "      <td>0.09358</td>\n",
       "      <td>...</td>\n",
       "      <td>0.09012</td>\n",
       "      <td>0.14620</td>\n",
       "      <td>0.10450</td>\n",
       "      <td>0.00000</td>\n",
       "      <td>0.6603</td>\n",
       "      <td>0.69500</td>\n",
       "      <td>0.12130</td>\n",
       "      <td>0.41690</td>\n",
       "      <td>0.23550</td>\n",
       "      <td>0.14500</td>\n",
       "    </tr>\n",
       "    <tr>\n",
       "      <th>1</th>\n",
       "      <td>ENSG00000227232.4</td>\n",
       "      <td>WASH7P</td>\n",
       "      <td>21.40000</td>\n",
       "      <td>11.03000</td>\n",
       "      <td>16.75000</td>\n",
       "      <td>8.17200</td>\n",
       "      <td>7.65800</td>\n",
       "      <td>9.37200</td>\n",
       "      <td>10.08000</td>\n",
       "      <td>13.56000</td>\n",
       "      <td>...</td>\n",
       "      <td>3.92600</td>\n",
       "      <td>13.13000</td>\n",
       "      <td>5.53700</td>\n",
       "      <td>5.78900</td>\n",
       "      <td>8.4390</td>\n",
       "      <td>7.84300</td>\n",
       "      <td>12.39000</td>\n",
       "      <td>12.53000</td>\n",
       "      <td>8.02700</td>\n",
       "      <td>12.76000</td>\n",
       "    </tr>\n",
       "    <tr>\n",
       "      <th>2</th>\n",
       "      <td>ENSG00000243485.2</td>\n",
       "      <td>MIR1302-11</td>\n",
       "      <td>0.16020</td>\n",
       "      <td>0.06433</td>\n",
       "      <td>0.04674</td>\n",
       "      <td>0.00000</td>\n",
       "      <td>0.05864</td>\n",
       "      <td>0.00000</td>\n",
       "      <td>0.13670</td>\n",
       "      <td>0.20790</td>\n",
       "      <td>...</td>\n",
       "      <td>0.08008</td>\n",
       "      <td>0.03607</td>\n",
       "      <td>0.00000</td>\n",
       "      <td>0.10590</td>\n",
       "      <td>0.0000</td>\n",
       "      <td>0.06432</td>\n",
       "      <td>0.05388</td>\n",
       "      <td>0.00000</td>\n",
       "      <td>0.04756</td>\n",
       "      <td>0.05367</td>\n",
       "    </tr>\n",
       "    <tr>\n",
       "      <th>3</th>\n",
       "      <td>ENSG00000237613.2</td>\n",
       "      <td>FAM138A</td>\n",
       "      <td>0.05045</td>\n",
       "      <td>0.00000</td>\n",
       "      <td>0.02945</td>\n",
       "      <td>0.03260</td>\n",
       "      <td>0.00000</td>\n",
       "      <td>0.00000</td>\n",
       "      <td>0.08610</td>\n",
       "      <td>0.13100</td>\n",
       "      <td>...</td>\n",
       "      <td>0.00000</td>\n",
       "      <td>0.06818</td>\n",
       "      <td>0.07309</td>\n",
       "      <td>0.03336</td>\n",
       "      <td>0.0000</td>\n",
       "      <td>0.08105</td>\n",
       "      <td>0.00000</td>\n",
       "      <td>0.05304</td>\n",
       "      <td>0.02996</td>\n",
       "      <td>0.03381</td>\n",
       "    </tr>\n",
       "    <tr>\n",
       "      <th>4</th>\n",
       "      <td>ENSG00000268020.2</td>\n",
       "      <td>OR4G4P</td>\n",
       "      <td>0.00000</td>\n",
       "      <td>0.00000</td>\n",
       "      <td>0.00000</td>\n",
       "      <td>0.00000</td>\n",
       "      <td>0.00000</td>\n",
       "      <td>0.00000</td>\n",
       "      <td>0.11080</td>\n",
       "      <td>0.05619</td>\n",
       "      <td>...</td>\n",
       "      <td>0.00000</td>\n",
       "      <td>0.00000</td>\n",
       "      <td>0.00000</td>\n",
       "      <td>0.00000</td>\n",
       "      <td>0.0000</td>\n",
       "      <td>0.00000</td>\n",
       "      <td>0.08739</td>\n",
       "      <td>0.00000</td>\n",
       "      <td>0.00000</td>\n",
       "      <td>0.04353</td>\n",
       "    </tr>\n",
       "  </tbody>\n",
       "</table>\n",
       "<p>5 rows × 11690 columns</p>\n",
       "</div>"
      ],
      "text/plain": [
       "                Name Description  GTEX-1117F-0226-SM-5GZZ7  \\\n",
       "0  ENSG00000223972.4     DDX11L1                   0.10820   \n",
       "1  ENSG00000227232.4      WASH7P                  21.40000   \n",
       "2  ENSG00000243485.2  MIR1302-11                   0.16020   \n",
       "3  ENSG00000237613.2     FAM138A                   0.05045   \n",
       "4  ENSG00000268020.2      OR4G4P                   0.00000   \n",
       "\n",
       "   GTEX-111CU-1826-SM-5GZYN  GTEX-111FC-0226-SM-5N9B8  \\\n",
       "0                   0.11580                   0.02104   \n",
       "1                  11.03000                  16.75000   \n",
       "2                   0.06433                   0.04674   \n",
       "3                   0.00000                   0.02945   \n",
       "4                   0.00000                   0.00000   \n",
       "\n",
       "   GTEX-111VG-2326-SM-5N9BK  GTEX-111YS-2426-SM-5GZZQ  \\\n",
       "0                   0.02329                   0.00000   \n",
       "1                   8.17200                   7.65800   \n",
       "2                   0.00000                   0.05864   \n",
       "3                   0.03260                   0.00000   \n",
       "4                   0.00000                   0.00000   \n",
       "\n",
       "   GTEX-1122O-2026-SM-5NQ91  GTEX-1128S-2126-SM-5H12U  \\\n",
       "0                   0.04641                   0.03076   \n",
       "1                   9.37200                  10.08000   \n",
       "2                   0.00000                   0.13670   \n",
       "3                   0.00000                   0.08610   \n",
       "4                   0.00000                   0.11080   \n",
       "\n",
       "   GTEX-113IC-0226-SM-5HL5C  ...  GTEX-ZVE2-0006-SM-51MRW  \\\n",
       "0                   0.09358  ...                  0.09012   \n",
       "1                  13.56000  ...                  3.92600   \n",
       "2                   0.20790  ...                  0.08008   \n",
       "3                   0.13100  ...                  0.00000   \n",
       "4                   0.05619  ...                  0.00000   \n",
       "\n",
       "   GTEX-ZVP2-0005-SM-51MRK  GTEX-ZVT2-0005-SM-57WBW  GTEX-ZVT3-0006-SM-51MT9  \\\n",
       "0                  0.14620                  0.10450                  0.00000   \n",
       "1                 13.13000                  5.53700                  5.78900   \n",
       "2                  0.03607                  0.00000                  0.10590   \n",
       "3                  0.06818                  0.07309                  0.03336   \n",
       "4                  0.00000                  0.00000                  0.00000   \n",
       "\n",
       "   GTEX-ZVT4-0006-SM-57WB8  GTEX-ZVTK-0006-SM-57WBK  GTEX-ZVZP-0006-SM-51MSW  \\\n",
       "0                   0.6603                  0.69500                  0.12130   \n",
       "1                   8.4390                  7.84300                 12.39000   \n",
       "2                   0.0000                  0.06432                  0.05388   \n",
       "3                   0.0000                  0.08105                  0.00000   \n",
       "4                   0.0000                  0.00000                  0.08739   \n",
       "\n",
       "   GTEX-ZVZQ-0006-SM-51MR8  GTEX-ZXES-0005-SM-57WCB  GTEX-ZXG5-0005-SM-57WCN  \n",
       "0                  0.41690                  0.23550                  0.14500  \n",
       "1                 12.53000                  8.02700                 12.76000  \n",
       "2                  0.00000                  0.04756                  0.05367  \n",
       "3                  0.05304                  0.02996                  0.03381  \n",
       "4                  0.00000                  0.00000                  0.04353  \n",
       "\n",
       "[5 rows x 11690 columns]"
      ]
     },
     "execution_count": 4,
     "metadata": {},
     "output_type": "execute_result"
    }
   ],
   "source": [
    "ft2.head()"
   ]
  },
  {
   "cell_type": "code",
   "execution_count": 5,
   "metadata": {
    "scrolled": true
   },
   "outputs": [
    {
     "name": "stdout",
     "output_type": "stream",
     "text": [
      "(7, 11690)\n"
     ]
    }
   ],
   "source": [
    "print(ft2.shape)"
   ]
  },
  {
   "cell_type": "code",
   "execution_count": null,
   "metadata": {},
   "outputs": [],
   "source": []
  },
  {
   "cell_type": "code",
   "execution_count": null,
   "metadata": {
    "scrolled": true
   },
   "outputs": [],
   "source": []
  },
  {
   "cell_type": "code",
   "execution_count": 6,
   "metadata": {},
   "outputs": [],
   "source": [
    "ft1=ft2.transpose()"
   ]
  },
  {
   "cell_type": "code",
   "execution_count": 7,
   "metadata": {
    "scrolled": true
   },
   "outputs": [
    {
     "data": {
      "text/html": [
       "<div>\n",
       "<style scoped>\n",
       "    .dataframe tbody tr th:only-of-type {\n",
       "        vertical-align: middle;\n",
       "    }\n",
       "\n",
       "    .dataframe tbody tr th {\n",
       "        vertical-align: top;\n",
       "    }\n",
       "\n",
       "    .dataframe thead th {\n",
       "        text-align: right;\n",
       "    }\n",
       "</style>\n",
       "<table border=\"1\" class=\"dataframe\">\n",
       "  <thead>\n",
       "    <tr style=\"text-align: right;\">\n",
       "      <th></th>\n",
       "      <th>0</th>\n",
       "      <th>1</th>\n",
       "      <th>2</th>\n",
       "      <th>3</th>\n",
       "      <th>4</th>\n",
       "      <th>5</th>\n",
       "      <th>6</th>\n",
       "    </tr>\n",
       "  </thead>\n",
       "  <tbody>\n",
       "    <tr>\n",
       "      <th>Name</th>\n",
       "      <td>ENSG00000223972.4</td>\n",
       "      <td>ENSG00000227232.4</td>\n",
       "      <td>ENSG00000243485.2</td>\n",
       "      <td>ENSG00000237613.2</td>\n",
       "      <td>ENSG00000268020.2</td>\n",
       "      <td>ENSG00000240361.1</td>\n",
       "      <td>ENSG00000186092.4</td>\n",
       "    </tr>\n",
       "    <tr>\n",
       "      <th>Description</th>\n",
       "      <td>DDX11L1</td>\n",
       "      <td>WASH7P</td>\n",
       "      <td>MIR1302-11</td>\n",
       "      <td>FAM138A</td>\n",
       "      <td>OR4G4P</td>\n",
       "      <td>OR4G11P</td>\n",
       "      <td>OR4F5</td>\n",
       "    </tr>\n",
       "    <tr>\n",
       "      <th>GTEX-1117F-0226-SM-5GZZ7</th>\n",
       "      <td>0.1082</td>\n",
       "      <td>21.4</td>\n",
       "      <td>0.1602</td>\n",
       "      <td>0.05045</td>\n",
       "      <td>0</td>\n",
       "      <td>0</td>\n",
       "      <td>0</td>\n",
       "    </tr>\n",
       "    <tr>\n",
       "      <th>GTEX-111CU-1826-SM-5GZYN</th>\n",
       "      <td>0.1158</td>\n",
       "      <td>11.03</td>\n",
       "      <td>0.06433</td>\n",
       "      <td>0</td>\n",
       "      <td>0</td>\n",
       "      <td>0.1051</td>\n",
       "      <td>0</td>\n",
       "    </tr>\n",
       "    <tr>\n",
       "      <th>GTEX-111FC-0226-SM-5N9B8</th>\n",
       "      <td>0.02104</td>\n",
       "      <td>16.75</td>\n",
       "      <td>0.04674</td>\n",
       "      <td>0.02945</td>\n",
       "      <td>0</td>\n",
       "      <td>0.07637</td>\n",
       "      <td>0</td>\n",
       "    </tr>\n",
       "  </tbody>\n",
       "</table>\n",
       "</div>"
      ],
      "text/plain": [
       "                                          0                  1  \\\n",
       "Name                      ENSG00000223972.4  ENSG00000227232.4   \n",
       "Description                         DDX11L1             WASH7P   \n",
       "GTEX-1117F-0226-SM-5GZZ7             0.1082               21.4   \n",
       "GTEX-111CU-1826-SM-5GZYN             0.1158              11.03   \n",
       "GTEX-111FC-0226-SM-5N9B8            0.02104              16.75   \n",
       "\n",
       "                                          2                  3  \\\n",
       "Name                      ENSG00000243485.2  ENSG00000237613.2   \n",
       "Description                      MIR1302-11            FAM138A   \n",
       "GTEX-1117F-0226-SM-5GZZ7             0.1602            0.05045   \n",
       "GTEX-111CU-1826-SM-5GZYN            0.06433                  0   \n",
       "GTEX-111FC-0226-SM-5N9B8            0.04674            0.02945   \n",
       "\n",
       "                                          4                  5  \\\n",
       "Name                      ENSG00000268020.2  ENSG00000240361.1   \n",
       "Description                          OR4G4P            OR4G11P   \n",
       "GTEX-1117F-0226-SM-5GZZ7                  0                  0   \n",
       "GTEX-111CU-1826-SM-5GZYN                  0             0.1051   \n",
       "GTEX-111FC-0226-SM-5N9B8                  0            0.07637   \n",
       "\n",
       "                                          6  \n",
       "Name                      ENSG00000186092.4  \n",
       "Description                           OR4F5  \n",
       "GTEX-1117F-0226-SM-5GZZ7                  0  \n",
       "GTEX-111CU-1826-SM-5GZYN                  0  \n",
       "GTEX-111FC-0226-SM-5N9B8                  0  "
      ]
     },
     "execution_count": 7,
     "metadata": {},
     "output_type": "execute_result"
    }
   ],
   "source": [
    "ft1.head()"
   ]
  },
  {
   "cell_type": "code",
   "execution_count": 15,
   "metadata": {},
   "outputs": [],
   "source": [
    "ft1_new = ft1.drop(\"Description\", axis=0).drop(\"Name\", axis=0)"
   ]
  },
  {
   "cell_type": "code",
   "execution_count": 16,
   "metadata": {},
   "outputs": [
    {
     "data": {
      "text/html": [
       "<div>\n",
       "<style scoped>\n",
       "    .dataframe tbody tr th:only-of-type {\n",
       "        vertical-align: middle;\n",
       "    }\n",
       "\n",
       "    .dataframe tbody tr th {\n",
       "        vertical-align: top;\n",
       "    }\n",
       "\n",
       "    .dataframe thead th {\n",
       "        text-align: right;\n",
       "    }\n",
       "</style>\n",
       "<table border=\"1\" class=\"dataframe\">\n",
       "  <thead>\n",
       "    <tr style=\"text-align: right;\">\n",
       "      <th></th>\n",
       "      <th>0</th>\n",
       "      <th>1</th>\n",
       "      <th>2</th>\n",
       "      <th>3</th>\n",
       "      <th>4</th>\n",
       "      <th>5</th>\n",
       "      <th>6</th>\n",
       "    </tr>\n",
       "  </thead>\n",
       "  <tbody>\n",
       "    <tr>\n",
       "      <th>GTEX-1117F-0226-SM-5GZZ7</th>\n",
       "      <td>0.1082</td>\n",
       "      <td>21.4</td>\n",
       "      <td>0.1602</td>\n",
       "      <td>0.05045</td>\n",
       "      <td>0</td>\n",
       "      <td>0</td>\n",
       "      <td>0</td>\n",
       "    </tr>\n",
       "    <tr>\n",
       "      <th>GTEX-111CU-1826-SM-5GZYN</th>\n",
       "      <td>0.1158</td>\n",
       "      <td>11.03</td>\n",
       "      <td>0.06433</td>\n",
       "      <td>0</td>\n",
       "      <td>0</td>\n",
       "      <td>0.1051</td>\n",
       "      <td>0</td>\n",
       "    </tr>\n",
       "    <tr>\n",
       "      <th>GTEX-111FC-0226-SM-5N9B8</th>\n",
       "      <td>0.02104</td>\n",
       "      <td>16.75</td>\n",
       "      <td>0.04674</td>\n",
       "      <td>0.02945</td>\n",
       "      <td>0</td>\n",
       "      <td>0.07637</td>\n",
       "      <td>0</td>\n",
       "    </tr>\n",
       "    <tr>\n",
       "      <th>GTEX-111VG-2326-SM-5N9BK</th>\n",
       "      <td>0.02329</td>\n",
       "      <td>8.172</td>\n",
       "      <td>0</td>\n",
       "      <td>0.0326</td>\n",
       "      <td>0</td>\n",
       "      <td>0</td>\n",
       "      <td>0</td>\n",
       "    </tr>\n",
       "    <tr>\n",
       "      <th>GTEX-111YS-2426-SM-5GZZQ</th>\n",
       "      <td>0</td>\n",
       "      <td>7.658</td>\n",
       "      <td>0.05864</td>\n",
       "      <td>0</td>\n",
       "      <td>0</td>\n",
       "      <td>0</td>\n",
       "      <td>0.09811</td>\n",
       "    </tr>\n",
       "  </tbody>\n",
       "</table>\n",
       "</div>"
      ],
      "text/plain": [
       "                                0      1        2        3  4        5  \\\n",
       "GTEX-1117F-0226-SM-5GZZ7   0.1082   21.4   0.1602  0.05045  0        0   \n",
       "GTEX-111CU-1826-SM-5GZYN   0.1158  11.03  0.06433        0  0   0.1051   \n",
       "GTEX-111FC-0226-SM-5N9B8  0.02104  16.75  0.04674  0.02945  0  0.07637   \n",
       "GTEX-111VG-2326-SM-5N9BK  0.02329  8.172        0   0.0326  0        0   \n",
       "GTEX-111YS-2426-SM-5GZZQ        0  7.658  0.05864        0  0        0   \n",
       "\n",
       "                                6  \n",
       "GTEX-1117F-0226-SM-5GZZ7        0  \n",
       "GTEX-111CU-1826-SM-5GZYN        0  \n",
       "GTEX-111FC-0226-SM-5N9B8        0  \n",
       "GTEX-111VG-2326-SM-5N9BK        0  \n",
       "GTEX-111YS-2426-SM-5GZZQ  0.09811  "
      ]
     },
     "execution_count": 16,
     "metadata": {},
     "output_type": "execute_result"
    }
   ],
   "source": [
    "ft1_new.head()"
   ]
  },
  {
   "cell_type": "code",
   "execution_count": 8,
   "metadata": {},
   "outputs": [],
   "source": [
    "df2=pd.read_csv(\"/Users/tsunodaut03/Downloads/answer.csv\", delimiter=\"\\t\")"
   ]
  },
  {
   "cell_type": "code",
   "execution_count": 9,
   "metadata": {
    "scrolled": true
   },
   "outputs": [
    {
     "data": {
      "text/html": [
       "<div>\n",
       "<style scoped>\n",
       "    .dataframe tbody tr th:only-of-type {\n",
       "        vertical-align: middle;\n",
       "    }\n",
       "\n",
       "    .dataframe tbody tr th {\n",
       "        vertical-align: top;\n",
       "    }\n",
       "\n",
       "    .dataframe thead th {\n",
       "        text-align: right;\n",
       "    }\n",
       "</style>\n",
       "<table border=\"1\" class=\"dataframe\">\n",
       "  <thead>\n",
       "    <tr style=\"text-align: right;\">\n",
       "      <th></th>\n",
       "      <th>SAMPID</th>\n",
       "      <th>SMTS</th>\n",
       "    </tr>\n",
       "  </thead>\n",
       "  <tbody>\n",
       "    <tr>\n",
       "      <th>0</th>\n",
       "      <td>GTEX-1117F-0003-SM-58Q7G</td>\n",
       "      <td>Blood</td>\n",
       "    </tr>\n",
       "    <tr>\n",
       "      <th>1</th>\n",
       "      <td>GTEX-1117F-0003-SM-5DWSB</td>\n",
       "      <td>Blood</td>\n",
       "    </tr>\n",
       "    <tr>\n",
       "      <th>2</th>\n",
       "      <td>GTEX-1117F-0003-SM-6WBT7</td>\n",
       "      <td>Blood</td>\n",
       "    </tr>\n",
       "    <tr>\n",
       "      <th>3</th>\n",
       "      <td>GTEX-1117F-0226-SM-5GZZ7</td>\n",
       "      <td>Adipose Tissue</td>\n",
       "    </tr>\n",
       "    <tr>\n",
       "      <th>4</th>\n",
       "      <td>GTEX-1117F-0426-SM-5EGHI</td>\n",
       "      <td>Muscle</td>\n",
       "    </tr>\n",
       "  </tbody>\n",
       "</table>\n",
       "</div>"
      ],
      "text/plain": [
       "                     SAMPID            SMTS\n",
       "0  GTEX-1117F-0003-SM-58Q7G           Blood\n",
       "1  GTEX-1117F-0003-SM-5DWSB           Blood\n",
       "2  GTEX-1117F-0003-SM-6WBT7           Blood\n",
       "3  GTEX-1117F-0226-SM-5GZZ7  Adipose Tissue\n",
       "4  GTEX-1117F-0426-SM-5EGHI          Muscle"
      ]
     },
     "execution_count": 9,
     "metadata": {},
     "output_type": "execute_result"
    }
   ],
   "source": [
    "df2.head()"
   ]
  },
  {
   "cell_type": "code",
   "execution_count": 40,
   "metadata": {},
   "outputs": [],
   "source": [
    "merge=pd.merge(df2, ft1,left_on=\"SAMPID\",right_index=True)"
   ]
  },
  {
   "cell_type": "code",
   "execution_count": 53,
   "metadata": {},
   "outputs": [
    {
     "name": "stdout",
     "output_type": "stream",
     "text": [
      "(11688, 9)\n"
     ]
    }
   ],
   "source": [
    "print(merge.shape)"
   ]
  },
  {
   "cell_type": "code",
   "execution_count": 47,
   "metadata": {},
   "outputs": [],
   "source": [
    "df3=merge.iloc[:,:2].copy()"
   ]
  },
  {
   "cell_type": "code",
   "execution_count": 48,
   "metadata": {},
   "outputs": [],
   "source": [
    "ft3=merge.drop(\"SMTS\", axis=1)"
   ]
  },
  {
   "cell_type": "code",
   "execution_count": 49,
   "metadata": {},
   "outputs": [
    {
     "data": {
      "text/html": [
       "<div>\n",
       "<style scoped>\n",
       "    .dataframe tbody tr th:only-of-type {\n",
       "        vertical-align: middle;\n",
       "    }\n",
       "\n",
       "    .dataframe tbody tr th {\n",
       "        vertical-align: top;\n",
       "    }\n",
       "\n",
       "    .dataframe thead th {\n",
       "        text-align: right;\n",
       "    }\n",
       "</style>\n",
       "<table border=\"1\" class=\"dataframe\">\n",
       "  <thead>\n",
       "    <tr style=\"text-align: right;\">\n",
       "      <th></th>\n",
       "      <th>SAMPID</th>\n",
       "      <th>SMTS</th>\n",
       "      <th>tissue</th>\n",
       "    </tr>\n",
       "  </thead>\n",
       "  <tbody>\n",
       "    <tr>\n",
       "      <th>3</th>\n",
       "      <td>GTEX-1117F-0226-SM-5GZZ7</td>\n",
       "      <td>Adipose Tissue</td>\n",
       "      <td>0</td>\n",
       "    </tr>\n",
       "    <tr>\n",
       "      <th>4</th>\n",
       "      <td>GTEX-1117F-0426-SM-5EGHI</td>\n",
       "      <td>Muscle</td>\n",
       "      <td>15</td>\n",
       "    </tr>\n",
       "    <tr>\n",
       "      <th>5</th>\n",
       "      <td>GTEX-1117F-0526-SM-5EGHJ</td>\n",
       "      <td>Blood Vessel</td>\n",
       "      <td>4</td>\n",
       "    </tr>\n",
       "    <tr>\n",
       "      <th>6</th>\n",
       "      <td>GTEX-1117F-0626-SM-5N9CS</td>\n",
       "      <td>Blood Vessel</td>\n",
       "      <td>4</td>\n",
       "    </tr>\n",
       "    <tr>\n",
       "      <th>7</th>\n",
       "      <td>GTEX-1117F-0726-SM-5GIEN</td>\n",
       "      <td>Heart</td>\n",
       "      <td>11</td>\n",
       "    </tr>\n",
       "  </tbody>\n",
       "</table>\n",
       "</div>"
      ],
      "text/plain": [
       "                     SAMPID            SMTS  tissue\n",
       "3  GTEX-1117F-0226-SM-5GZZ7  Adipose Tissue       0\n",
       "4  GTEX-1117F-0426-SM-5EGHI          Muscle      15\n",
       "5  GTEX-1117F-0526-SM-5EGHJ    Blood Vessel       4\n",
       "6  GTEX-1117F-0626-SM-5N9CS    Blood Vessel       4\n",
       "7  GTEX-1117F-0726-SM-5GIEN           Heart      11"
      ]
     },
     "execution_count": 49,
     "metadata": {},
     "output_type": "execute_result"
    }
   ],
   "source": [
    "label = LabelEncoder()\n",
    "#ラベルを覚えさせる\n",
    "label = label.fit(df3['SMTS'])\n",
    "#ラベルを整数に変換\n",
    "df3['tissue'] = label.transform(df3['SMTS'])\n",
    "df3.head()"
   ]
  },
  {
   "cell_type": "code",
   "execution_count": 60,
   "metadata": {},
   "outputs": [],
   "source": [
    "X_train, X_test, y_train, y_test =train_test_split(ft3.iloc[:,1:],df3.iloc[:,2])"
   ]
  },
  {
   "cell_type": "code",
   "execution_count": 56,
   "metadata": {},
   "outputs": [
    {
     "name": "stdout",
     "output_type": "stream",
     "text": [
      "                     SAMPID        0      1       2        3  4        5  \\\n",
      "3  GTEX-1117F-0226-SM-5GZZ7   0.1082   21.4  0.1602  0.05045  0        0   \n",
      "4  GTEX-1117F-0426-SM-5EGHI  0.08177  15.03       0        0  0  0.04947   \n",
      "5  GTEX-1117F-0526-SM-5EGHJ        0  17.53       0  0.05547  0        0   \n",
      "6  GTEX-1117F-0626-SM-5N9CS        0  23.82       0        0  0        0   \n",
      "7  GTEX-1117F-0726-SM-5GIEN  0.02271  7.443  0.1514  0.03179  0        0   \n",
      "\n",
      "         6  \n",
      "3        0  \n",
      "4   0.1013  \n",
      "5  0.07366  \n",
      "6        0  \n",
      "7  0.04221  \n"
     ]
    }
   ],
   "source": [
    "print(ft3.head())"
   ]
  },
  {
   "cell_type": "code",
   "execution_count": 59,
   "metadata": {},
   "outputs": [
    {
     "name": "stdout",
     "output_type": "stream",
     "text": [
      "         0      1       2        3  4        5        6\n",
      "3   0.1082   21.4  0.1602  0.05045  0        0        0\n",
      "4  0.08177  15.03       0        0  0  0.04947   0.1013\n",
      "5        0  17.53       0  0.05547  0        0  0.07366\n",
      "6        0  23.82       0        0  0        0        0\n",
      "7  0.02271  7.443  0.1514  0.03179  0        0  0.04221\n"
     ]
    }
   ],
   "source": [
    "print(ft3.iloc[:,1:].head())"
   ]
  },
  {
   "cell_type": "code",
   "execution_count": 61,
   "metadata": {},
   "outputs": [
    {
     "name": "stdout",
     "output_type": "stream",
     "text": [
      "<class 'pandas.core.frame.DataFrame'>\n"
     ]
    }
   ],
   "source": [
    "print(type(ft3))"
   ]
  },
  {
   "cell_type": "code",
   "execution_count": null,
   "metadata": {},
   "outputs": [],
   "source": []
  }
 ],
 "metadata": {
  "kernelspec": {
   "display_name": "Python 3",
   "language": "python",
   "name": "python3"
  },
  "language_info": {
   "codemirror_mode": {
    "name": "ipython",
    "version": 3
   },
   "file_extension": ".py",
   "mimetype": "text/x-python",
   "name": "python",
   "nbconvert_exporter": "python",
   "pygments_lexer": "ipython3",
   "version": "3.7.3"
  }
 },
 "nbformat": 4,
 "nbformat_minor": 2
}
