{
  "nbformat": 4,
  "nbformat_minor": 0,
  "metadata": {
    "colab": {
      "name": "deeplearning.ipynb",
      "version": "0.3.2",
      "provenance": [],
      "collapsed_sections": [],
      "include_colab_link": true
    },
    "kernelspec": {
      "name": "python3",
      "display_name": "Python 3"
    },
    "accelerator": "TPU"
  },
  "cells": [
    {
      "cell_type": "markdown",
      "metadata": {
        "id": "view-in-github",
        "colab_type": "text"
      },
      "source": [
        "<a href=\"https://colab.research.google.com/github/KyokoM/tsunodalab/blob/master/colab_upload.ipynb\" target=\"_parent\"><img src=\"https://colab.research.google.com/assets/colab-badge.svg\" alt=\"Open In Colab\"/></a>"
      ]
    },
    {
      "cell_type": "code",
      "metadata": {
        "id": "32Zmr9bOoEhl",
        "colab_type": "code",
        "outputId": "70eec3f1-8437-47a6-c966-738e6593ac81",
        "colab": {
          "base_uri": "https://localhost:8080/",
          "height": 34
        }
      },
      "source": [
        "#GPUの確認\n",
        "import tensorflow as tf\n",
        "tf.test.gpu_device_name()"
      ],
      "execution_count": 0,
      "outputs": [
        {
          "output_type": "execute_result",
          "data": {
            "text/plain": [
              "'/device:GPU:0'"
            ]
          },
          "metadata": {
            "tags": []
          },
          "execution_count": 2
        }
      ]
    },
    {
      "cell_type": "code",
      "metadata": {
        "id": "4ROuBR9Nq1-H",
        "colab_type": "code",
        "colab": {}
      },
      "source": [
        "import google.colab\n",
        "import googleapiclient.discovery\n",
        "import googleapiclient.http"
      ],
      "execution_count": 0,
      "outputs": []
    },
    {
      "cell_type": "code",
      "metadata": {
        "id": "ra96UN0srpAH",
        "colab_type": "code",
        "outputId": "cb3f804c-2874-41a7-b242-e353635259e5",
        "colab": {
          "base_uri": "https://localhost:8080/",
          "height": 156
        }
      },
      "source": [
        "#googledriveに認証接続\n",
        "google.colab.auth.authenticate_user()\n",
        "drive_service = googleapiclient.discovery.build('drive', 'v3')"
      ],
      "execution_count": 0,
      "outputs": [
        {
          "output_type": "stream",
          "text": [
            "\n",
            "WARNING: The TensorFlow contrib module will not be included in TensorFlow 2.0.\n",
            "For more information, please see:\n",
            "  * https://github.com/tensorflow/community/blob/master/rfcs/20180907-contrib-sunset.md\n",
            "  * https://github.com/tensorflow/addons\n",
            "If you depend on functionality not listed there, please file an issue.\n",
            "\n"
          ],
          "name": "stdout"
        }
      ]
    },
    {
      "cell_type": "code",
      "metadata": {
        "id": "dC4lakvjrsVg",
        "colab_type": "code",
        "colab": {}
      },
      "source": [
        "#colabにfile取り込み\n",
        "upload_filename = 'value_data.csv'#train_data.csv"
      ],
      "execution_count": 0,
      "outputs": []
    },
    {
      "cell_type": "code",
      "metadata": {
        "id": "KXhIuDKJt4Bf",
        "colab_type": "code",
        "colab": {}
      },
      "source": [
        "file_list = drive_service.files().list(q=\"name='\" + upload_filename + \"'\").execute().get('files')"
      ],
      "execution_count": 0,
      "outputs": []
    },
    {
      "cell_type": "code",
      "metadata": {
        "id": "_5tnRtnnt8x3",
        "colab_type": "code",
        "outputId": "9a13baef-9d01-4766-9c2f-fd4956337f7b",
        "colab": {
          "base_uri": "https://localhost:8080/",
          "height": 51
        }
      },
      "source": [
        "file_id = None\n",
        "for file in file_list:\n",
        "  if file.get('name') == upload_filename:\n",
        "    file_id = file.get('id')\n",
        "    break\n",
        "\n",
        "if file_id is None:\n",
        "  # ファイル ID を取得できなかった場合はエラーメッセージを出力します。\n",
        "  print(upload_filename + ' が見つかりません.')\n",
        "else:jif\n",
        "  # colab 環境へファイルをアップロードします。\n",
        "  with open(upload_filename, 'wb') as f:\n",
        "    request = drive_service.files().get_media(fileId=file_id)\n",
        "    media = googleapiclient.http.MediaIoBaseDownload(f, request)\n",
        "\n",
        "    done = False\n",
        "    while not done:\n",
        "      progress_status, done = media.next_chunk()\n",
        "      print(100*progress_status.progress(), end=\"\")\n",
        "      print(\"%完了\")\n",
        "\n",
        "  print('GoogleドライブからColab環境へのファイル取り込みが完了しました.')"
      ],
      "execution_count": 0,
      "outputs": [
        {
          "output_type": "stream",
          "text": [
            "100.0%完了\n",
            "GoogleドライブからColab環境へのファイル取り込みが完了しました.\n"
          ],
          "name": "stdout"
        }
      ]
    },
    {
      "cell_type": "markdown",
      "metadata": {
        "id": "FKgnTFK7Gf_w",
        "colab_type": "text"
      },
      "source": [
        ""
      ]
    },
    {
      "cell_type": "markdown",
      "metadata": {
        "id": "EWfF8A8dKOPp",
        "colab_type": "text"
      },
      "source": [
        ""
      ]
    },
    {
      "cell_type": "code",
      "metadata": {
        "id": "s9vHOWysta_k",
        "colab_type": "code",
        "colab": {}
      },
      "source": [
        ""
      ],
      "execution_count": 0,
      "outputs": []
    }
  ]
}