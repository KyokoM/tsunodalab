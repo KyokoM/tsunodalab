{
  "nbformat": 4,
  "nbformat_minor": 0,
  "metadata": {
    "colab": {
      "name": "deeplearning.ipynb",
      "version": "0.3.2",
      "provenance": [],
      "include_colab_link": true
    },
    "kernelspec": {
      "name": "python3",
      "display_name": "Python 3"
    },
    "accelerator": "GPU"
  },
  "cells": [
    {
      "cell_type": "markdown",
      "metadata": {
        "id": "view-in-github",
        "colab_type": "text"
      },
      "source": [
        "<a href=\"https://colab.research.google.com/github/KyokoM/tsunodalab/blob/master/deeplearning.ipynb\" target=\"_parent\"><img src=\"https://colab.research.google.com/assets/colab-badge.svg\" alt=\"Open In Colab\"/></a>"
      ]
    },
    {
      "cell_type": "code",
      "metadata": {
        "id": "32Zmr9bOoEhl",
        "colab_type": "code",
        "colab": {
          "base_uri": "https://localhost:8080/",
          "height": 34
        },
        "outputId": "f6b5037a-9791-4866-c926-583129b70d39"
      },
      "source": [
        "#GPUの確認\n",
        "import tensorflow as tf\n",
        "tf.test.gpu_device_name()"
      ],
      "execution_count": 2,
      "outputs": [
        {
          "output_type": "execute_result",
          "data": {
            "text/plain": [
              "'/device:GPU:0'"
            ]
          },
          "metadata": {
            "tags": []
          },
          "execution_count": 2
        }
      ]
    },
    {
      "cell_type": "code",
      "metadata": {
        "id": "4ROuBR9Nq1-H",
        "colab_type": "code",
        "colab": {}
      },
      "source": [
        "import google.colab\n",
        "import googleapiclient.discovery\n",
        "import googleapiclient.http"
      ],
      "execution_count": 0,
      "outputs": []
    },
    {
      "cell_type": "code",
      "metadata": {
        "id": "ra96UN0srpAH",
        "colab_type": "code",
        "colab": {}
      },
      "source": [
        "googledriveに認証接続\n",
        "google.colab.auth.authenticate_user()\n",
        "drive_service = googleapiclient.discovery.build('drive', 'v3')"
      ],
      "execution_count": 0,
      "outputs": []
    },
    {
      "cell_type": "code",
      "metadata": {
        "id": "dC4lakvjrsVg",
        "colab_type": "code",
        "colab": {}
      },
      "source": [
        "#colabにfile取り込み\n",
        "upload_filename = 'GTEx_Analysis_2016-01-15_v7_RNASeQCv1.1.8_gene_tpm.gct'"
      ],
      "execution_count": 0,
      "outputs": []
    },
    {
      "cell_type": "code",
      "metadata": {
        "id": "KXhIuDKJt4Bf",
        "colab_type": "code",
        "colab": {}
      },
      "source": [
        "file_list = drive_service.files().list(q=\"name='\" + upload_filename + \"'\").execute().get('files')"
      ],
      "execution_count": 0,
      "outputs": []
    },
    {
      "cell_type": "code",
      "metadata": {
        "id": "_5tnRtnnt8x3",
        "colab_type": "code",
        "colab": {
          "base_uri": "https://localhost:8080/",
          "height": 493
        },
        "outputId": "af24df30-b176-4e4e-83e3-bc2d087f03ef"
      },
      "source": [
        "file_id = None\n",
        "for file in file_list:\n",
        "  if file.get('name') == upload_filename:\n",
        "    file_id = file.get('id')\n",
        "    break\n",
        "\n",
        "if file_id is None:\n",
        "  # ファイル ID を取得できなかった場合はエラーメッセージを出力します。\n",
        "  print(upload_filename + ' が見つかりません.')\n",
        "else:\n",
        "  # colab 環境へファイルをアップロードします。\n",
        "  with open(upload_filename, 'wb') as f:\n",
        "    request = drive_service.files().get_media(fileId=file_id)\n",
        "    media = googleapiclient.http.MediaIoBaseDownload(f, request)\n",
        "\n",
        "    done = False\n",
        "    while not done:\n",
        "      progress_status, done = media.next_chunk()\n",
        "      print(100*progress_status.progress(), end=\"\")\n",
        "      print(\"%完了\")\n",
        "\n",
        "  print('GoogleドライブからColab環境へのファイル取り込みが完了しました.')"
      ],
      "execution_count": 40,
      "outputs": [
        {
          "output_type": "stream",
          "text": [
            "3.724801447200384%完了\n",
            "7.449602894400768%完了\n",
            "11.174404341601154%完了\n",
            "14.899205788801536%完了\n",
            "18.624007236001923%完了\n",
            "22.348808683202307%完了\n",
            "26.07361013040269%完了\n",
            "29.798411577603073%完了\n",
            "33.52321302480346%完了\n",
            "37.248014472003845%完了\n",
            "40.97281591920423%完了\n",
            "44.697617366404614%完了\n",
            "48.42241881360499%完了\n",
            "52.14722026080538%完了\n",
            "55.87202170800577%完了\n",
            "59.596823155206145%完了\n",
            "63.32162460240654%完了\n",
            "67.04642604960692%完了\n",
            "70.7712274968073%完了\n",
            "74.49602894400769%完了\n",
            "78.22083039120807%完了\n",
            "81.94563183840846%完了\n",
            "85.67043328560884%完了\n",
            "89.39523473280923%完了\n",
            "93.1200361800096%完了\n",
            "96.84483762720998%完了\n",
            "100.0%完了\n",
            "GoogleドライブからColab環境へのファイル取り込みが完了しました.\n"
          ],
          "name": "stdout"
        }
      ]
    },
    {
      "cell_type": "code",
      "metadata": {
        "id": "G6LFbxr4uCe3",
        "colab_type": "code",
        "colab": {
          "base_uri": "https://localhost:8080/",
          "height": 114
        },
        "outputId": "b50331ea-ee77-447c-e0ea-ee9911c43d06"
      },
      "source": [
        "ls"
      ],
      "execution_count": 41,
      "outputs": [
        {
          "output_type": "stream",
          "text": [
            "\u001b[0m\u001b[01;34mdata\u001b[0m/\n",
            "GTEx_Analysis_2016-01-15_v7_RNASeQCv1.1.8_gene_tpm.gct\n",
            "GTEx_v7_Annotations_SampleAttributesDS.txt\n",
            "seq_data.zip\n"
          ],
          "name": "stdout"
        }
      ]
    },
    {
      "cell_type": "code",
      "metadata": {
        "id": "vIHLYnW6wHjI",
        "colab_type": "code",
        "colab": {}
      },
      "source": [
        "import matplotlib.pyplot as plt\n",
        "import matplotlib.cm as cm\n",
        "import time\n",
        "import pandas as pd\n",
        "import h5py\n",
        "import os\n",
        "from sklearn.preprocessing import LabelEncoder\n",
        "import numpy as np\n",
        "from sklearn.linear_model import LogisticRegression\n",
        "from sklearn.model_selection import train_test_split\n",
        "from sklearn import metrics\n",
        "\n",
        "from sklearn.svm import LinearSVC\n",
        "\n",
        "from sklearn.svm import SVC\n",
        "\n",
        "from sklearn.tree import DecisionTreeClassifier\n",
        "from sklearn.tree import export_graphviz\n",
        "from IPython.display import Image, display_png\n",
        "#import pydotplus as pdp\n",
        "\n",
        "from sklearn.ensemble import RandomForestClassifier\n",
        "\n",
        "import seaborn as sns"
      ],
      "execution_count": 0,
      "outputs": []
    },
    {
      "cell_type": "code",
      "metadata": {
        "id": "z0OEM50OwQbS",
        "colab_type": "code",
        "colab": {
          "base_uri": "https://localhost:8080/",
          "height": 111
        },
        "outputId": "ebd2cc08-0597-4cbc-f7d3-5cdc097c9072"
      },
      "source": [
        "dic_type={}\n",
        "dic_type[1]=\"str\"\n",
        "dic_type[2]=\"str\"\n",
        "for i in range(3,11691):\n",
        "    dic_type[2]=\"float64\"\n",
        "ft2=pd.read_table(\"GTEx_Analysis_2016-01-15_v7_RNASeQCv1.1.8_gene_tpm.gct\", sep=\"\\t\", header=2,dtype=dic_type)\n",
        "ft1=ft2.transpose()\n",
        "ft1_new = ft1.drop(\"Description\", axis=0).drop(\"Name\", axis=0)\n",
        "df2=pd.read_csv(\"answer.csv\", delimiter=\"\\t\")"
      ],
      "execution_count": 0,
      "outputs": [
        {
          "output_type": "stream",
          "text": [
            "/usr/local/lib/python3.6/dist-packages/ipykernel_launcher.py:6: FutureWarning: read_table is deprecated, use read_csv instead.\n",
            "  \n"
          ],
          "name": "stderr"
        }
      ]
    },
    {
      "cell_type": "code",
      "metadata": {
        "id": "SS1MyQmUwamj",
        "colab_type": "code",
        "colab": {
          "base_uri": "https://localhost:8080/",
          "height": 63
        },
        "outputId": "8afa7365-0b2b-4bab-d965-ea1218062ffc"
      },
      "source": [
        "merge=pd.merge(df2, ft1,left_on=\"SAMPID\",right_index=True)"
      ],
      "execution_count": 30,
      "outputs": [
        {
          "output_type": "stream",
          "text": [
            "\u001b[0m\u001b[01;34mdata\u001b[0m/  seq_data.zip\n"
          ],
          "name": "stdout"
        }
      ]
    },
    {
      "cell_type": "code",
      "metadata": {
        "id": "PphTVcyJwwZE",
        "colab_type": "code",
        "colab": {}
      },
      "source": [
        "df3=merge.iloc[:,:2]"
      ],
      "execution_count": 0,
      "outputs": []
    },
    {
      "cell_type": "code",
      "metadata": {
        "id": "vcO3syzEwyde",
        "colab_type": "code",
        "colab": {}
      },
      "source": [
        "ft3=merge[:].drop(\"SMTS\", axis=1)"
      ],
      "execution_count": 0,
      "outputs": []
    },
    {
      "cell_type": "code",
      "metadata": {
        "id": "ODghvh1hw01e",
        "colab_type": "code",
        "colab": {}
      },
      "source": [
        "label = LabelEncoder()\n",
        "#ラベルを覚えさせる\n",
        "label = label.fit(df3['SMTS'])\n",
        "#ラベルを整数に変換\n",
        "df3['tissue'] = label.transform(df3['SMTS'])\n",
        "df3.head()\n"
      ],
      "execution_count": 0,
      "outputs": []
    },
    {
      "cell_type": "code",
      "metadata": {
        "id": "s03hwMQnzBi3",
        "colab_type": "code",
        "colab": {}
      },
      "source": [
        "X_train, X_test, y_train, y_test =train_test_split(ft3.iloc[:,1:],df3.iloc[:,2])\n",
        "print(ft3.shape,X_train.shape,y_train.shape)\n",
        "print(df3.shape,X_test.shape,y_test.shape)"
      ],
      "execution_count": 0,
      "outputs": []
    }
  ]
}