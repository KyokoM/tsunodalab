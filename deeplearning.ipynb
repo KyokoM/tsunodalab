{
  "nbformat": 4,
  "nbformat_minor": 0,
  "metadata": {
    "colab": {
      "name": "deeplearning.ipynb",
      "version": "0.3.2",
      "provenance": [],
      "collapsed_sections": [],
      "include_colab_link": true
    },
    "kernelspec": {
      "name": "python3",
      "display_name": "Python 3"
    },
    "accelerator": "TPU"
  },
  "cells": [
    {
      "cell_type": "markdown",
      "metadata": {
        "id": "view-in-github",
        "colab_type": "text"
      },
      "source": [
        "<a href=\"https://colab.research.google.com/github/KyokoM/tsunodalab/blob/master/deeplearning.ipynb\" target=\"_parent\"><img src=\"https://colab.research.google.com/assets/colab-badge.svg\" alt=\"Open In Colab\"/></a>"
      ]
    },
    {
      "cell_type": "code",
      "metadata": {
        "id": "32Zmr9bOoEhl",
        "colab_type": "code",
        "outputId": "70eec3f1-8437-47a6-c966-738e6593ac81",
        "colab": {
          "base_uri": "https://localhost:8080/",
          "height": 34
        }
      },
      "source": [
        "#GPUの確認\n",
        "import tensorflow as tf\n",
        "tf.test.gpu_device_name()"
      ],
      "execution_count": 0,
      "outputs": [
        {
          "output_type": "execute_result",
          "data": {
            "text/plain": [
              "'/device:GPU:0'"
            ]
          },
          "metadata": {
            "tags": []
          },
          "execution_count": 2
        }
      ]
    },
    {
      "cell_type": "code",
      "metadata": {
        "id": "4ROuBR9Nq1-H",
        "colab_type": "code",
        "colab": {}
      },
      "source": [
        "import google.colab\n",
        "import googleapiclient.discovery\n",
        "import googleapiclient.http"
      ],
      "execution_count": 0,
      "outputs": []
    },
    {
      "cell_type": "code",
      "metadata": {
        "id": "ra96UN0srpAH",
        "colab_type": "code",
        "outputId": "cb3f804c-2874-41a7-b242-e353635259e5",
        "colab": {
          "base_uri": "https://localhost:8080/",
          "height": 156
        }
      },
      "source": [
        "#googledriveに認証接続\n",
        "google.colab.auth.authenticate_user()\n",
        "drive_service = googleapiclient.discovery.build('drive', 'v3')"
      ],
      "execution_count": 0,
      "outputs": [
        {
          "output_type": "stream",
          "text": [
            "\n",
            "WARNING: The TensorFlow contrib module will not be included in TensorFlow 2.0.\n",
            "For more information, please see:\n",
            "  * https://github.com/tensorflow/community/blob/master/rfcs/20180907-contrib-sunset.md\n",
            "  * https://github.com/tensorflow/addons\n",
            "If you depend on functionality not listed there, please file an issue.\n",
            "\n"
          ],
          "name": "stdout"
        }
      ]
    },
    {
      "cell_type": "code",
      "metadata": {
        "id": "dC4lakvjrsVg",
        "colab_type": "code",
        "colab": {}
      },
      "source": [
        "#colabにfile取り込み\n",
        "upload_filename = 'value_data.csv'#train_data.csv"
      ],
      "execution_count": 0,
      "outputs": []
    },
    {
      "cell_type": "code",
      "metadata": {
        "id": "KXhIuDKJt4Bf",
        "colab_type": "code",
        "colab": {}
      },
      "source": [
        "file_list = drive_service.files().list(q=\"name='\" + upload_filename + \"'\").execute().get('files')"
      ],
      "execution_count": 0,
      "outputs": []
    },
    {
      "cell_type": "code",
      "metadata": {
        "id": "_5tnRtnnt8x3",
        "colab_type": "code",
        "outputId": "9a13baef-9d01-4766-9c2f-fd4956337f7b",
        "colab": {
          "base_uri": "https://localhost:8080/",
          "height": 51
        }
      },
      "source": [
        "file_id = None\n",
        "for file in file_list:\n",
        "  if file.get('name') == upload_filename:\n",
        "    file_id = file.get('id')\n",
        "    break\n",
        "\n",
        "if file_id is None:\n",
        "  # ファイル ID を取得できなかった場合はエラーメッセージを出力します。\n",
        "  print(upload_filename + ' が見つかりません.')\n",
        "else:\n",
        "  # colab 環境へファイルをアップロードします。\n",
        "  with open(upload_filename, 'wb') as f:\n",
        "    request = drive_service.files().get_media(fileId=file_id)\n",
        "    media = googleapiclient.http.MediaIoBaseDownload(f, request)\n",
        "\n",
        "    done = False\n",
        "    while not done:\n",
        "      progress_status, done = media.next_chunk()\n",
        "      print(100*progress_status.progress(), end=\"\")\n",
        "      print(\"%完了\")\n",
        "\n",
        "  print('GoogleドライブからColab環境へのファイル取り込みが完了しました.')"
      ],
      "execution_count": 0,
      "outputs": [
        {
          "output_type": "stream",
          "text": [
            "100.0%完了\n",
            "GoogleドライブからColab環境へのファイル取り込みが完了しました.\n"
          ],
          "name": "stdout"
        }
      ]
    },
    {
      "cell_type": "code",
      "metadata": {
        "id": "G6LFbxr4uCe3",
        "colab_type": "code",
        "outputId": "e8c50900-60e2-497c-8431-4f06174bc1bf",
        "colab": {
          "base_uri": "https://localhost:8080/",
          "height": 34
        }
      },
      "source": [
        "ls"
      ],
      "execution_count": 0,
      "outputs": [
        {
          "output_type": "stream",
          "text": [
            "adc.json  \u001b[0m\u001b[01;34msample_data\u001b[0m/  train_data.csv  value_data.csv\n"
          ],
          "name": "stdout"
        }
      ]
    },
    {
      "cell_type": "code",
      "metadata": {
        "id": "AcA856Gp1K2B",
        "colab_type": "code",
        "colab": {}
      },
      "source": [
        ""
      ],
      "execution_count": 0,
      "outputs": []
    },
    {
      "cell_type": "code",
      "metadata": {
        "id": "vIHLYnW6wHjI",
        "colab_type": "code",
        "colab": {}
      },
      "source": [
        "import matplotlib.pyplot as plt\n",
        "import matplotlib.cm as cm\n",
        "import time\n",
        "import pandas as pd\n",
        "import h5py\n",
        "import os\n",
        "from sklearn.preprocessing import LabelEncoder\n",
        "import numpy as np\n",
        "from sklearn.linear_model import LogisticRegression\n",
        "from sklearn.model_selection import train_test_split\n",
        "from sklearn import metrics\n",
        "\n",
        "from sklearn.svm import LinearSVC\n",
        "\n",
        "from sklearn.svm import SVC\n",
        "\n",
        "from sklearn.tree import DecisionTreeClassifier\n",
        "from sklearn.tree import export_graphviz\n",
        "from IPython.display import Image, display_png\n",
        "#import pydotplus as pdp\n",
        "\n",
        "from sklearn.ensemble import RandomForestClassifier\n",
        "\n",
        "import seaborn as sns"
      ],
      "execution_count": 0,
      "outputs": []
    },
    {
      "cell_type": "code",
      "metadata": {
        "id": "SS1MyQmUwamj",
        "colab_type": "code",
        "outputId": "6ac2eab9-0873-440a-c6f1-6c35aee676b3",
        "colab": {
          "base_uri": "https://localhost:8080/",
          "height": 68
        }
      },
      "source": [
        "ls"
      ],
      "execution_count": 0,
      "outputs": [
        {
          "output_type": "stream",
          "text": [
            "adc.json                                                \u001b[0m\u001b[01;34msample_data\u001b[0m/\n",
            "answer.csv                                              train_data.csv\n",
            "GTEx_Analysis_2016-01-15_v7_RNASeQCv1.1.8_gene_tpm.gct  train_raw_data.csv\n"
          ],
          "name": "stdout"
        }
      ]
    },
    {
      "cell_type": "code",
      "metadata": {
        "id": "z0OEM50OwQbS",
        "colab_type": "code",
        "colab": {}
      },
      "source": [
        "#dic_type={}\n",
        "#dic_type[1]=\"str\"\n",
        "#dic_type[2]=\"str\"\n",
        "#for i in range(3,11691):\n",
        " #   dic_type[2]=\"float64\"\n",
        "#ft2=pd.read_table(\"GTEx_Analysis_2016-01-15_v7_RNASeQCv1.1.8_gene_tpm.gct\", sep=\"\\t\", header=2,dtype=dic_type)"
      ],
      "execution_count": 0,
      "outputs": []
    },
    {
      "cell_type": "code",
      "metadata": {
        "id": "pMoMKuKlhVgE",
        "colab_type": "code",
        "colab": {}
      },
      "source": [
        "#ft2.to_csv(\"train_raw_data.csv\")\n",
        "#del ft2\n",
        "#pd.read_csv(\"train_raw_data.csv\").transpose().to_csv(\"train_raw_data_transpose.csv\")"
      ],
      "execution_count": 0,
      "outputs": []
    },
    {
      "cell_type": "code",
      "metadata": {
        "id": "1QqKsvH42So0",
        "colab_type": "code",
        "colab": {}
      },
      "source": [
        "#ft2=ft2.transpose()"
      ],
      "execution_count": 0,
      "outputs": []
    },
    {
      "cell_type": "code",
      "metadata": {
        "id": "wJJk8Gsund-6",
        "colab_type": "code",
        "colab": {}
      },
      "source": [
        "#ft1_new = ft2.drop(\"Description\", axis=0).drop(\"Name\", axis=0)\n",
        "\n",
        "#df2=pd.read_csv(\"answer.csv\", delimiter=\"\\t\")"
      ],
      "execution_count": 0,
      "outputs": []
    },
    {
      "cell_type": "code",
      "metadata": {
        "id": "gERNPbwh41Eg",
        "colab_type": "code",
        "colab": {}
      },
      "source": [
        "#merge=pd.merge(df2, ft1,left_on=\"SAMPID\",right_index=True)"
      ],
      "execution_count": 0,
      "outputs": []
    },
    {
      "cell_type": "code",
      "metadata": {
        "id": "PphTVcyJwwZE",
        "colab_type": "code",
        "colab": {}
      },
      "source": [
        "#df3=merge.iloc[:,:2]"
      ],
      "execution_count": 0,
      "outputs": []
    },
    {
      "cell_type": "code",
      "metadata": {
        "id": "vcO3syzEwyde",
        "colab_type": "code",
        "colab": {}
      },
      "source": [
        "#ft3=merge[:].drop(\"SMTS\", axis=1)"
      ],
      "execution_count": 0,
      "outputs": []
    },
    {
      "cell_type": "code",
      "metadata": {
        "id": "ODghvh1hw01e",
        "colab_type": "code",
        "colab": {}
      },
      "source": [
        "#label = LabelEncoder()\n",
        "#ラベルを覚えさせる\n",
        "#label = label.fit(df3['SMTS'])\n",
        "#ラベルを整数に変換\n",
        "#df3['tissue'] = label.transform(df3['SMTS'])\n",
        "#df3.head()"
      ],
      "execution_count": 0,
      "outputs": []
    },
    {
      "cell_type": "code",
      "metadata": {
        "id": "H1Us-B4h-JKA",
        "colab_type": "code",
        "outputId": "fd3fd637-c984-4454-8215-3c8a9c295b07",
        "colab": {
          "base_uri": "https://localhost:8080/",
          "height": 34
        }
      },
      "source": [
        "ls"
      ],
      "execution_count": 0,
      "outputs": [
        {
          "output_type": "stream",
          "text": [
            "\u001b[0m\u001b[01;34msample_data\u001b[0m/\n"
          ],
          "name": "stdout"
        }
      ]
    },
    {
      "cell_type": "code",
      "metadata": {
        "id": "NNp5F9uox-yo",
        "colab_type": "code",
        "outputId": "8862817b-4633-4503-d46a-5bda5515dcfb",
        "colab": {
          "base_uri": "https://localhost:8080/",
          "height": 168
        }
      },
      "source": [
        "ft5 = np.loadtxt(\"train_data.csv\",delimiter=\",\", skiprows=1)[1:]"
      ],
      "execution_count": 0,
      "outputs": [
        {
          "output_type": "error",
          "ename": "NameError",
          "evalue": "ignored",
          "traceback": [
            "\u001b[0;31m---------------------------------------------------------------------------\u001b[0m",
            "\u001b[0;31mNameError\u001b[0m                                 Traceback (most recent call last)",
            "\u001b[0;32m<ipython-input-1-7717f1cad99d>\u001b[0m in \u001b[0;36m<module>\u001b[0;34m()\u001b[0m\n\u001b[0;32m----> 1\u001b[0;31m \u001b[0mft5\u001b[0m \u001b[0;34m=\u001b[0m \u001b[0mnp\u001b[0m\u001b[0;34m.\u001b[0m\u001b[0mloadtxt\u001b[0m\u001b[0;34m(\u001b[0m\u001b[0;34m\"train_data.csv\"\u001b[0m\u001b[0;34m,\u001b[0m\u001b[0mdelimiter\u001b[0m\u001b[0;34m=\u001b[0m\u001b[0;34m\",\"\u001b[0m\u001b[0;34m,\u001b[0m \u001b[0mskiprows\u001b[0m\u001b[0;34m=\u001b[0m\u001b[0;36m1\u001b[0m\u001b[0;34m)\u001b[0m\u001b[0;34m[\u001b[0m\u001b[0;36m1\u001b[0m\u001b[0;34m:\u001b[0m\u001b[0;34m]\u001b[0m\u001b[0;34m\u001b[0m\u001b[0;34m\u001b[0m\u001b[0m\n\u001b[0m",
            "\u001b[0;31mNameError\u001b[0m: name 'np' is not defined"
          ]
        }
      ]
    },
    {
      "cell_type": "markdown",
      "metadata": {
        "id": "FKgnTFK7Gf_w",
        "colab_type": "text"
      },
      "source": [
        ""
      ]
    },
    {
      "cell_type": "code",
      "metadata": {
        "id": "SWcDxPhV7IKv",
        "colab_type": "code",
        "outputId": "5565d5e2-ff7e-44d9-e1b2-36a23de34ea2",
        "colab": {
          "base_uri": "https://localhost:8080/",
          "height": 331
        }
      },
      "source": [
        "#ft5=pd.read_csv(\"train_data.csv\", delimiter=\",\",dtype=\"float16\",index_col=0)"
      ],
      "execution_count": 0,
      "outputs": [
        {
          "output_type": "error",
          "ename": "KeyboardInterrupt",
          "evalue": "ignored",
          "traceback": [
            "\u001b[0;31m---------------------------------------------------------------------------\u001b[0m",
            "\u001b[0;31mKeyboardInterrupt\u001b[0m                         Traceback (most recent call last)",
            "\u001b[0;32m<ipython-input-18-f2e265683cb5>\u001b[0m in \u001b[0;36m<module>\u001b[0;34m()\u001b[0m\n\u001b[0;32m----> 1\u001b[0;31m \u001b[0mft5\u001b[0m\u001b[0;34m=\u001b[0m\u001b[0mpd\u001b[0m\u001b[0;34m.\u001b[0m\u001b[0mread_csv\u001b[0m\u001b[0;34m(\u001b[0m\u001b[0;34m\"train_data.csv\"\u001b[0m\u001b[0;34m,\u001b[0m \u001b[0mdelimiter\u001b[0m\u001b[0;34m=\u001b[0m\u001b[0;34m\",\"\u001b[0m\u001b[0;34m,\u001b[0m\u001b[0mdtype\u001b[0m\u001b[0;34m=\u001b[0m\u001b[0;34m\"float16\"\u001b[0m\u001b[0;34m,\u001b[0m\u001b[0mindex_col\u001b[0m\u001b[0;34m=\u001b[0m\u001b[0;36m0\u001b[0m\u001b[0;34m)\u001b[0m\u001b[0;34m\u001b[0m\u001b[0;34m\u001b[0m\u001b[0m\n\u001b[0m",
            "\u001b[0;32m/usr/local/lib/python3.6/dist-packages/pandas/io/parsers.py\u001b[0m in \u001b[0;36mparser_f\u001b[0;34m(filepath_or_buffer, sep, delimiter, header, names, index_col, usecols, squeeze, prefix, mangle_dupe_cols, dtype, engine, converters, true_values, false_values, skipinitialspace, skiprows, skipfooter, nrows, na_values, keep_default_na, na_filter, verbose, skip_blank_lines, parse_dates, infer_datetime_format, keep_date_col, date_parser, dayfirst, iterator, chunksize, compression, thousands, decimal, lineterminator, quotechar, quoting, doublequote, escapechar, comment, encoding, dialect, tupleize_cols, error_bad_lines, warn_bad_lines, delim_whitespace, low_memory, memory_map, float_precision)\u001b[0m\n\u001b[1;32m    700\u001b[0m                     skip_blank_lines=skip_blank_lines)\n\u001b[1;32m    701\u001b[0m \u001b[0;34m\u001b[0m\u001b[0m\n\u001b[0;32m--> 702\u001b[0;31m         \u001b[0;32mreturn\u001b[0m \u001b[0m_read\u001b[0m\u001b[0;34m(\u001b[0m\u001b[0mfilepath_or_buffer\u001b[0m\u001b[0;34m,\u001b[0m \u001b[0mkwds\u001b[0m\u001b[0;34m)\u001b[0m\u001b[0;34m\u001b[0m\u001b[0;34m\u001b[0m\u001b[0m\n\u001b[0m\u001b[1;32m    703\u001b[0m \u001b[0;34m\u001b[0m\u001b[0m\n\u001b[1;32m    704\u001b[0m     \u001b[0mparser_f\u001b[0m\u001b[0;34m.\u001b[0m\u001b[0m__name__\u001b[0m \u001b[0;34m=\u001b[0m \u001b[0mname\u001b[0m\u001b[0;34m\u001b[0m\u001b[0;34m\u001b[0m\u001b[0m\n",
            "\u001b[0;32m/usr/local/lib/python3.6/dist-packages/pandas/io/parsers.py\u001b[0m in \u001b[0;36m_read\u001b[0;34m(filepath_or_buffer, kwds)\u001b[0m\n\u001b[1;32m    433\u001b[0m \u001b[0;34m\u001b[0m\u001b[0m\n\u001b[1;32m    434\u001b[0m     \u001b[0;32mtry\u001b[0m\u001b[0;34m:\u001b[0m\u001b[0;34m\u001b[0m\u001b[0;34m\u001b[0m\u001b[0m\n\u001b[0;32m--> 435\u001b[0;31m         \u001b[0mdata\u001b[0m \u001b[0;34m=\u001b[0m \u001b[0mparser\u001b[0m\u001b[0;34m.\u001b[0m\u001b[0mread\u001b[0m\u001b[0;34m(\u001b[0m\u001b[0mnrows\u001b[0m\u001b[0;34m)\u001b[0m\u001b[0;34m\u001b[0m\u001b[0;34m\u001b[0m\u001b[0m\n\u001b[0m\u001b[1;32m    436\u001b[0m     \u001b[0;32mfinally\u001b[0m\u001b[0;34m:\u001b[0m\u001b[0;34m\u001b[0m\u001b[0;34m\u001b[0m\u001b[0m\n\u001b[1;32m    437\u001b[0m         \u001b[0mparser\u001b[0m\u001b[0;34m.\u001b[0m\u001b[0mclose\u001b[0m\u001b[0;34m(\u001b[0m\u001b[0;34m)\u001b[0m\u001b[0;34m\u001b[0m\u001b[0;34m\u001b[0m\u001b[0m\n",
            "\u001b[0;32m/usr/local/lib/python3.6/dist-packages/pandas/io/parsers.py\u001b[0m in \u001b[0;36mread\u001b[0;34m(self, nrows)\u001b[0m\n\u001b[1;32m   1152\u001b[0m             \u001b[0mnew_rows\u001b[0m \u001b[0;34m=\u001b[0m \u001b[0mlen\u001b[0m\u001b[0;34m(\u001b[0m\u001b[0mindex\u001b[0m\u001b[0;34m)\u001b[0m\u001b[0;34m\u001b[0m\u001b[0;34m\u001b[0m\u001b[0m\n\u001b[1;32m   1153\u001b[0m \u001b[0;34m\u001b[0m\u001b[0m\n\u001b[0;32m-> 1154\u001b[0;31m         \u001b[0mdf\u001b[0m \u001b[0;34m=\u001b[0m \u001b[0mDataFrame\u001b[0m\u001b[0;34m(\u001b[0m\u001b[0mcol_dict\u001b[0m\u001b[0;34m,\u001b[0m \u001b[0mcolumns\u001b[0m\u001b[0;34m=\u001b[0m\u001b[0mcolumns\u001b[0m\u001b[0;34m,\u001b[0m \u001b[0mindex\u001b[0m\u001b[0;34m=\u001b[0m\u001b[0mindex\u001b[0m\u001b[0;34m)\u001b[0m\u001b[0;34m\u001b[0m\u001b[0;34m\u001b[0m\u001b[0m\n\u001b[0m\u001b[1;32m   1155\u001b[0m \u001b[0;34m\u001b[0m\u001b[0m\n\u001b[1;32m   1156\u001b[0m         \u001b[0mself\u001b[0m\u001b[0;34m.\u001b[0m\u001b[0m_currow\u001b[0m \u001b[0;34m+=\u001b[0m \u001b[0mnew_rows\u001b[0m\u001b[0;34m\u001b[0m\u001b[0;34m\u001b[0m\u001b[0m\n",
            "\u001b[0;32m/usr/local/lib/python3.6/dist-packages/pandas/core/frame.py\u001b[0m in \u001b[0;36m__init__\u001b[0;34m(self, data, index, columns, dtype, copy)\u001b[0m\n\u001b[1;32m    390\u001b[0m                                  dtype=dtype, copy=copy)\n\u001b[1;32m    391\u001b[0m         \u001b[0;32melif\u001b[0m \u001b[0misinstance\u001b[0m\u001b[0;34m(\u001b[0m\u001b[0mdata\u001b[0m\u001b[0;34m,\u001b[0m \u001b[0mdict\u001b[0m\u001b[0;34m)\u001b[0m\u001b[0;34m:\u001b[0m\u001b[0;34m\u001b[0m\u001b[0;34m\u001b[0m\u001b[0m\n\u001b[0;32m--> 392\u001b[0;31m             \u001b[0mmgr\u001b[0m \u001b[0;34m=\u001b[0m \u001b[0minit_dict\u001b[0m\u001b[0;34m(\u001b[0m\u001b[0mdata\u001b[0m\u001b[0;34m,\u001b[0m \u001b[0mindex\u001b[0m\u001b[0;34m,\u001b[0m \u001b[0mcolumns\u001b[0m\u001b[0;34m,\u001b[0m \u001b[0mdtype\u001b[0m\u001b[0;34m=\u001b[0m\u001b[0mdtype\u001b[0m\u001b[0;34m)\u001b[0m\u001b[0;34m\u001b[0m\u001b[0;34m\u001b[0m\u001b[0m\n\u001b[0m\u001b[1;32m    393\u001b[0m         \u001b[0;32melif\u001b[0m \u001b[0misinstance\u001b[0m\u001b[0;34m(\u001b[0m\u001b[0mdata\u001b[0m\u001b[0;34m,\u001b[0m \u001b[0mma\u001b[0m\u001b[0;34m.\u001b[0m\u001b[0mMaskedArray\u001b[0m\u001b[0;34m)\u001b[0m\u001b[0;34m:\u001b[0m\u001b[0;34m\u001b[0m\u001b[0;34m\u001b[0m\u001b[0m\n\u001b[1;32m    394\u001b[0m             \u001b[0;32mimport\u001b[0m \u001b[0mnumpy\u001b[0m\u001b[0;34m.\u001b[0m\u001b[0mma\u001b[0m\u001b[0;34m.\u001b[0m\u001b[0mmrecords\u001b[0m \u001b[0;32mas\u001b[0m \u001b[0mmrecords\u001b[0m\u001b[0;34m\u001b[0m\u001b[0;34m\u001b[0m\u001b[0m\n",
            "\u001b[0;32m/usr/local/lib/python3.6/dist-packages/pandas/core/internals/construction.py\u001b[0m in \u001b[0;36minit_dict\u001b[0;34m(data, index, columns, dtype)\u001b[0m\n\u001b[1;32m    210\u001b[0m         \u001b[0marrays\u001b[0m \u001b[0;34m=\u001b[0m \u001b[0;34m[\u001b[0m\u001b[0mdata\u001b[0m\u001b[0;34m[\u001b[0m\u001b[0mk\u001b[0m\u001b[0;34m]\u001b[0m \u001b[0;32mfor\u001b[0m \u001b[0mk\u001b[0m \u001b[0;32min\u001b[0m \u001b[0mkeys\u001b[0m\u001b[0;34m]\u001b[0m\u001b[0;34m\u001b[0m\u001b[0;34m\u001b[0m\u001b[0m\n\u001b[1;32m    211\u001b[0m \u001b[0;34m\u001b[0m\u001b[0m\n\u001b[0;32m--> 212\u001b[0;31m     \u001b[0;32mreturn\u001b[0m \u001b[0marrays_to_mgr\u001b[0m\u001b[0;34m(\u001b[0m\u001b[0marrays\u001b[0m\u001b[0;34m,\u001b[0m \u001b[0mdata_names\u001b[0m\u001b[0;34m,\u001b[0m \u001b[0mindex\u001b[0m\u001b[0;34m,\u001b[0m \u001b[0mcolumns\u001b[0m\u001b[0;34m,\u001b[0m \u001b[0mdtype\u001b[0m\u001b[0;34m=\u001b[0m\u001b[0mdtype\u001b[0m\u001b[0;34m)\u001b[0m\u001b[0;34m\u001b[0m\u001b[0;34m\u001b[0m\u001b[0m\n\u001b[0m\u001b[1;32m    213\u001b[0m \u001b[0;34m\u001b[0m\u001b[0m\n\u001b[1;32m    214\u001b[0m \u001b[0;34m\u001b[0m\u001b[0m\n",
            "\u001b[0;32m/usr/local/lib/python3.6/dist-packages/pandas/core/internals/construction.py\u001b[0m in \u001b[0;36marrays_to_mgr\u001b[0;34m(arrays, arr_names, index, columns, dtype)\u001b[0m\n\u001b[1;32m     59\u001b[0m     \u001b[0maxes\u001b[0m \u001b[0;34m=\u001b[0m \u001b[0;34m[\u001b[0m\u001b[0mensure_index\u001b[0m\u001b[0;34m(\u001b[0m\u001b[0mcolumns\u001b[0m\u001b[0;34m)\u001b[0m\u001b[0;34m,\u001b[0m \u001b[0mindex\u001b[0m\u001b[0;34m]\u001b[0m\u001b[0;34m\u001b[0m\u001b[0;34m\u001b[0m\u001b[0m\n\u001b[1;32m     60\u001b[0m \u001b[0;34m\u001b[0m\u001b[0m\n\u001b[0;32m---> 61\u001b[0;31m     \u001b[0;32mreturn\u001b[0m \u001b[0mcreate_block_manager_from_arrays\u001b[0m\u001b[0;34m(\u001b[0m\u001b[0marrays\u001b[0m\u001b[0;34m,\u001b[0m \u001b[0marr_names\u001b[0m\u001b[0;34m,\u001b[0m \u001b[0maxes\u001b[0m\u001b[0;34m)\u001b[0m\u001b[0;34m\u001b[0m\u001b[0;34m\u001b[0m\u001b[0m\n\u001b[0m\u001b[1;32m     62\u001b[0m \u001b[0;34m\u001b[0m\u001b[0m\n\u001b[1;32m     63\u001b[0m \u001b[0;34m\u001b[0m\u001b[0m\n",
            "\u001b[0;32m/usr/local/lib/python3.6/dist-packages/pandas/core/internals/managers.py\u001b[0m in \u001b[0;36mcreate_block_manager_from_arrays\u001b[0;34m(arrays, names, axes)\u001b[0m\n\u001b[1;32m   1664\u001b[0m \u001b[0;34m\u001b[0m\u001b[0m\n\u001b[1;32m   1665\u001b[0m     \u001b[0;32mtry\u001b[0m\u001b[0;34m:\u001b[0m\u001b[0;34m\u001b[0m\u001b[0;34m\u001b[0m\u001b[0m\n\u001b[0;32m-> 1666\u001b[0;31m         \u001b[0mblocks\u001b[0m \u001b[0;34m=\u001b[0m \u001b[0mform_blocks\u001b[0m\u001b[0;34m(\u001b[0m\u001b[0marrays\u001b[0m\u001b[0;34m,\u001b[0m \u001b[0mnames\u001b[0m\u001b[0;34m,\u001b[0m \u001b[0maxes\u001b[0m\u001b[0;34m)\u001b[0m\u001b[0;34m\u001b[0m\u001b[0;34m\u001b[0m\u001b[0m\n\u001b[0m\u001b[1;32m   1667\u001b[0m         \u001b[0mmgr\u001b[0m \u001b[0;34m=\u001b[0m \u001b[0mBlockManager\u001b[0m\u001b[0;34m(\u001b[0m\u001b[0mblocks\u001b[0m\u001b[0;34m,\u001b[0m \u001b[0maxes\u001b[0m\u001b[0;34m)\u001b[0m\u001b[0;34m\u001b[0m\u001b[0;34m\u001b[0m\u001b[0m\n\u001b[1;32m   1668\u001b[0m         \u001b[0mmgr\u001b[0m\u001b[0;34m.\u001b[0m\u001b[0m_consolidate_inplace\u001b[0m\u001b[0;34m(\u001b[0m\u001b[0;34m)\u001b[0m\u001b[0;34m\u001b[0m\u001b[0;34m\u001b[0m\u001b[0m\n",
            "\u001b[0;32m/usr/local/lib/python3.6/dist-packages/pandas/core/internals/managers.py\u001b[0m in \u001b[0;36mform_blocks\u001b[0;34m(arrays, names, axes)\u001b[0m\n\u001b[1;32m   1715\u001b[0m         \u001b[0mv\u001b[0m \u001b[0;34m=\u001b[0m \u001b[0marrays\u001b[0m\u001b[0;34m[\u001b[0m\u001b[0mname_idx\u001b[0m\u001b[0;34m]\u001b[0m\u001b[0;34m\u001b[0m\u001b[0;34m\u001b[0m\u001b[0m\n\u001b[1;32m   1716\u001b[0m \u001b[0;34m\u001b[0m\u001b[0m\n\u001b[0;32m-> 1717\u001b[0;31m         \u001b[0mblock_type\u001b[0m \u001b[0;34m=\u001b[0m \u001b[0mget_block_type\u001b[0m\u001b[0;34m(\u001b[0m\u001b[0mv\u001b[0m\u001b[0;34m)\u001b[0m\u001b[0;34m\u001b[0m\u001b[0;34m\u001b[0m\u001b[0m\n\u001b[0m\u001b[1;32m   1718\u001b[0m         \u001b[0mitems_dict\u001b[0m\u001b[0;34m[\u001b[0m\u001b[0mblock_type\u001b[0m\u001b[0;34m.\u001b[0m\u001b[0m__name__\u001b[0m\u001b[0;34m]\u001b[0m\u001b[0;34m.\u001b[0m\u001b[0mappend\u001b[0m\u001b[0;34m(\u001b[0m\u001b[0;34m(\u001b[0m\u001b[0mi\u001b[0m\u001b[0;34m,\u001b[0m \u001b[0mk\u001b[0m\u001b[0;34m,\u001b[0m \u001b[0mv\u001b[0m\u001b[0;34m)\u001b[0m\u001b[0;34m)\u001b[0m\u001b[0;34m\u001b[0m\u001b[0;34m\u001b[0m\u001b[0m\n\u001b[1;32m   1719\u001b[0m \u001b[0;34m\u001b[0m\u001b[0m\n",
            "\u001b[0;32m/usr/local/lib/python3.6/dist-packages/pandas/core/internals/blocks.py\u001b[0m in \u001b[0;36mget_block_type\u001b[0;34m(values, dtype)\u001b[0m\n\u001b[1;32m   3046\u001b[0m     \"\"\"\n\u001b[1;32m   3047\u001b[0m     \u001b[0mdtype\u001b[0m \u001b[0;34m=\u001b[0m \u001b[0mdtype\u001b[0m \u001b[0;32mor\u001b[0m \u001b[0mvalues\u001b[0m\u001b[0;34m.\u001b[0m\u001b[0mdtype\u001b[0m\u001b[0;34m\u001b[0m\u001b[0;34m\u001b[0m\u001b[0m\n\u001b[0;32m-> 3048\u001b[0;31m     \u001b[0mvtype\u001b[0m \u001b[0;34m=\u001b[0m \u001b[0mdtype\u001b[0m\u001b[0;34m.\u001b[0m\u001b[0mtype\u001b[0m\u001b[0;34m\u001b[0m\u001b[0;34m\u001b[0m\u001b[0m\n\u001b[0m\u001b[1;32m   3049\u001b[0m \u001b[0;34m\u001b[0m\u001b[0m\n\u001b[1;32m   3050\u001b[0m     \u001b[0;32mif\u001b[0m \u001b[0mis_sparse\u001b[0m\u001b[0;34m(\u001b[0m\u001b[0mdtype\u001b[0m\u001b[0;34m)\u001b[0m\u001b[0;34m:\u001b[0m\u001b[0;34m\u001b[0m\u001b[0;34m\u001b[0m\u001b[0m\n",
            "\u001b[0;31mKeyboardInterrupt\u001b[0m: "
          ]
        }
      ]
    },
    {
      "cell_type": "code",
      "metadata": {
        "id": "r-8KOWNHtpGy",
        "colab_type": "code",
        "outputId": "5ad80cee-45e4-4be3-828b-74e1008eabcf",
        "colab": {
          "base_uri": "https://localhost:8080/",
          "height": 153
        }
      },
      "source": [
        "print(ft5.head())"
      ],
      "execution_count": 0,
      "outputs": [
        {
          "output_type": "stream",
          "text": [
            "            0          1         2  ...    56199     56200     56201\n",
            "3.0  0.108215  21.406250  0.160156  ...   6856.0  0.932129  0.000000\n",
            "4.0  0.081787  15.031250  0.000000  ...  26016.0  6.339844  6.156250\n",
            "5.0  0.000000  17.531250  0.000000  ...   8376.0  1.025391  0.994629\n",
            "6.0  0.000000  23.812500  0.000000  ...   8680.0  0.000000  0.000000\n",
            "7.0  0.022705   7.441406  0.151367  ...  29088.0  0.000000  1.139648\n",
            "\n",
            "[5 rows x 56202 columns]\n"
          ],
          "name": "stdout"
        }
      ]
    },
    {
      "cell_type": "code",
      "metadata": {
        "id": "2tl1L57V0R6U",
        "colab_type": "code",
        "colab": {}
      },
      "source": [
        "df5 = np.loadtxt(\"value_data.csv\",delimiter=\",\", skiprows=1)[1:]"
      ],
      "execution_count": 0,
      "outputs": []
    },
    {
      "cell_type": "code",
      "metadata": {
        "id": "JuTkJyhe7r5R",
        "colab_type": "code",
        "colab": {}
      },
      "source": [
        "#df4=pd.read_csv(\"value_data.csv\", delimiter=\",\",dtype=\"float16\",index_col=0).values"
      ],
      "execution_count": 0,
      "outputs": []
    },
    {
      "cell_type": "code",
      "metadata": {
        "id": "s03hwMQnzBi3",
        "colab_type": "code",
        "outputId": "6f16c277-a1e8-4c21-955f-87785375364e",
        "colab": {
          "base_uri": "https://localhost:8080/",
          "height": 51
        }
      },
      "source": [
        "X_train, X_test, y_train, y_test =train_test_split(ft5.values,df4.values)\n",
        "print(ft5.shape,X_train.shape,y_train.shape)\n",
        "print(df4.shape,X_test.shape,y_test.shape)"
      ],
      "execution_count": 0,
      "outputs": [
        {
          "output_type": "stream",
          "text": [
            "(11688, 56202) (8766, 56202) (8766, 1)\n",
            "(11688, 1) (2922, 56202) (2922, 1)\n"
          ],
          "name": "stdout"
        }
      ]
    },
    {
      "cell_type": "code",
      "metadata": {
        "id": "cESdoo9Hukal",
        "colab_type": "code",
        "outputId": "2ba102cd-e5b5-40fd-ffec-91acbcca5868",
        "colab": {
          "base_uri": "https://localhost:8080/",
          "height": 168
        }
      },
      "source": [
        "print((X_test))"
      ],
      "execution_count": 0,
      "outputs": [
        {
          "output_type": "error",
          "ename": "TypeError",
          "evalue": "ignored",
          "traceback": [
            "\u001b[0;31m---------------------------------------------------------------------------\u001b[0m",
            "\u001b[0;31mTypeError\u001b[0m                                 Traceback (most recent call last)",
            "\u001b[0;32m<ipython-input-28-93d7f1da74ed>\u001b[0m in \u001b[0;36m<module>\u001b[0;34m()\u001b[0m\n\u001b[0;32m----> 1\u001b[0;31m \u001b[0mprint\u001b[0m\u001b[0;34m(\u001b[0m\u001b[0mfloat\u001b[0m\u001b[0;34m(\u001b[0m\u001b[0mX_test\u001b[0m\u001b[0;34m)\u001b[0m\u001b[0;34m)\u001b[0m\u001b[0;34m\u001b[0m\u001b[0;34m\u001b[0m\u001b[0m\n\u001b[0m",
            "\u001b[0;31mTypeError\u001b[0m: only size-1 arrays can be converted to Python scalars"
          ]
        }
      ]
    },
    {
      "cell_type": "code",
      "metadata": {
        "id": "-_u3ObyCuNZ-",
        "colab_type": "code",
        "outputId": "becfa081-c129-4d7a-8cab-0d9b74dc6b5c",
        "colab": {
          "base_uri": "https://localhost:8080/",
          "height": 256
        }
      },
      "source": [
        "clf_lr = LogisticRegression(solver='lbfgs', C=1,  multi_class= \"auto\", max_iter=1000)#モデルの生成\n",
        "clf_lr.fit(X_train, y_train)#モデルの生成\n",
        "lr_p= clf_lr.predict(X_test)#テストデータに伴う予測値\n",
        "ac_score_lr = metrics.accuracy_score(y_test, lr_p)\n",
        "print(ac_score_lr)"
      ],
      "execution_count": 0,
      "outputs": [
        {
          "output_type": "error",
          "ename": "NameError",
          "evalue": "ignored",
          "traceback": [
            "\u001b[0;31m---------------------------------------------------------------------------\u001b[0m",
            "\u001b[0;31mNameError\u001b[0m                                 Traceback (most recent call last)",
            "\u001b[0;32m<ipython-input-3-a8c7c5eb16d4>\u001b[0m in \u001b[0;36m<module>\u001b[0;34m()\u001b[0m\n\u001b[1;32m      1\u001b[0m \u001b[0mclf_lr\u001b[0m \u001b[0;34m=\u001b[0m \u001b[0mLogisticRegression\u001b[0m\u001b[0;34m(\u001b[0m\u001b[0msolver\u001b[0m\u001b[0;34m=\u001b[0m\u001b[0;34m'lbfgs'\u001b[0m\u001b[0;34m,\u001b[0m \u001b[0mC\u001b[0m\u001b[0;34m=\u001b[0m\u001b[0;36m1\u001b[0m\u001b[0;34m,\u001b[0m  \u001b[0mmulti_class\u001b[0m\u001b[0;34m=\u001b[0m \u001b[0;34m\"auto\"\u001b[0m\u001b[0;34m,\u001b[0m \u001b[0mmax_iter\u001b[0m\u001b[0;34m=\u001b[0m\u001b[0;36m1000\u001b[0m\u001b[0;34m)\u001b[0m\u001b[0;31m#モデルの生成\u001b[0m\u001b[0;34m\u001b[0m\u001b[0;34m\u001b[0m\u001b[0m\n\u001b[0;32m----> 2\u001b[0;31m \u001b[0mclf_lr\u001b[0m\u001b[0;34m.\u001b[0m\u001b[0mfit\u001b[0m\u001b[0;34m(\u001b[0m\u001b[0mX_train\u001b[0m\u001b[0;34m,\u001b[0m \u001b[0my_train\u001b[0m\u001b[0;34m)\u001b[0m\u001b[0;31m#モデルの生成\u001b[0m\u001b[0;34m\u001b[0m\u001b[0;34m\u001b[0m\u001b[0m\n\u001b[0m\u001b[1;32m      3\u001b[0m \u001b[0mlr_p\u001b[0m\u001b[0;34m=\u001b[0m \u001b[0mclf_lr\u001b[0m\u001b[0;34m.\u001b[0m\u001b[0mpredict\u001b[0m\u001b[0;34m(\u001b[0m\u001b[0mX_test\u001b[0m\u001b[0;34m)\u001b[0m\u001b[0;31m#テストデータに伴う予測値\u001b[0m\u001b[0;34m\u001b[0m\u001b[0;34m\u001b[0m\u001b[0m\n\u001b[1;32m      4\u001b[0m \u001b[0mac_score_lr\u001b[0m \u001b[0;34m=\u001b[0m \u001b[0mmetrics\u001b[0m\u001b[0;34m.\u001b[0m\u001b[0maccuracy_score\u001b[0m\u001b[0;34m(\u001b[0m\u001b[0my_test\u001b[0m\u001b[0;34m,\u001b[0m \u001b[0mlr_p\u001b[0m\u001b[0;34m)\u001b[0m\u001b[0;34m\u001b[0m\u001b[0;34m\u001b[0m\u001b[0m\n\u001b[1;32m      5\u001b[0m \u001b[0mprint\u001b[0m\u001b[0;34m(\u001b[0m\u001b[0mac_score_lr\u001b[0m\u001b[0;34m)\u001b[0m\u001b[0;34m\u001b[0m\u001b[0;34m\u001b[0m\u001b[0m\n",
            "\u001b[0;31mNameError\u001b[0m: name 'X_train' is not defined"
          ]
        }
      ]
    },
    {
      "cell_type": "code",
      "metadata": {
        "id": "ht4ITk5-nb41",
        "colab_type": "code",
        "outputId": "6912f577-8ca5-40b4-f5b9-1129c186c2ea",
        "colab": {
          "base_uri": "https://localhost:8080/",
          "height": 136
        }
      },
      "source": [
        "print(ft5.values)"
      ],
      "execution_count": 0,
      "outputs": [
        {
          "output_type": "stream",
          "text": [
            "[[1.082e-01 2.141e+01 1.602e-01 ... 6.856e+03 9.321e-01 0.000e+00]\n",
            " [8.179e-02 1.503e+01 0.000e+00 ... 2.602e+04 6.340e+00 6.156e+00]\n",
            " [0.000e+00 1.753e+01 0.000e+00 ... 8.376e+03 1.025e+00 9.946e-01]\n",
            " ...\n",
            " [7.794e-02 1.035e+01 0.000e+00 ... 1.885e+04 0.000e+00 2.607e+00]\n",
            " [1.181e-01 6.262e+00 1.312e-01 ... 3.622e+04 4.731e+01 4.445e+00]\n",
            " [0.000e+00 7.699e+00 0.000e+00 ... 2.752e+04 3.277e+00 6.362e-01]]\n"
          ],
          "name": "stdout"
        }
      ]
    },
    {
      "cell_type": "markdown",
      "metadata": {
        "id": "EWfF8A8dKOPp",
        "colab_type": "text"
      },
      "source": [
        ""
      ]
    },
    {
      "cell_type": "code",
      "metadata": {
        "id": "PVGADm8Um0C4",
        "colab_type": "code",
        "colab": {}
      },
      "source": [
        "df5=np.identity(30)[df4.values.flatten().astype(int)]"
      ],
      "execution_count": 0,
      "outputs": []
    },
    {
      "cell_type": "code",
      "metadata": {
        "id": "n0DHxGWfHV8H",
        "colab_type": "code",
        "outputId": "9fb728a2-b735-48dc-c929-885fd621354e",
        "colab": {
          "base_uri": "https://localhost:8080/",
          "height": 51
        }
      },
      "source": [
        "X_train, X_test, y_train, y_test =train_test_split(ft5,df5)\n",
        "print(ft4.shape,X_train.shape,y_train.shape)\n",
        "print(df4.shape,X_test.shape,y_test.shape)"
      ],
      "execution_count": 0,
      "outputs": [
        {
          "output_type": "stream",
          "text": [
            "(11688, 56203) (8766, 56202) (8766, 30)\n",
            "(11688, 1) (2922, 56202) (2922, 30)\n"
          ],
          "name": "stdout"
        }
      ]
    },
    {
      "cell_type": "code",
      "metadata": {
        "id": "swFEYzJSU61M",
        "colab_type": "code",
        "outputId": "498df4ed-970d-4c82-d0ce-1a709cad4c13",
        "colab": {
          "base_uri": "https://localhost:8080/",
          "height": 1717
        }
      },
      "source": [
        "import tensorflow as tf\n",
        "from sklearn.utils import shuffle\n",
        "from sklearn.metrics import accuracy_score\n",
        "import math\n",
        "n_in = 56202\n",
        "n_out = 30\n",
        "x = tf.placeholder(tf.float32,[None,n_in])\n",
        "t = tf.placeholder(tf.float32,[None,n_out])\n",
        "is_training = tf.placeholder(tf.bool)\n",
        "\n",
        "#モデル構築\n",
        "#W = tf.Variable(tf.zeros([n_in, n_out]))\n",
        "#b = tf.Variable(tf.zeros([n_out]))\n",
        "#y = tf.matmul(x, W) + b\n",
        "\n",
        "\n",
        "#####\n",
        "class Dense:\n",
        "    def __init__(self, in_dim, out_dim, function=lambda x: x):\n",
        "        self.W = tf.Variable(tf.random_uniform(shape=(in_dim, out_dim), minval=-0.08, maxval=0.08), name='W')\n",
        "        self.b = tf.Variable(tf.zeros(out_dim), name='b')\n",
        "        self.function = function\n",
        "        \n",
        "        self.params = [self.W, self.b]\n",
        "    \n",
        "    def __call__(self, x):\n",
        "        return self.function(tf.matmul(x, self.W) + self.b)\n",
        "\n",
        "def sgd(cost, params, eta=0.1):\n",
        "    grads = tf.gradients(cost, params)\n",
        "    updates = []\n",
        "    for param, grad in zip(params, grads):\n",
        "        updates.append(param.assign_sub(eta * grad))\n",
        "    return updates\n",
        "\n",
        "def tf_log(x):\n",
        "    return tf.log(tf.clip_by_value(x, 1e-10, x))\n",
        "dropout_keep_prob = 0.5\n",
        "class Dropout:\n",
        "    def __init__(self, dropout_keep_prob=1.0):\n",
        "        self.dropout_keep_prob = dropout_keep_prob\n",
        "        self.params = []\n",
        "    \n",
        "    def __call__(self, x):\n",
        "        # 訓練時のみdropoutを適用\n",
        "        return tf.cond(\n",
        "            pred=is_training,\n",
        "            true_fn=lambda: tf.nn.dropout(x, keep_prob=self.dropout_keep_prob),\n",
        "            false_fn=lambda: x\n",
        "        )\n",
        "\n",
        "layers = [\n",
        "    Dense(56202, 1000, tf.nn.relu),\n",
        "    Dropout(dropout_keep_prob),\n",
        "    Dense(1000, 200, tf.nn.relu),\n",
        "    Dropout(dropout_keep_prob),\n",
        "    Dense(200, 30, tf.nn.softmax)\n",
        "]\n",
        "params = []\n",
        "h = x\n",
        "for layer in layers:\n",
        "    h = layer(h)\n",
        "    params += layer.params\n",
        "y = h\n",
        "\n",
        "cost = - tf.reduce_mean(tf.reduce_sum(t * tf.log(y) + (1 - t) * tf.log(1 - y), axis=1))\n",
        "\n",
        "\n",
        "updates = sgd(cost, params)\n",
        "train = tf.group(*updates)\n",
        "###\n",
        "#cross_entropy = tf.reduce_mean(\n",
        "#    tf.nn.softmax_cross_entropy_with_logits(labels=t, logits=y))\n",
        "#train = tf.train.GradientDescentOptimizer(0.5).minimize(cross_entropy)\n",
        "\n",
        "\n",
        "\n",
        "\n",
        "n_epochs = 10\n",
        "batch_size = 1000\n",
        "n_batches = math.ceil(len(X_train) / batch_size)\n",
        "\n",
        "sess = tf.Session()\n",
        "sess.run(tf.global_variables_initializer())\n",
        "for epoch in range(n_epochs):\n",
        "    X_train, y_train = shuffle(X_train, y_train)\n",
        "    print(X_train.shape)\n",
        "    for i in range(n_batches):\n",
        "        start = i * batch_size\n",
        "        end = start + batch_size\n",
        "        #print(X_train.shape,start,end)\n",
        "        sess.run(train, feed_dict={x: X_train[start:end], t: y_train[start:end], is_training: True})\n",
        "        #print(X_train.shape)\n",
        "        y_pred, cost_valid_ = sess.run([y, cost], feed_dict={x: X_test, t: y_test, is_training: False})\n",
        "        print('EPOCH: {}, Valid Cost: {:.3f}, Valid Accuracy: {:.3f}'.format(\n",
        "            epoch + 1,\n",
        "            cost_valid_,\n",
        "            accuracy_score(y_test.argmax(axis=1), y_pred.argmax(axis=1))\n",
        "        ))\n",
        "    #loss, acc = sess.run([cross_entropy, accuracy], feed_dict={x: X_test, t: y_test})\n",
        "    #print('epoch: {:2}, loss: {:.5f}, accuracy: {:.5f}'.format(epoch, loss, acc))\n",
        "        #y_pred, cost_valid_ = sess.run([cross_entropy, cost], feed_dict={x: X_test, t: y_test, is_training: False})\n",
        "        #print('epoch: {:2}, loss: {:.5f}, accuracy: {:.5f}'.format(epoch,cost_valid_,y_pred, cost_valid_))\n",
        "   # print('EPOCH: {}, Valid Cost: {:.3f}, Valid Accuracy: {:.3f}'.format(\n",
        "    #      epoch + 1,\n",
        "     #     cost_valid_,\n",
        "     #     accuracy_score(y_test.argmax(axis=1), y_pred.argmax(axis=1))\n",
        "    #))\n",
        "\n"
      ],
      "execution_count": 0,
      "outputs": [
        {
          "output_type": "stream",
          "text": [
            "(8766, 56202)\n",
            "EPOCH: 1, Valid Cost: nan, Valid Accuracy: 0.073\n",
            "EPOCH: 1, Valid Cost: nan, Valid Accuracy: 0.073\n",
            "EPOCH: 1, Valid Cost: nan, Valid Accuracy: 0.073\n",
            "EPOCH: 1, Valid Cost: nan, Valid Accuracy: 0.073\n",
            "EPOCH: 1, Valid Cost: nan, Valid Accuracy: 0.073\n",
            "EPOCH: 1, Valid Cost: nan, Valid Accuracy: 0.073\n",
            "EPOCH: 1, Valid Cost: nan, Valid Accuracy: 0.073\n",
            "EPOCH: 1, Valid Cost: nan, Valid Accuracy: 0.073\n",
            "EPOCH: 1, Valid Cost: nan, Valid Accuracy: 0.073\n",
            "(8766, 56202)\n",
            "EPOCH: 2, Valid Cost: nan, Valid Accuracy: 0.073\n",
            "EPOCH: 2, Valid Cost: nan, Valid Accuracy: 0.073\n",
            "EPOCH: 2, Valid Cost: nan, Valid Accuracy: 0.073\n",
            "EPOCH: 2, Valid Cost: nan, Valid Accuracy: 0.073\n",
            "EPOCH: 2, Valid Cost: nan, Valid Accuracy: 0.073\n",
            "EPOCH: 2, Valid Cost: nan, Valid Accuracy: 0.073\n",
            "EPOCH: 2, Valid Cost: nan, Valid Accuracy: 0.073\n",
            "EPOCH: 2, Valid Cost: nan, Valid Accuracy: 0.073\n",
            "EPOCH: 2, Valid Cost: nan, Valid Accuracy: 0.073\n",
            "(8766, 56202)\n",
            "EPOCH: 3, Valid Cost: nan, Valid Accuracy: 0.073\n",
            "EPOCH: 3, Valid Cost: nan, Valid Accuracy: 0.073\n",
            "EPOCH: 3, Valid Cost: nan, Valid Accuracy: 0.073\n",
            "EPOCH: 3, Valid Cost: nan, Valid Accuracy: 0.073\n",
            "EPOCH: 3, Valid Cost: nan, Valid Accuracy: 0.073\n",
            "EPOCH: 3, Valid Cost: nan, Valid Accuracy: 0.073\n",
            "EPOCH: 3, Valid Cost: nan, Valid Accuracy: 0.073\n",
            "EPOCH: 3, Valid Cost: nan, Valid Accuracy: 0.073\n",
            "EPOCH: 3, Valid Cost: nan, Valid Accuracy: 0.073\n",
            "(8766, 56202)\n",
            "EPOCH: 4, Valid Cost: nan, Valid Accuracy: 0.073\n",
            "EPOCH: 4, Valid Cost: nan, Valid Accuracy: 0.073\n",
            "EPOCH: 4, Valid Cost: nan, Valid Accuracy: 0.073\n",
            "EPOCH: 4, Valid Cost: nan, Valid Accuracy: 0.073\n",
            "EPOCH: 4, Valid Cost: nan, Valid Accuracy: 0.073\n",
            "EPOCH: 4, Valid Cost: nan, Valid Accuracy: 0.073\n",
            "EPOCH: 4, Valid Cost: nan, Valid Accuracy: 0.073\n",
            "EPOCH: 4, Valid Cost: nan, Valid Accuracy: 0.073\n",
            "EPOCH: 4, Valid Cost: nan, Valid Accuracy: 0.073\n",
            "(8766, 56202)\n",
            "EPOCH: 5, Valid Cost: nan, Valid Accuracy: 0.073\n",
            "EPOCH: 5, Valid Cost: nan, Valid Accuracy: 0.073\n",
            "EPOCH: 5, Valid Cost: nan, Valid Accuracy: 0.073\n",
            "EPOCH: 5, Valid Cost: nan, Valid Accuracy: 0.073\n",
            "EPOCH: 5, Valid Cost: nan, Valid Accuracy: 0.073\n",
            "EPOCH: 5, Valid Cost: nan, Valid Accuracy: 0.073\n",
            "EPOCH: 5, Valid Cost: nan, Valid Accuracy: 0.073\n",
            "EPOCH: 5, Valid Cost: nan, Valid Accuracy: 0.073\n",
            "EPOCH: 5, Valid Cost: nan, Valid Accuracy: 0.073\n",
            "(8766, 56202)\n",
            "EPOCH: 6, Valid Cost: nan, Valid Accuracy: 0.073\n",
            "EPOCH: 6, Valid Cost: nan, Valid Accuracy: 0.073\n",
            "EPOCH: 6, Valid Cost: nan, Valid Accuracy: 0.073\n",
            "EPOCH: 6, Valid Cost: nan, Valid Accuracy: 0.073\n",
            "EPOCH: 6, Valid Cost: nan, Valid Accuracy: 0.073\n",
            "EPOCH: 6, Valid Cost: nan, Valid Accuracy: 0.073\n",
            "EPOCH: 6, Valid Cost: nan, Valid Accuracy: 0.073\n",
            "EPOCH: 6, Valid Cost: nan, Valid Accuracy: 0.073\n",
            "EPOCH: 6, Valid Cost: nan, Valid Accuracy: 0.073\n",
            "(8766, 56202)\n",
            "EPOCH: 7, Valid Cost: nan, Valid Accuracy: 0.073\n",
            "EPOCH: 7, Valid Cost: nan, Valid Accuracy: 0.073\n",
            "EPOCH: 7, Valid Cost: nan, Valid Accuracy: 0.073\n",
            "EPOCH: 7, Valid Cost: nan, Valid Accuracy: 0.073\n",
            "EPOCH: 7, Valid Cost: nan, Valid Accuracy: 0.073\n",
            "EPOCH: 7, Valid Cost: nan, Valid Accuracy: 0.073\n",
            "EPOCH: 7, Valid Cost: nan, Valid Accuracy: 0.073\n",
            "EPOCH: 7, Valid Cost: nan, Valid Accuracy: 0.073\n",
            "EPOCH: 7, Valid Cost: nan, Valid Accuracy: 0.073\n",
            "(8766, 56202)\n",
            "EPOCH: 8, Valid Cost: nan, Valid Accuracy: 0.073\n",
            "EPOCH: 8, Valid Cost: nan, Valid Accuracy: 0.073\n",
            "EPOCH: 8, Valid Cost: nan, Valid Accuracy: 0.073\n",
            "EPOCH: 8, Valid Cost: nan, Valid Accuracy: 0.073\n",
            "EPOCH: 8, Valid Cost: nan, Valid Accuracy: 0.073\n",
            "EPOCH: 8, Valid Cost: nan, Valid Accuracy: 0.073\n",
            "EPOCH: 8, Valid Cost: nan, Valid Accuracy: 0.073\n",
            "EPOCH: 8, Valid Cost: nan, Valid Accuracy: 0.073\n",
            "EPOCH: 8, Valid Cost: nan, Valid Accuracy: 0.073\n",
            "(8766, 56202)\n",
            "EPOCH: 9, Valid Cost: nan, Valid Accuracy: 0.073\n",
            "EPOCH: 9, Valid Cost: nan, Valid Accuracy: 0.073\n",
            "EPOCH: 9, Valid Cost: nan, Valid Accuracy: 0.073\n",
            "EPOCH: 9, Valid Cost: nan, Valid Accuracy: 0.073\n",
            "EPOCH: 9, Valid Cost: nan, Valid Accuracy: 0.073\n",
            "EPOCH: 9, Valid Cost: nan, Valid Accuracy: 0.073\n",
            "EPOCH: 9, Valid Cost: nan, Valid Accuracy: 0.073\n",
            "EPOCH: 9, Valid Cost: nan, Valid Accuracy: 0.073\n",
            "EPOCH: 9, Valid Cost: nan, Valid Accuracy: 0.073\n",
            "(8766, 56202)\n",
            "EPOCH: 10, Valid Cost: nan, Valid Accuracy: 0.073\n",
            "EPOCH: 10, Valid Cost: nan, Valid Accuracy: 0.073\n",
            "EPOCH: 10, Valid Cost: nan, Valid Accuracy: 0.073\n",
            "EPOCH: 10, Valid Cost: nan, Valid Accuracy: 0.073\n",
            "EPOCH: 10, Valid Cost: nan, Valid Accuracy: 0.073\n",
            "EPOCH: 10, Valid Cost: nan, Valid Accuracy: 0.073\n",
            "EPOCH: 10, Valid Cost: nan, Valid Accuracy: 0.073\n",
            "EPOCH: 10, Valid Cost: nan, Valid Accuracy: 0.073\n",
            "EPOCH: 10, Valid Cost: nan, Valid Accuracy: 0.073\n"
          ],
          "name": "stdout"
        }
      ]
    },
    {
      "cell_type": "code",
      "metadata": {
        "id": "oWtRS0eMflFx",
        "colab_type": "code",
        "outputId": "6d0cf99c-c438-48ad-a99d-513961964416",
        "colab": {
          "base_uri": "https://localhost:8080/",
          "height": 34
        }
      },
      "source": [
        "print(X_train.shape,y_train.shape)"
      ],
      "execution_count": 0,
      "outputs": [
        {
          "output_type": "stream",
          "text": [
            "(8766, 56202) (8766, 30)\n"
          ],
          "name": "stdout"
        }
      ]
    },
    {
      "cell_type": "code",
      "metadata": {
        "id": "CTMMY1eotTAK",
        "colab_type": "code",
        "outputId": "897b109f-610a-44e7-f352-6c719384d24e",
        "colab": {
          "base_uri": "https://localhost:8080/",
          "height": 136
        }
      },
      "source": [
        "print(X_train)"
      ],
      "execution_count": 0,
      "outputs": [
        {
          "output_type": "stream",
          "text": [
            "[[7.513e-02 3.528e+01 8.344e-02 ... 6.780e+03 0.000e+00 9.424e-01]\n",
            " [0.000e+00 2.023e+01 1.407e-01 ... 2.045e+04 1.637e+00 1.589e+00]\n",
            " [2.124e-02 1.566e+01 9.436e-02 ... 2.674e+04 2.195e+00 2.133e+00]\n",
            " ...\n",
            " [2.170e-01 1.315e+01 1.071e-01 ... 3.098e+04 2.492e+00 3.629e+00]\n",
            " [1.279e-01 7.828e+00 1.421e-01 ... 3.690e+04 1.653e+00 1.605e+00]\n",
            " [0.000e+00 1.525e+01 2.144e-01 ... 2.019e+04 5.816e+00 5.648e+00]]\n"
          ],
          "name": "stdout"
        }
      ]
    },
    {
      "cell_type": "code",
      "metadata": {
        "id": "s9vHOWysta_k",
        "colab_type": "code",
        "colab": {}
      },
      "source": [
        ""
      ],
      "execution_count": 0,
      "outputs": []
    }
  ]
}